{
 "cells": [
  {
   "cell_type": "markdown",
   "metadata": {},
   "source": [
    "# Collecting & Storing Data"
   ]
  },
  {
   "cell_type": "code",
   "execution_count": null,
   "metadata": {
    "collapsed": true
   },
   "outputs": [],
   "source": [
    "# collecting data from Article search API"
   ]
  },
  {
   "cell_type": "code",
   "execution_count": null,
   "metadata": {
    "collapsed": true
   },
   "outputs": [],
   "source": [
    "import requests                                             #importing requests module for making calls to the api\n",
    "import json                                                 #importing json to write data directly to json files\n",
    "import os                                                   #importing os fetch the value of environment variable\n",
    "import time                                                 #importing time module to use sleep function\n",
    "\n",
    "for i in range (0,121):                                     #looping to get data from different pages\n",
    "    apikey_parameter={'api-key':os.environ['auth_key'],'page':i}\n",
    "                                                            #different paramenters which are to be passed as query string\n",
    "    time.sleep(4)                                           #keeping  4 secs delay between each call to the api\n",
    "    response_articlesearch=requests.get('https://api.nytimes.com/svc/search/v2/articlesearch.json',params=apikey_parameter)\n",
    "                                                            #getting responses on the get request\n",
    "    print(response_articlesearch)                           #printing the reponse to check if it is ok\n",
    "    print(response_articlesearch.url)                       #printing the url\n",
    "    \n",
    "    with open(\"data/article_search/response_articlesearch_data\"+str(i)+\".json\",\"a\") as Response_data:\n",
    "        json.dump(response_articlesearch.json(),Response_data)\n",
    "                                                            #writing data to the json file"
   ]
  },
  {
   "cell_type": "code",
   "execution_count": null,
   "metadata": {
    "collapsed": true
   },
   "outputs": [],
   "source": [
    "# collecting data from Archive API"
   ]
  },
  {
   "cell_type": "code",
   "execution_count": null,
   "metadata": {
    "collapsed": true
   },
   "outputs": [],
   "source": [
    "import requests                                             #importing requests module for making calls to the api\n",
    "import json                                                 #importing json to write data directly to json files\n",
    "import os                                                   #importing os fetch the value of environment variable\n",
    "import time                                                 #importing time module to use sleep function\n",
    "\n",
    "for i in range (0,120):                                     #looping to get data from different pages\n",
    "    apikey_parameter={'api-key':os.environ['auth_key'],'page':i}\n",
    "                                                            #different paramenters which are to be passed as query string\n",
    "    time.sleep(4)                                           #keeping  4 secs delay between each call to the api\n",
    "    \n",
    "    response_archive=requests.get('https://api.nytimes.com/svc/archive/v1/2016/1.json',params=apikey_parameter)\n",
    "                                                            #getting responses on the get request\n",
    "    print(response_archive)                                 #printing the reponse to check if it is ok\n",
    "    print(response_archive.url)                             #printing the url\n",
    "    with open(\"response_archive4.json\",\"a\") as Response_data:\n",
    "                                                            #opening a json file in append mode\n",
    "        json.dump(response_archive.json(),Response_data)\n",
    "                                                            #writing data to the json file"
   ]
  },
  {
   "cell_type": "markdown",
   "metadata": {},
   "source": [
    "# Analyzing Data"
   ]
  },
  {
   "cell_type": "code",
   "execution_count": null,
   "metadata": {
    "collapsed": true
   },
   "outputs": [],
   "source": [
    "# getting unique article section names"
   ]
  },
  {
   "cell_type": "code",
   "execution_count": 18,
   "metadata": {
    "collapsed": false
   },
   "outputs": [
    {
     "name": "stdout",
     "output_type": "stream",
     "text": [
      "High five! You successfuly sent some data to your account on plotly. View your plot in your browser at https://plot.ly/~Ruchi1991/0 or inside your plot.ly account where it is named 'basic-bar'\n"
     ]
    },
    {
     "data": {
      "text/html": [
       "<iframe id=\"igraph\" scrolling=\"no\" style=\"border:none;\" seamless=\"seamless\" src=\"https://plot.ly/~Ruchi1991/0.embed\" height=\"525px\" width=\"100%\"></iframe>"
      ],
      "text/plain": [
       "<plotly.tools.PlotlyDisplay object>"
      ]
     },
     "execution_count": 18,
     "metadata": {},
     "output_type": "execute_result"
    }
   ],
   "source": [
    "from glob import glob                                        #importing glob library\n",
    "list_sections = [];                                          #empty list to store different categories by section_name\n",
    "import json\n",
    "\n",
    "d={}                                                         #empty dictionary to store section_name n counts\n",
    "for filename in glob('data/article_search/*.json'):          #iterrating over all the json files in data folder\n",
    "    with open(filename) as r:                                #opening each files and giving alias as r\n",
    "        json_data = json.load(r)                             #loading the data of each file into json_data\n",
    "        json_response=json_data['response']                  #getting response from each page\n",
    "        json_docs=json_response['docs']                      #getting all articles from every page\n",
    "        for doc in json_docs:                                #iterating over articles\n",
    "            if doc['section_name'] not in list_sections:  \n",
    "                list_sections.append(doc['section_name'])\n",
    "for i in range(0,len(list_sections)):\n",
    "    count=0\n",
    "    for filename in glob('data/article_search/*.json'):      #iterrating over all the json files in data folder\n",
    "        with open(filename) as r:                            #opening each files and giving alias as r\n",
    "            json_data = json.load(r)                         #loading the data of each file into json_data\n",
    "            json_response=json_data['response']\n",
    "            json_docs=json_response['docs']\n",
    "            for doc in json_docs:\n",
    "                if doc['section_name']==list_sections[i]:    #recording the count of articles for each section_name\n",
    "                    count+=1\n",
    "                    d[doc['section_name']]=count\n",
    "#print(\"Number of articles for each section\")\n",
    "#print(d)                                                     #printing each section name\n",
    "\n",
    "import plotly\n",
    "import plotly.plotly as py\n",
    "import plotly.graph_objs as go\n",
    "\n",
    "xaxis=[];\n",
    "yaxis=[];\n",
    "for c in d.items():\n",
    "    xaxis.append(c[0])\n",
    "    yaxis.append(c[1])\n",
    "plotly.tools.set_credentials_file(username='Ruchi1991',api_key='rE53tcXa7QLlbnP8CfW9')\n",
    "data = [go.Bar(\n",
    "            x=xaxis,\n",
    "            y=yaxis\n",
    "    )]\n",
    "\n",
    "layout = go.Layout(\n",
    "    title='Graph to analyze top 5/famous sections of NYT',\n",
    "    xaxis=dict(\n",
    "        title='category of articles',\n",
    "        titlefont=dict(\n",
    "            family='Courier New, monospace',\n",
    "            size=22,\n",
    "            color='#7f7f7f'\n",
    "        )\n",
    "    ),\n",
    "    yaxis=dict(\n",
    "        title='Number of Articles',\n",
    "        titlefont=dict(\n",
    "            family='Courier New, monospace',\n",
    "            size=22,\n",
    "            color='#7f7f7f'\n",
    "        )\n",
    "    )\n",
    ")\n",
    "fig = go.Figure(data=data, layout=layout)\n",
    "py.iplot(fig, filename='basic-bar')"
   ]
  },
  {
   "cell_type": "markdown",
   "metadata": {},
   "source": [
    "It can be seen that the maximum number of articles are on world's news.So the world's news articles can be analyzed closely to get further information."
   ]
  },
  {
   "cell_type": "code",
   "execution_count": null,
   "metadata": {
    "collapsed": true
   },
   "outputs": [],
   "source": [
    "# Analyzing what all subsections different sections have"
   ]
  },
  {
   "cell_type": "code",
   "execution_count": 19,
   "metadata": {
    "collapsed": false
   },
   "outputs": [
    {
     "name": "stdout",
     "output_type": "stream",
     "text": [
      "U.S.\n",
      "[None, 'Politics']\n",
      "World\n",
      "['Middle East', 'Asia Pacific', 'Europe', 'Africa', 'Americas', None, 'Canada']\n",
      "Sports\n",
      "['College Basketball', None, 'Golf', 'Cricket', 'Soccer', 'Pro Basketball', 'Baseball', 'Olympics', 'Hockey', 'Pro Football', 'Tennis', 'Rugby', 'Cycling', 'Skiing', 'College Football']\n",
      "Business Day\n",
      "[None, 'DealBook', 'Retirement', 'Energy & Environment ', 'Economy', 'Media']\n",
      "Arts\n",
      "['Television', None, 'Music', 'Dance', 'Art & Design']\n",
      "T Magazine\n",
      "['Entertainment', 'Fashion & Beauty']\n",
      "Books\n",
      "['Book Review', None]\n",
      "N.Y. / Region\n",
      "[None]\n",
      "Opinion\n",
      "[None, 'Sunday Review']\n",
      "Fashion & Style\n",
      "[\"Women's Runway\", 'Weddings', None]\n",
      "NYT Now\n",
      "[None]\n",
      "Technology\n",
      "[None, 'Personal Tech']\n",
      "Travel\n",
      "[None]\n",
      "Well\n",
      "['Family', 'Live']\n",
      "Podcasts\n",
      "['The Daily']\n",
      "Briefing\n",
      "[None]\n",
      "The Upshot\n",
      "[None]\n",
      "The Learning Network\n",
      "[None]\n",
      "Real Estate\n",
      "[None]\n",
      "Your Money\n",
      "[None, \"401(k)'s and Similar Plans\"]\n",
      "Public Editor\n",
      "[None]\n",
      "Style\n",
      "[None]\n",
      "Magazine\n",
      "[None]\n",
      "Theater\n",
      "[None]\n",
      "Crosswords & Games\n",
      "[None]\n",
      "Corrections\n",
      "[None]\n",
      "Today’s Paper\n",
      "[None]\n",
      "Times Insider\n",
      "[None, 'Insider Events']\n",
      "Science\n",
      "[None]\n",
      "Movies\n",
      "[None]\n",
      "Health\n",
      "[None]\n",
      "Watching\n",
      "[None]\n",
      "Food\n",
      "[None]\n"
     ]
    }
   ],
   "source": [
    "for each_sec in list_sections:\n",
    "    list_subsections=[]\n",
    "    for filename in glob('data/article_search/*.json'):          #iterrating over all the json files in data folder\n",
    "        with open(filename) as r:                                #opening each files and giving alias as r\n",
    "            json_data = json.load(r)                             #loading the data of each file into json_data\n",
    "            json_response=json_data['response']\n",
    "            json_docs=json_response['docs']\n",
    "            for doc in json_docs:\n",
    "                    if doc['section_name']==each_sec:\n",
    "                        if doc['subsection_name'] not in list_subsections:\n",
    "                            list_subsections.append(doc['subsection_name'])\n",
    "    print(each_sec)\n",
    "    print(list_subsections)"
   ]
  },
  {
   "cell_type": "code",
   "execution_count": null,
   "metadata": {
    "collapsed": true
   },
   "outputs": [],
   "source": [
    "# Analyzing subsections of world section"
   ]
  },
  {
   "cell_type": "code",
   "execution_count": 20,
   "metadata": {
    "collapsed": false
   },
   "outputs": [
    {
     "data": {
      "text/html": [
       "<iframe id=\"igraph\" scrolling=\"no\" style=\"border:none;\" seamless=\"seamless\" src=\"https://plot.ly/~Ruchi1991/14.embed\" height=\"525px\" width=\"100%\"></iframe>"
      ],
      "text/plain": [
       "<plotly.tools.PlotlyDisplay object>"
      ]
     },
     "execution_count": 20,
     "metadata": {},
     "output_type": "execute_result"
    }
   ],
   "source": [
    "list_subsecs=['Middle East', 'Asia Pacific', 'Europe', 'Africa', 'Americas', None, 'Canada']\n",
    "dsubsec={}\n",
    "for i_in in range(len(list_subsecs)):\n",
    "    count=0\n",
    "    for filename in glob('data/article_search/*.json'):      #iterrating over all the json files in data folder\n",
    "        with open(filename) as r:                            #opening each files and giving alias as r\n",
    "            json_data = json.load(r)                         #loading the data of each file into json_data\n",
    "            json_response=json_data['response']\n",
    "            json_docs=json_response['docs']\n",
    "            for doc in json_docs:\n",
    "                if doc['section_name']==\"World\":         #recording the count of articles for each section_name\n",
    "                    if doc['subsection_name']==list_subsecs[i_in]:\n",
    "                        count+=1\n",
    "                        dsubsec[doc['subsection_name']]=count \n",
    "#print(\"World\")\n",
    "regions=[]\n",
    "aricles_region=[]\n",
    "for d_sub in dsubsec.items():\n",
    "#    print(d_sub)\n",
    "    regions.append(d_sub[0])\n",
    "    aricles_region.append(d_sub[1])\n",
    "\n",
    "#print(regions)\n",
    "#print(aricles_region)\n",
    "\n",
    "import plotly.plotly as py\n",
    "import plotly.graph_objs as go\n",
    "\n",
    "fig = {\n",
    "    'data': [{'labels': regions,\n",
    "              'values': aricles_region,\n",
    "              'type': 'pie'}],\n",
    "    'layout': {'title': 'most talked about countries/regions in New York Times'}\n",
    "     }\n",
    "\n",
    "py.iplot(fig)"
   ]
  },
  {
   "cell_type": "markdown",
   "metadata": {},
   "source": [
    "It can be seen that under world section category, Europe subsection has the maximum number of articles. We can deep dive into the main headlines of Europe subcategory to know more about its articles"
   ]
  },
  {
   "cell_type": "code",
   "execution_count": null,
   "metadata": {
    "collapsed": true
   },
   "outputs": [],
   "source": [
    "# Getting all the headlines for section -> World and subsection-> Europe"
   ]
  },
  {
   "cell_type": "code",
   "execution_count": 56,
   "metadata": {
    "collapsed": false
   },
   "outputs": [
    {
     "name": "stdout",
     "output_type": "stream",
     "text": [
      "('eu', 17)\n",
      "('say', 16)\n",
      "('french', 11)\n",
      "('talk', 10)\n",
      "('leader', 8)\n",
      "('fillon', 8)\n",
      "('ireland', 7)\n",
      "('turkey', 7)\n",
      "('chief', 7)\n",
      "('candidate', 7)\n",
      "('syria', 7)\n",
      "('german', 7)\n",
      "('france', 6)\n",
      "('northern', 6)\n",
      "('ban', 5)\n",
      "('set', 5)\n",
      "('russia', 5)\n",
      "('u.n.', 5)\n",
      "('migrant', 5)\n",
      "('end', 5)\n",
      "('rally', 5)\n",
      "('expert', 4)\n",
      "('germany', 4)\n",
      "('russian', 4)\n",
      "('uk', 4)\n",
      "('foreign', 4)\n",
      "('british', 4)\n",
      "('ahead', 4)\n",
      "('poll', 4)\n",
      "('trump', 4)\n"
     ]
    }
   ],
   "source": [
    "from collections import Counter\n",
    "import nltk\n",
    "from nltk.corpus import stopwords\n",
    "import string\n",
    "\n",
    "counter=0\n",
    "headlines=[]\n",
    "for filename in glob('data/article_search/*.json'):      #iterrating over all the json files in data folder\n",
    "    with open(filename) as r:                            #opening each files and giving alias as r\n",
    "        json_data = json.load(r)                         #loading the data of each file into json_data\n",
    "        json_response=json_data['response']\n",
    "        json_docs=json_response['docs']\n",
    "        for doc in json_docs:\n",
    "            if doc['section_name']==\"World\":             #recording the count of articles for each section_name\n",
    "                if doc['subsection_name']==\"Europe\":\n",
    "                    headl=doc['headline']\n",
    "                    print_headline=headl['main']\n",
    "                    headlines.append(print_headline)\n",
    "                    counter+=1;\n",
    "                \n",
    "headline_text=' '.join(headlines)                        #joining all headlines to form a single text\n",
    "string_punctuation = string.punctuation\n",
    "ignoreChar=['\\r','\\n','',' ',\"'s\"]\n",
    "nums=['0','1','2','3','4','5','6','7','8','9']\n",
    "headlines_data = nltk.word_tokenize(headline_text)\n",
    "words_only = [l.lower() for l in headlines_data if l not in string_punctuation if l not in ignoreChar if l not in nums]\n",
    "filtered_headlines_data=[word for word in words_only if word not in stopwords.words('english')]\n",
    "wnl = nltk.WordNetLemmatizer()\n",
    "counts=Counter([wnl.lemmatize(data) for data in filtered_headlines_data])\n",
    "commn_words=[]\n",
    "freq=[]\n",
    "for a in counts.most_common(30):\n",
    "    commn_words.append(a[0])\n",
    "    freq.append(a[1])\n",
    "    print(a)"
   ]
  },
  {
   "cell_type": "code",
   "execution_count": 57,
   "metadata": {
    "collapsed": false
   },
   "outputs": [
    {
     "data": {
      "text/html": [
       "<iframe id=\"igraph\" scrolling=\"no\" style=\"border:none;\" seamless=\"seamless\" src=\"https://plot.ly/~Ruchi1991/18.embed\" height=\"600px\" width=\"800px\"></iframe>"
      ],
      "text/plain": [
       "<plotly.tools.PlotlyDisplay object>"
      ]
     },
     "execution_count": 57,
     "metadata": {},
     "output_type": "execute_result"
    }
   ],
   "source": [
    "import plotly.plotly as py\n",
    "import plotly.graph_objs as go\n",
    "\n",
    "trace0 = go.Scatter(\n",
    "    x=freq,\n",
    "    y=commn_words,\n",
    "    mode='markers',\n",
    "    name='word frequency graph',\n",
    "    marker=dict(\n",
    "        color='rgba(156, 165, 196, 0.95)',\n",
    "        line=dict(\n",
    "            color='rgba(156, 165, 196, 1.0)',\n",
    "            width=.5,\n",
    "        ),\n",
    "        symbol='circle',\n",
    "        size=10,\n",
    "    )\n",
    ")\n",
    "\n",
    "data = [trace0]\n",
    "layout = go.Layout(\n",
    "    title=\"frequency of top 50 words from articles where section is World and subsection is Europe\",\n",
    "    xaxis=dict(\n",
    "        showgrid=False,\n",
    "        showline=True,\n",
    "        linecolor='rgb(102, 102, 102)',\n",
    "        titlefont=dict(\n",
    "            color='rgb(204, 204, 204)'\n",
    "        ),\n",
    "        tickfont=dict(\n",
    "            color='rgb(102, 102, 102)',\n",
    "        ),\n",
    "        autotick=False,\n",
    "        dtick=1,\n",
    "        ticks='outside',\n",
    "        tickcolor='rgb(102, 102, 102)',\n",
    "    ),\n",
    "    margin=dict(\n",
    "        l=150,\n",
    "        r=70,\n",
    "        b=50,\n",
    "        t=80\n",
    "    ),\n",
    "    legend=dict(\n",
    "        font=dict(\n",
    "            size=10,\n",
    "        ),\n",
    "        yanchor='middle',\n",
    "        xanchor='right',\n",
    "    ),\n",
    "    width=800,\n",
    "    height=600,\n",
    "    paper_bgcolor='rgb(254, 247, 234)',\n",
    "    plot_bgcolor='rgb(254, 247, 234)',\n",
    "    hovermode='closest',\n",
    ")\n",
    "fig = go.Figure(data=data, layout=layout)\n",
    "py.iplot(fig, filename='word-freq')"
   ]
  },
  {
   "cell_type": "markdown",
   "metadata": {},
   "source": [
    "Hence we can see that the most talked words in the articles for Erope includes \"say,French,Talk,turkey,ireland,syria,german\""
   ]
  }
 ],
 "metadata": {
  "kernelspec": {
   "display_name": "Python 3",
   "language": "python",
   "name": "python3"
  },
  "language_info": {
   "codemirror_mode": {
    "name": "ipython",
    "version": 3
   },
   "file_extension": ".py",
   "mimetype": "text/x-python",
   "name": "python",
   "nbconvert_exporter": "python",
   "pygments_lexer": "ipython3",
   "version": "3.6.0"
  }
 },
 "nbformat": 4,
 "nbformat_minor": 2
}
