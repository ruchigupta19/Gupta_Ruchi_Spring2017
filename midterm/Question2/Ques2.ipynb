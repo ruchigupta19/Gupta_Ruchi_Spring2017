{
 "cells": [
  {
   "cell_type": "markdown",
   "metadata": {},
   "source": [
    "# Collecting & Storing Data"
   ]
  },
  {
   "cell_type": "code",
   "execution_count": null,
   "metadata": {
    "collapsed": true
   },
   "outputs": [],
   "source": [
    "# collecting data from Article search API"
   ]
  },
  {
   "cell_type": "code",
   "execution_count": null,
   "metadata": {
    "collapsed": true
   },
   "outputs": [],
   "source": [
    "import requests                                             #importing requests module for making calls to the api\n",
    "import json                                                 #importing json to write data directly to json files\n",
    "import os                                                   #importing os fetch the value of environment variable\n",
    "import time                                                 #importing time module to use sleep function\n",
    "\n",
    "for i in range (0,121):                                     #looping to get data from different pages\n",
    "    apikey_parameter={'api-key':os.environ['auth_key'],'page':i}\n",
    "                                                            #different paramenters which are to be passed as query string\n",
    "    time.sleep(4)                                           #keeping  4 secs delay between each call to the api\n",
    "    response_articlesearch=requests.get('https://api.nytimes.com/svc/search/v2/articlesearch.json',params=apikey_parameter)\n",
    "                                                            #getting responses on the get request\n",
    "    print(response_articlesearch)                           #printing the reponse to check if it is ok\n",
    "    print(response_articlesearch.url)                       #printing the url\n",
    "    \n",
    "    with open(\"data/article_search/response_articlesearch_data\"+str(i)+\".json\",\"a\") as Response_data:\n",
    "        json.dump(response_articlesearch.json(),Response_data)\n",
    "                                                            #writing data to the json file"
   ]
  },
  {
   "cell_type": "code",
   "execution_count": null,
   "metadata": {
    "collapsed": true
   },
   "outputs": [],
   "source": [
    "# collecting data from Archive API"
   ]
  },
  {
   "cell_type": "code",
   "execution_count": null,
   "metadata": {
    "collapsed": true
   },
   "outputs": [],
   "source": [
    "import requests                                             #importing requests module for making calls to the api\n",
    "import json                                                 #importing json to write data directly to json files\n",
    "import os                                                   #importing os fetch the value of environment variable\n",
    "import time                                                 #importing time module to use sleep function\n",
    "\n",
    "for i in range (0,120):                                     #looping to get data from different pages\n",
    "    apikey_parameter={'api-key':os.environ['auth_key'],'page':i}\n",
    "                                                            #different paramenters which are to be passed as query string\n",
    "    time.sleep(4)                                           #keeping  4 secs delay between each call to the api\n",
    "    \n",
    "    response_archive=requests.get('https://api.nytimes.com/svc/archive/v1/2016/1.json',params=apikey_parameter)\n",
    "                                                            #getting responses on the get request\n",
    "    print(response_archive)                                 #printing the reponse to check if it is ok\n",
    "    print(response_archive.url)                             #printing the url\n",
    "    with open(\"response_archive4.json\",\"a\") as Response_data:\n",
    "                                                            #opening a json file in append mode\n",
    "        json.dump(response_archive.json(),Response_data)\n",
    "                                                            #writing data to the json file"
   ]
  },
  {
   "cell_type": "markdown",
   "metadata": {},
   "source": [
    "# Analyzing Article Search Data"
   ]
  },
  {
   "cell_type": "markdown",
   "metadata": {},
   "source": [
    "# Analysis - 1"
   ]
  },
  {
   "cell_type": "code",
   "execution_count": null,
   "metadata": {
    "collapsed": true
   },
   "outputs": [],
   "source": [
    "# getting unique article section names"
   ]
  },
  {
   "cell_type": "code",
   "execution_count": 1,
   "metadata": {
    "collapsed": false
   },
   "outputs": [
    {
     "name": "stdout",
     "output_type": "stream",
     "text": [
      "High five! You successfuly sent some data to your account on plotly. View your plot in your browser at https://plot.ly/~Ruchi1991/0 or inside your plot.ly account where it is named 'basic-bar'\n"
     ]
    },
    {
     "data": {
      "text/html": [
       "<iframe id=\"igraph\" scrolling=\"no\" style=\"border:none;\" seamless=\"seamless\" src=\"https://plot.ly/~Ruchi1991/0.embed\" height=\"525px\" width=\"100%\"></iframe>"
      ],
      "text/plain": [
       "<plotly.tools.PlotlyDisplay object>"
      ]
     },
     "execution_count": 1,
     "metadata": {},
     "output_type": "execute_result"
    }
   ],
   "source": [
    "from glob import glob                                        #importing glob library\n",
    "list_sections = [];                                          #empty list to store different categories by section_name\n",
    "import json\n",
    "\n",
    "d={}                                                         #empty dictionary to store section_name n counts\n",
    "for filename in glob('data/article_search/*.json'):          #iterrating over all the json files in data folder\n",
    "    with open(filename) as r:                                #opening each files and giving alias as r\n",
    "        json_data = json.load(r)                             #loading the data of each file into json_data\n",
    "        json_response=json_data['response']                  #getting response from each page\n",
    "        json_docs=json_response['docs']                      #getting all articles from every page\n",
    "        for doc in json_docs:                                #iterating over articles\n",
    "            if doc['section_name'] not in list_sections:  \n",
    "                list_sections.append(doc['section_name'])\n",
    "for i in range(0,len(list_sections)):\n",
    "    count=0\n",
    "    for filename in glob('data/article_search/*.json'):      #iterrating over all the json files in data folder\n",
    "        with open(filename) as r:                            #opening each files and giving alias as r\n",
    "            json_data = json.load(r)                         #loading the data of each file into json_data\n",
    "            json_response=json_data['response']\n",
    "            json_docs=json_response['docs']\n",
    "            for doc in json_docs:\n",
    "                if doc['section_name']==list_sections[i]:    #recording the count of articles for each section_name\n",
    "                    count+=1\n",
    "                    d[doc['section_name']]=count\n",
    "#print(\"Number of articles for each section\")\n",
    "#print(d)                                                     #printing each section name\n",
    "\n",
    "import plotly\n",
    "import plotly.plotly as py\n",
    "import plotly.graph_objs as go\n",
    "\n",
    "xaxis=[];\n",
    "yaxis=[];\n",
    "for c in d.items():\n",
    "    xaxis.append(c[0])\n",
    "    yaxis.append(c[1])\n",
    "plotly.tools.set_credentials_file(username='Ruchi1991',api_key='rE53tcXa7QLlbnP8CfW9')\n",
    "data = [go.Bar(\n",
    "            x=xaxis,\n",
    "            y=yaxis\n",
    "    )]\n",
    "\n",
    "layout = go.Layout(\n",
    "    title='Graph to analyze top 5/famous sections of NYT',\n",
    "    xaxis=dict(\n",
    "        title='category of articles',\n",
    "        titlefont=dict(\n",
    "            family='Courier New, monospace',\n",
    "            size=22,\n",
    "            color='#7f7f7f'\n",
    "        )\n",
    "    ),\n",
    "    yaxis=dict(\n",
    "        title='Number of Articles',\n",
    "        titlefont=dict(\n",
    "            family='Courier New, monospace',\n",
    "            size=22,\n",
    "            color='#7f7f7f'\n",
    "        )\n",
    "    )\n",
    ")\n",
    "fig = go.Figure(data=data, layout=layout)\n",
    "py.iplot(fig, filename='basic-bar')"
   ]
  },
  {
   "cell_type": "markdown",
   "metadata": {},
   "source": [
    "It can be seen that the maximum number of articles are on world's news.So the world's news articles can be analyzed closely to get further information."
   ]
  },
  {
   "cell_type": "code",
   "execution_count": null,
   "metadata": {
    "collapsed": true
   },
   "outputs": [],
   "source": [
    "# Analyzing what all subsections different sections have"
   ]
  },
  {
   "cell_type": "code",
   "execution_count": 2,
   "metadata": {
    "collapsed": false
   },
   "outputs": [
    {
     "name": "stdout",
     "output_type": "stream",
     "text": [
      "U.S.\n",
      "[None, 'Politics']\n",
      "World\n",
      "['Middle East', 'Asia Pacific', 'Europe', 'Africa', 'Americas', None, 'Canada']\n",
      "Sports\n",
      "['College Basketball', None, 'Golf', 'Cricket', 'Soccer', 'Pro Basketball', 'Baseball', 'Olympics', 'Hockey', 'Pro Football', 'Tennis', 'Rugby', 'Cycling', 'Skiing', 'College Football']\n",
      "Business Day\n",
      "[None, 'DealBook', 'Retirement', 'Energy & Environment ', 'Economy', 'Media']\n",
      "Arts\n",
      "['Television', None, 'Music', 'Dance', 'Art & Design']\n",
      "T Magazine\n",
      "['Entertainment', 'Fashion & Beauty']\n",
      "Books\n",
      "['Book Review', None]\n",
      "N.Y. / Region\n",
      "[None]\n",
      "Opinion\n",
      "[None, 'Sunday Review']\n",
      "Fashion & Style\n",
      "[\"Women's Runway\", 'Weddings', None]\n",
      "NYT Now\n",
      "[None]\n",
      "Technology\n",
      "[None, 'Personal Tech']\n",
      "Travel\n",
      "[None]\n",
      "Well\n",
      "['Family', 'Live']\n",
      "Podcasts\n",
      "['The Daily']\n",
      "Briefing\n",
      "[None]\n",
      "The Upshot\n",
      "[None]\n",
      "The Learning Network\n",
      "[None]\n",
      "Real Estate\n",
      "[None]\n",
      "Your Money\n",
      "[None, \"401(k)'s and Similar Plans\"]\n",
      "Public Editor\n",
      "[None]\n",
      "Style\n",
      "[None]\n",
      "Magazine\n",
      "[None]\n",
      "Theater\n",
      "[None]\n",
      "Crosswords & Games\n",
      "[None]\n",
      "Corrections\n",
      "[None]\n",
      "Today’s Paper\n",
      "[None]\n",
      "Times Insider\n",
      "[None, 'Insider Events']\n",
      "Science\n",
      "[None]\n",
      "Movies\n",
      "[None]\n",
      "Health\n",
      "[None]\n",
      "Watching\n",
      "[None]\n",
      "Food\n",
      "[None]\n"
     ]
    }
   ],
   "source": [
    "for each_sec in list_sections:\n",
    "    list_subsections=[]\n",
    "    for filename in glob('data/article_search/*.json'):          #iterrating over all the json files in data folder\n",
    "        with open(filename) as r:                                #opening each files and giving alias as r\n",
    "            json_data = json.load(r)                             #loading the data of each file into json_data\n",
    "            json_response=json_data['response']\n",
    "            json_docs=json_response['docs']\n",
    "            for doc in json_docs:\n",
    "                    if doc['section_name']==each_sec:\n",
    "                        if doc['subsection_name'] not in list_subsections:\n",
    "                            list_subsections.append(doc['subsection_name'])\n",
    "    print(each_sec)\n",
    "    print(list_subsections)"
   ]
  },
  {
   "cell_type": "code",
   "execution_count": null,
   "metadata": {
    "collapsed": true
   },
   "outputs": [],
   "source": [
    "# Analyzing subsections of world section"
   ]
  },
  {
   "cell_type": "code",
   "execution_count": 3,
   "metadata": {
    "collapsed": false
   },
   "outputs": [
    {
     "data": {
      "text/html": [
       "<iframe id=\"igraph\" scrolling=\"no\" style=\"border:none;\" seamless=\"seamless\" src=\"https://plot.ly/~Ruchi1991/20.embed\" height=\"525px\" width=\"100%\"></iframe>"
      ],
      "text/plain": [
       "<plotly.tools.PlotlyDisplay object>"
      ]
     },
     "execution_count": 3,
     "metadata": {},
     "output_type": "execute_result"
    }
   ],
   "source": [
    "list_subsecs=['Middle East', 'Asia Pacific', 'Europe', 'Africa', 'Americas', None, 'Canada']\n",
    "dsubsec={}\n",
    "for i_in in range(len(list_subsecs)):\n",
    "    count=0\n",
    "    for filename in glob('data/article_search/*.json'):      #iterrating over all the json files in data folder\n",
    "        with open(filename) as r:                            #opening each files and giving alias as r\n",
    "            json_data = json.load(r)                         #loading the data of each file into json_data\n",
    "            json_response=json_data['response']\n",
    "            json_docs=json_response['docs']\n",
    "            for doc in json_docs:\n",
    "                if doc['section_name']==\"World\":         #recording the count of articles for each section_name\n",
    "                    if doc['subsection_name']==list_subsecs[i_in]:\n",
    "                        count+=1\n",
    "                        dsubsec[doc['subsection_name']]=count \n",
    "#print(\"World\")\n",
    "regions=[]\n",
    "aricles_region=[]\n",
    "for d_sub in dsubsec.items():\n",
    "#    print(d_sub)\n",
    "    regions.append(d_sub[0])\n",
    "    aricles_region.append(d_sub[1])\n",
    "\n",
    "#print(regions)\n",
    "#print(aricles_region)\n",
    "\n",
    "import plotly.plotly as py\n",
    "import plotly.graph_objs as go\n",
    "\n",
    "fig = {\n",
    "    'data': [{'labels': regions,\n",
    "              'values': aricles_region,\n",
    "              'type': 'pie'}],\n",
    "    'layout': {'title': 'most talked about countries/regions in New York Times'}\n",
    "     }\n",
    "\n",
    "py.iplot(fig)"
   ]
  },
  {
   "cell_type": "markdown",
   "metadata": {},
   "source": [
    "It can be seen that under world section category, Europe subsection has the maximum number of articles. We can deep dive into the main headlines of Europe subcategory to know more about its articles"
   ]
  },
  {
   "cell_type": "code",
   "execution_count": null,
   "metadata": {
    "collapsed": true
   },
   "outputs": [],
   "source": [
    "# Getting all the headlines for section -> World and subsection-> Europe"
   ]
  },
  {
   "cell_type": "code",
   "execution_count": 4,
   "metadata": {
    "collapsed": false
   },
   "outputs": [
    {
     "name": "stdout",
     "output_type": "stream",
     "text": [
      "('eu', 17)\n",
      "('say', 16)\n",
      "('french', 11)\n",
      "('talk', 10)\n",
      "('leader', 8)\n",
      "('fillon', 8)\n",
      "('ireland', 7)\n",
      "('turkey', 7)\n",
      "('chief', 7)\n",
      "('candidate', 7)\n",
      "('syria', 7)\n",
      "('german', 7)\n",
      "('france', 6)\n",
      "('northern', 6)\n",
      "('ban', 5)\n",
      "('set', 5)\n",
      "('russia', 5)\n",
      "('u.n.', 5)\n",
      "('migrant', 5)\n",
      "('end', 5)\n",
      "('rally', 5)\n",
      "('expert', 4)\n",
      "('germany', 4)\n",
      "('russian', 4)\n",
      "('uk', 4)\n",
      "('foreign', 4)\n",
      "('british', 4)\n",
      "('ahead', 4)\n",
      "('poll', 4)\n",
      "('trump', 4)\n"
     ]
    }
   ],
   "source": [
    "from collections import Counter\n",
    "import nltk\n",
    "from nltk.corpus import stopwords\n",
    "import string\n",
    "\n",
    "counter=0\n",
    "headlines=[]\n",
    "for filename in glob('data/article_search/*.json'):      #iterrating over all the json files in data folder\n",
    "    with open(filename) as r:                            #opening each files and giving alias as r\n",
    "        json_data = json.load(r)                         #loading the data of each file into json_data\n",
    "        json_response=json_data['response']\n",
    "        json_docs=json_response['docs']\n",
    "        for doc in json_docs:\n",
    "            if doc['section_name']==\"World\":             #recording the count of articles for each section_name\n",
    "                if doc['subsection_name']==\"Europe\":\n",
    "                    headl=doc['headline']\n",
    "                    print_headline=headl['main']\n",
    "                    headlines.append(print_headline)\n",
    "                    counter+=1;\n",
    "                \n",
    "headline_text=' '.join(headlines)                        #joining all headlines to form a single text\n",
    "string_punctuation = string.punctuation\n",
    "ignoreChar=['\\r','\\n','',' ',\"'s\"]\n",
    "nums=['0','1','2','3','4','5','6','7','8','9']\n",
    "headlines_data = nltk.word_tokenize(headline_text)\n",
    "words_only = [l.lower() for l in headlines_data if l not in string_punctuation if l not in ignoreChar if l not in nums]\n",
    "filtered_headlines_data=[word for word in words_only if word not in stopwords.words('english')]\n",
    "wnl = nltk.WordNetLemmatizer()\n",
    "counts=Counter([wnl.lemmatize(data) for data in filtered_headlines_data])\n",
    "commn_words=[]\n",
    "freq=[]\n",
    "for a in counts.most_common(30):\n",
    "    commn_words.append(a[0])\n",
    "    freq.append(a[1])\n",
    "    print(a)"
   ]
  },
  {
   "cell_type": "code",
   "execution_count": 57,
   "metadata": {
    "collapsed": false
   },
   "outputs": [
    {
     "data": {
      "text/html": [
       "<iframe id=\"igraph\" scrolling=\"no\" style=\"border:none;\" seamless=\"seamless\" src=\"https://plot.ly/~Ruchi1991/18.embed\" height=\"600px\" width=\"800px\"></iframe>"
      ],
      "text/plain": [
       "<plotly.tools.PlotlyDisplay object>"
      ]
     },
     "execution_count": 57,
     "metadata": {},
     "output_type": "execute_result"
    }
   ],
   "source": [
    "import plotly.plotly as py\n",
    "import plotly.graph_objs as go\n",
    "\n",
    "trace0 = go.Scatter(\n",
    "    x=freq,\n",
    "    y=commn_words,\n",
    "    mode='markers',\n",
    "    name='word frequency graph',\n",
    "    marker=dict(\n",
    "        color='rgba(156, 165, 196, 0.95)',\n",
    "        line=dict(\n",
    "            color='rgba(156, 165, 196, 1.0)',\n",
    "            width=.5,\n",
    "        ),\n",
    "        symbol='circle',\n",
    "        size=10,\n",
    "    )\n",
    ")\n",
    "\n",
    "data = [trace0]\n",
    "layout = go.Layout(\n",
    "    title=\"frequency of top 50 words from articles where section is World and subsection is Europe\",\n",
    "    xaxis=dict(\n",
    "        showgrid=False,\n",
    "        showline=True,\n",
    "        linecolor='rgb(102, 102, 102)',\n",
    "        titlefont=dict(\n",
    "            color='rgb(204, 204, 204)'\n",
    "        ),\n",
    "        tickfont=dict(\n",
    "            color='rgb(102, 102, 102)',\n",
    "        ),\n",
    "        autotick=False,\n",
    "        dtick=1,\n",
    "        ticks='outside',\n",
    "        tickcolor='rgb(102, 102, 102)',\n",
    "    ),\n",
    "    margin=dict(\n",
    "        l=150,\n",
    "        r=70,\n",
    "        b=50,\n",
    "        t=80\n",
    "    ),\n",
    "    legend=dict(\n",
    "        font=dict(\n",
    "            size=10,\n",
    "        ),\n",
    "        yanchor='middle',\n",
    "        xanchor='right',\n",
    "    ),\n",
    "    width=800,\n",
    "    height=600,\n",
    "    paper_bgcolor='rgb(254, 247, 234)',\n",
    "    plot_bgcolor='rgb(254, 247, 234)',\n",
    "    hovermode='closest',\n",
    ")\n",
    "fig = go.Figure(data=data, layout=layout)\n",
    "py.iplot(fig, filename='word-freq')"
   ]
  },
  {
   "cell_type": "markdown",
   "metadata": {},
   "source": [
    "Hence we can see that the most talked words in the articles for Erope includes \"say,French,Talk,turkey,ireland,syria,german\""
   ]
  },
  {
   "cell_type": "markdown",
   "metadata": {},
   "source": [
    "# Analysis - 2 (Sentiment Analysis)"
   ]
  },
  {
   "cell_type": "code",
   "execution_count": null,
   "metadata": {
    "collapsed": true
   },
   "outputs": [],
   "source": [
    "# Sentiment analysis on the headlines for Europe"
   ]
  },
  {
   "cell_type": "code",
   "execution_count": 23,
   "metadata": {
    "collapsed": false
   },
   "outputs": [
    {
     "name": "stdout",
     "output_type": "stream",
     "text": [
      "Finland's Eurosceptic Leader Soini Says Will Step Down From Party Helm\n",
      "Sentiment(classification='pos', p_pos=0.6110553027748823, p_neg=0.38894469722511693)\n",
      "*****************************************************************************************\n",
      "Expert Says Islamic State Has Badly Damaged Major Palmyra Monument\n",
      "Sentiment(classification='neg', p_pos=0.10317982549780323, p_neg=0.8968201745021953)\n",
      "*****************************************************************************************\n",
      "EU, US to Recognize Each Other's Medical Site Inspections\n",
      "Sentiment(classification='pos', p_pos=0.8989002428508415, p_neg=0.10109975714915861)\n",
      "*****************************************************************************************\n",
      "Hungarian Leader's Ally Acquires Stake in Major Media Firm\n",
      "Sentiment(classification='pos', p_pos=0.7213725267227658, p_neg=0.2786274732772348)\n",
      "*****************************************************************************************\n",
      "Experts Find Mass Grave at Ex-Catholic Orphanage in Ireland\n",
      "Sentiment(classification='pos', p_pos=0.8241633206234236, p_neg=0.17583667937657416)\n",
      "*****************************************************************************************\n",
      "2 African Seasonal Workers Dead in Italian Fire\n",
      "Sentiment(classification='pos', p_pos=0.7396627957092963, p_neg=0.26033720429070456)\n",
      "*****************************************************************************************\n",
      "Germany's Merkel to Visit Washington March 14\n",
      "Sentiment(classification='pos', p_pos=0.8268576290414068, p_neg=0.17314237095859333)\n",
      "*****************************************************************************************\n",
      "EU in Contact With World Bank About Greek Loan Request\n",
      "Sentiment(classification='pos', p_pos=0.9566875179964442, p_neg=0.043312482003557855)\n",
      "*****************************************************************************************\n",
      "Merkel Pushes Back Against Turkey's Criticism After Meeting Bans\n",
      "Sentiment(classification='neg', p_pos=0.403349810010427, p_neg=0.596650189989573)\n",
      "*****************************************************************************************\n",
      "Airport Workers Threaten Strike During Berlin Travel Trade Fair\n",
      "Sentiment(classification='pos', p_pos=0.9795241842775725, p_neg=0.02047581572242643)\n",
      "*****************************************************************************************\n",
      "Russian Opposition Leader Accuses Premier of Corruption\n",
      "Sentiment(classification='pos', p_pos=0.9748141805727594, p_neg=0.025185819427238864)\n",
      "*****************************************************************************************\n",
      "France's Centre-Right UDI Set to Pull Support for Fillon-Source\n",
      "Sentiment(classification='pos', p_pos=0.6110642017290989, p_neg=0.3889357982709007)\n",
      "*****************************************************************************************\n",
      "UK Considers Intervening in Sky Merger With 21st Century Fox\n",
      "Sentiment(classification='pos', p_pos=0.9541603344403394, p_neg=0.045839665559660576)\n",
      "*****************************************************************************************\n",
      "Amnesty Denmark Regrets Translating Advice to US Protesters\n",
      "Sentiment(classification='pos', p_pos=0.9445884640311063, p_neg=0.05541153596889164)\n",
      "*****************************************************************************************\n",
      "EU to Set Up Joint Command Center for Military Missions\n",
      "Sentiment(classification='pos', p_pos=0.9678718200906038, p_neg=0.03212817990939666)\n",
      "*****************************************************************************************\n",
      "Campaigners Urging Obama to Run for French President\n",
      "Sentiment(classification='pos', p_pos=0.7060246479092495, p_neg=0.29397535209075015)\n",
      "*****************************************************************************************\n",
      "Europeans Get More Digital but Continent Divided\n",
      "Sentiment(classification='pos', p_pos=0.8682924639305942, p_neg=0.13170753606940497)\n",
      "*****************************************************************************************\n",
      "Foreign Policy Chief Presses EU Integration in Albania\n",
      "Sentiment(classification='pos', p_pos=0.9899670148433187, p_neg=0.010032985156679415)\n",
      "*****************************************************************************************\n",
      "Belgium Releases Man Who Had Gas Canisters in Van\n",
      "Sentiment(classification='pos', p_pos=0.9206023552803395, p_neg=0.07939764471966079)\n",
      "*****************************************************************************************\n",
      "May Accuses SNP of Sacrificing Scotland for Independence 'Obsession'\n",
      "Sentiment(classification='pos', p_pos=0.9016305957885261, p_neg=0.09836940421147333)\n",
      "*****************************************************************************************\n",
      "Russia Says US Infighting on Sessions Hampers Mending Ties\n",
      "Sentiment(classification='pos', p_pos=0.9919297780136216, p_neg=0.008070221986380138)\n",
      "*****************************************************************************************\n",
      "British Spymasters Use Movie Ad to Seek More Diverse Agents\n",
      "Sentiment(classification='pos', p_pos=0.85523970944769, p_neg=0.1447602905523088)\n",
      "*****************************************************************************************\n",
      "French Candidate Going It Alone Amid Campaign Defections\n",
      "Sentiment(classification='pos', p_pos=0.5840052002423666, p_neg=0.4159947997576335)\n",
      "*****************************************************************************************\n",
      "U.N. Plan for Next Round of Syria Talks Likely on Friday: Makdissi\n",
      "Sentiment(classification='neg', p_pos=0.35011761545857245, p_neg=0.6498823845414278)\n",
      "*****************************************************************************************\n",
      "Charities Slam Calais Ban That Could Halt Food Aid for Migrants\n",
      "Sentiment(classification='pos', p_pos=0.853155571936751, p_neg=0.1468444280632476)\n",
      "*****************************************************************************************\n",
      "British PM May Says Preserving Union a Prime Goal\n",
      "Sentiment(classification='pos', p_pos=0.8452080306892313, p_neg=0.15479196931076605)\n",
      "*****************************************************************************************\n",
      "German Government Says Not Involved in Decision to Ban Turkish Meeting\n",
      "Sentiment(classification='pos', p_pos=0.9246897195129049, p_neg=0.07531028048709483)\n",
      "*****************************************************************************************\n",
      "Pope to Address EU Leaders at Vatican Ahead of Summit\n",
      "Sentiment(classification='neg', p_pos=0.11607142857142835, p_neg=0.8839285714285721)\n",
      "*****************************************************************************************\n",
      "Syria Talks Set to End With 'Agreed Agenda'-Diplomats\n",
      "Sentiment(classification='neg', p_pos=0.484700824038162, p_neg=0.5152991759618383)\n",
      "*****************************************************************************************\n",
      "Poland Names Counter-Candidate to Tusk as EU Leader\n",
      "Sentiment(classification='neg', p_pos=0.2554124673385586, p_neg=0.7445875326614401)\n",
      "*****************************************************************************************\n",
      "Albania Upbeat on Tourism, but Justice Reform Delays EU Talks\n",
      "Sentiment(classification='pos', p_pos=0.9941113703387874, p_neg=0.005888629661210816)\n",
      "*****************************************************************************************\n",
      "Switzerland Bans Import of Most Seal Products\n",
      "Sentiment(classification='pos', p_pos=0.8325104325910031, p_neg=0.16748956740899879)\n",
      "*****************************************************************************************\n",
      "EU Extends Sanctions Against 15 Ukrainians Over Corruption\n",
      "Sentiment(classification='pos', p_pos=0.7888502820152786, p_neg=0.21114971798472168)\n",
      "*****************************************************************************************\n",
      "France's Le Pen Loses Ground in Poll After State Employee Comments\n",
      "Sentiment(classification='neg', p_pos=0.27131786210749925, p_neg=0.7286821378924982)\n",
      "*****************************************************************************************\n",
      "Kremlin Says U.S. Military Boost Should Not Disrupt Balance of Power\n",
      "Sentiment(classification='pos', p_pos=0.9392349613130213, p_neg=0.06076503868697765)\n",
      "*****************************************************************************************\n",
      "U.N. Syria Envoy Says Talks Have Set Agenda for Progress on Peace\n",
      "Sentiment(classification='pos', p_pos=0.7699289470675684, p_neg=0.23007105293243213)\n",
      "*****************************************************************************************\n",
      "Chief Spokesman for French Candidate Fillon Steps Down\n",
      "Sentiment(classification='pos', p_pos=0.511249878036954, p_neg=0.4887501219630438)\n",
      "*****************************************************************************************\n",
      "Pop Stars Shakira and Carlos Vives Sued for Plagiarism\n",
      "Sentiment(classification='neg', p_pos=0.30552552098085484, p_neg=0.6944744790191437)\n",
      "*****************************************************************************************\n",
      "UK Will Trigger Article 50 by End of March: Brexit Minister\n",
      "Sentiment(classification='pos', p_pos=0.8253598384477318, p_neg=0.17464016155226694)\n",
      "*****************************************************************************************\n",
      "There Is No Economic Case for Breaking Up the United Kingdom, Says May\n",
      "Sentiment(classification='pos', p_pos=0.9388184229147377, p_neg=0.06118157708526281)\n",
      "*****************************************************************************************\n",
      "Norway Police: New Trend: Import of Child-Like Sex Dolls\n",
      "Sentiment(classification='pos', p_pos=0.6159457908962003, p_neg=0.3840542091038009)\n",
      "*****************************************************************************************\n",
      "London Neighborhood Evacuated After WWII German Bomb Found\n",
      "Sentiment(classification='neg', p_pos=0.4766095879776912, p_neg=0.5233904120223077)\n",
      "*****************************************************************************************\n",
      "Russia's Lavrov: U.S. Scandal Over Russian Contacts 'a Witch Hunt': RIA\n",
      "Sentiment(classification='pos', p_pos=0.9962276087194581, p_neg=0.0037723912805432253)\n",
      "*****************************************************************************************\n",
      "EU Awaits 'Solid Outline' of Trump Trade Goals With Europe\n",
      "Sentiment(classification='pos', p_pos=0.9751167726055827, p_neg=0.024883227394416486)\n",
      "*****************************************************************************************\n",
      "As Europeans Steer Clear, Turkey Pins Hope on Arab Tourists\n",
      "Sentiment(classification='neg', p_pos=0.3270562521569078, p_neg=0.6729437478430916)\n",
      "*****************************************************************************************\n",
      "Greece Seeks France's Help on Bailout, Eyes 2017 Bond 'Test'\n",
      "Sentiment(classification='neg', p_pos=0.12066047561187222, p_neg=0.8793395243881296)\n",
      "*****************************************************************************************\n",
      "Russian Military Chief Speaks to NATO Counterpart\n",
      "Sentiment(classification='neg', p_pos=0.3057758512203728, p_neg=0.6942241487796275)\n",
      "*****************************************************************************************\n",
      "Macron Gets Presidential Poll Boost as Fillon Crisis Deepens\n",
      "Sentiment(classification='pos', p_pos=0.9549324135731101, p_neg=0.04506758642689103)\n",
      "*****************************************************************************************\n",
      "Bruised DUP Edge Buoyant Sinn Fein in Northern Ireland Election\n",
      "Sentiment(classification='pos', p_pos=0.6465633726691274, p_neg=0.353436627330872)\n",
      "*****************************************************************************************\n",
      "Dutch Paradox: Voters Head for Far Right Amidst Rising Prosperity\n",
      "Sentiment(classification='pos', p_pos=0.9401902999186393, p_neg=0.05980970008135941)\n",
      "*****************************************************************************************\n",
      "UK Should Make Unilateral Offer on Post-Brexit Rights of EU Citizens: Lawmakers\n",
      "Sentiment(classification='pos', p_pos=0.7468704260771197, p_neg=0.25312957392287927)\n",
      "*****************************************************************************************\n",
      "French Presidential Candidate Fillon's Wife Says He Should Battle On\n",
      "Sentiment(classification='pos', p_pos=0.5862190243496932, p_neg=0.4137809756503071)\n",
      "*****************************************************************************************\n",
      "Poll Shows 71 Percent of French Want Fillon to Quit Presidency Race\n",
      "Sentiment(classification='pos', p_pos=0.7157282522868561, p_neg=0.2842717477131459)\n",
      "*****************************************************************************************\n",
      "Expert Says Islamic State Has Badly Damaged Major Palmyra Monument\n",
      "Sentiment(classification='neg', p_pos=0.10317982549780323, p_neg=0.8968201745021953)\n",
      "*****************************************************************************************\n",
      "German Conservatives Edge Ahead of Social Democrats in Emnid Poll\n",
      "Sentiment(classification='pos', p_pos=0.9974977455155839, p_neg=0.0025022544844150413)\n",
      "*****************************************************************************************\n",
      "Sinn Fein Upends Elections in Northern Ireland\n",
      "Sentiment(classification='pos', p_pos=0.9051724137931023, p_neg=0.09482758620689669)\n",
      "*****************************************************************************************\n",
      "Northern Ireland Voters Give Sinn Fein Its Biggest Win Ever\n",
      "Sentiment(classification='pos', p_pos=0.9178320872207955, p_neg=0.08216791277920368)\n",
      "*****************************************************************************************\n",
      "Syrian Army Takes More Villages From Militants in Northwest Syria\n",
      "Sentiment(classification='pos', p_pos=0.8552209236818193, p_neg=0.14477907631818182)\n",
      "*****************************************************************************************\n",
      "Official: Berlin Truck Attacker Autopsy Indicates Drug Use\n",
      "Sentiment(classification='pos', p_pos=0.9803838879278746, p_neg=0.01961611207212342)\n",
      "*****************************************************************************************\n",
      "Poland Wants Center-Right MEP to Replace Tusk as European Council Head\n",
      "Sentiment(classification='neg', p_pos=0.4717428534857209, p_neg=0.5282571465142774)\n",
      "*****************************************************************************************\n",
      "Obama Spokesman Denies Trump Claim of Wiretap Order\n",
      "Sentiment(classification='pos', p_pos=0.7364644429786221, p_neg=0.26353555702137565)\n",
      "*****************************************************************************************\n",
      "Turkey Plans More Pro-Erdogan Rallies, German Concerns Mount\n",
      "Sentiment(classification='neg', p_pos=0.4924359208727835, p_neg=0.5075640791272142)\n",
      "*****************************************************************************************\n",
      "Turkey Plans More Pro-Erdogan Rallies, German Concerns Mount\n",
      "Sentiment(classification='neg', p_pos=0.4924359208727835, p_neg=0.5075640791272142)\n",
      "*****************************************************************************************\n",
      "Paris Mayor Asks Struggling Candidate to Cancel His Rally\n",
      "Sentiment(classification='pos', p_pos=0.6043643773023081, p_neg=0.39563562269769237)\n",
      "*****************************************************************************************\n",
      "Plane Believed to Be Syrian Crashes Near Turkey-Syria Border\n",
      "Sentiment(classification='pos', p_pos=0.5920993489828755, p_neg=0.40790065101712375)\n",
      "*****************************************************************************************\n",
      "France's Fillon Under Fire as Party Chiefs Bring Forward Crisis Meeting\n",
      "Sentiment(classification='pos', p_pos=0.7082551697067719, p_neg=0.2917448302932296)\n",
      "*****************************************************************************************\n",
      "French Conservative Party Chiefs to Meet Monday Over Fillon Situation\n",
      "Sentiment(classification='pos', p_pos=0.5238099266162624, p_neg=0.4761900733837396)\n",
      "*****************************************************************************************\n",
      "Greek Privatization Agency Says Disused Airport Project to Go Ahead\n",
      "Sentiment(classification='pos', p_pos=0.8850769164864289, p_neg=0.11492308351357203)\n",
      "*****************************************************************************************\n",
      "Dozens Say Christian Leader Made British Boys ‘Bleed for Jesus’\n",
      "Sentiment(classification='pos', p_pos=0.5788683994823219, p_neg=0.4211316005176791)\n",
      "*****************************************************************************************\n",
      "UK Foreign Secretary to Visit Russia With 'Tough Message'\n",
      "Sentiment(classification='pos', p_pos=0.9422032796493869, p_neg=0.05779672035061356)\n",
      "*****************************************************************************************\n",
      "Spanish Police Arrest 24 in Bust of Colombian Cocaine Ring\n",
      "Sentiment(classification='neg', p_pos=0.27176039119804235, p_neg=0.7282396088019579)\n",
      "*****************************************************************************************\n",
      "Serbian Director Lazar Stojanovic Dies at 73\n",
      "Sentiment(classification='neg', p_pos=0.47552836484983296, p_neg=0.5244716351501668)\n",
      "*****************************************************************************************\n",
      "Russian Real Estate Deals Never Materialized for Trump\n",
      "Sentiment(classification='pos', p_pos=0.7836202718971391, p_neg=0.2163797281028616)\n",
      "*****************************************************************************************\n",
      "Tight Deadline for Talks After Nationalist Surge in Northern Ireland\n",
      "Sentiment(classification='pos', p_pos=0.9649809003955279, p_neg=0.03501909960447482)\n",
      "*****************************************************************************************\n",
      "New Vatican Figures Show Deficit Narrowed by Half in 2015\n",
      "Sentiment(classification='neg', p_pos=0.32840503148403266, p_neg=0.6715949685159666)\n",
      "*****************************************************************************************\n",
      "Rows Over Reforms, Election Bog Down Albania's EU Accession Talks\n",
      "Sentiment(classification='pos', p_pos=0.8043382883798403, p_neg=0.19566171162016105)\n",
      "*****************************************************************************************\n",
      "Spanish NGO Boat Rescues 250 Migrants in Mediterranean\n",
      "Sentiment(classification='pos', p_pos=0.9803811659192804, p_neg=0.019618834080717427)\n",
      "*****************************************************************************************\n",
      "Sinn Fein Surge Creates New Northern Ireland Landscape\n",
      "Sentiment(classification='pos', p_pos=0.9934012301279426, p_neg=0.006598769872059911)\n",
      "*****************************************************************************************\n",
      "French Far-Right Candidate Showcases Ex-Communist Converts\n",
      "Sentiment(classification='neg', p_pos=0.31973829032652534, p_neg=0.6802617096734741)\n",
      "*****************************************************************************************\n",
      "EU's Mogherini Urges Kosovo Ratify Montenegro Border Deal\n",
      "Sentiment(classification='pos', p_pos=0.9024280575539572, p_neg=0.09757194244604377)\n",
      "*****************************************************************************************\n",
      "British Foreign Minister to Visit Russia to Discuss Differences\n",
      "Sentiment(classification='pos', p_pos=0.9959044331027331, p_neg=0.004095566897268466)\n",
      "*****************************************************************************************\n",
      "Sessions to Respond in Writing to Questions Over Russia Contacts-DOJ\n",
      "Sentiment(classification='pos', p_pos=0.9736665512865208, p_neg=0.026333448713480128)\n",
      "*****************************************************************************************\n",
      "Infant and Fetus Remains Are Found at Ex-Home for Unwed Mothers in Ireland\n",
      "Sentiment(classification='pos', p_pos=0.9911153780275416, p_neg=0.00888462197245668)\n",
      "*****************************************************************************************\n",
      "Georgia Suspends Ownership Change for Broadcaster After Euro Court Ruling\n",
      "Sentiment(classification='pos', p_pos=0.967082902896419, p_neg=0.03291709710358188)\n",
      "*****************************************************************************************\n",
      "French Presidential Candidate Fillon's Campaign Chief Resigns\n",
      "Sentiment(classification='pos', p_pos=0.7617674807641229, p_neg=0.2382325192358767)\n",
      "*****************************************************************************************\n",
      "Erdogan Says German Journalist Held in Turkey Was Agent and PKK Member\n",
      "Sentiment(classification='neg', p_pos=0.37411576066904606, p_neg=0.6258842393309514)\n",
      "*****************************************************************************************\n",
      "Secret Life of Tweets Undoes Celebrated Voice of French Suburbs\n",
      "Sentiment(classification='neg', p_pos=0.4109834100869767, p_neg=0.589016589913021)\n",
      "*****************************************************************************************\n",
      "U.N. Sets Agenda for Next Round of Syria Talks, Includes 'Terrorism'\n",
      "Sentiment(classification='pos', p_pos=0.6347904246045699, p_neg=0.3652095753954292)\n",
      "*****************************************************************************************\n",
      "Dutch Government Opposed to Planned Turkish Referendum Rally in Rotterdam\n",
      "Sentiment(classification='pos', p_pos=0.9723659208896314, p_neg=0.027634079110370243)\n",
      "*****************************************************************************************\n",
      "EU's Mogherini Booed in Serbian Parliament Ahead of Balkan Summit\n",
      "Sentiment(classification='neg', p_pos=0.25, p_neg=0.75)\n",
      "*****************************************************************************************\n",
      "France's Le Pen Refused to Be Questioned by Judges in EU Jobs Affair: Lawyer\n",
      "Sentiment(classification='pos', p_pos=0.9065523274173038, p_neg=0.09344767258269733)\n",
      "*****************************************************************************************\n",
      "Hundreds Rescued in Mediterranean as Migrant Arrivals in Italy Outpace 2016\n",
      "Sentiment(classification='pos', p_pos=0.994999616828876, p_neg=0.005000383171124228)\n",
      "*****************************************************************************************\n",
      "Austria's Greens and Far-Right Join Forces to Probe Eurofighter Deal\n",
      "Sentiment(classification='pos', p_pos=0.8423804551643277, p_neg=0.15761954483567292)\n",
      "*****************************************************************************************\n",
      "Syrian Opposition Accepts U.N. Principles at End of Peace Talks\n",
      "Sentiment(classification='pos', p_pos=0.891673186287917, p_neg=0.10832681371208328)\n",
      "*****************************************************************************************\n",
      "Austrian Chancellor Calls for EU-Wide Ban on Turkish Campaigning\n",
      "Sentiment(classification='pos', p_pos=0.5664146898750803, p_neg=0.4335853101249203)\n",
      "*****************************************************************************************\n",
      "Philippine Troops Recover Remains of Beheaded German Hostage\n",
      "Sentiment(classification='pos', p_pos=0.8379253717726485, p_neg=0.16207462822735183)\n",
      "*****************************************************************************************\n",
      "France's Fillon Urges Supporters to 'Resist', Turn Out in Force for Rally\n",
      "Sentiment(classification='pos', p_pos=0.9059287325019558, p_neg=0.09407126749804552)\n",
      "*****************************************************************************************\n",
      "U.N. Syria Talks End With Paper on 12 Principles, Delegate Says\n",
      "Sentiment(classification='pos', p_pos=0.6774085403132206, p_neg=0.32259145968677827)\n",
      "*****************************************************************************************\n",
      "E.U. Lawmakers Call for End to Visa-Free Travel for Americans\n",
      "Sentiment(classification='pos', p_pos=0.7527595824814124, p_neg=0.24724041751858677)\n",
      "*****************************************************************************************\n",
      "Amsterdam Artists Hold 'Nasty Woman' Show to Raise Money for Women's Rights\n",
      "Sentiment(classification='pos', p_pos=0.5023296729227025, p_neg=0.49767032707729725)\n",
      "*****************************************************************************************\n",
      "Dior Sees Blue, Issey Miyake Looks to Northern Lights at Paris Shows\n",
      "Sentiment(classification='pos', p_pos=0.9685820473825442, p_neg=0.031417952617454385)\n",
      "*****************************************************************************************\n",
      "Italy's Renzi Sees Comeback Threatened by Public Tenders Scandal\n",
      "Sentiment(classification='pos', p_pos=0.954495649327833, p_neg=0.04550435067216498)\n",
      "*****************************************************************************************\n",
      "Germany Expects Cannabis-Growing Program to Be Going in 2019\n",
      "Sentiment(classification='pos', p_pos=0.7008598454710347, p_neg=0.2991401545289654)\n",
      "*****************************************************************************************\n",
      "TV Commentator Makes Equality an Issue in Dutch Elections\n",
      "Sentiment(classification='neg', p_pos=0.33235540653813905, p_neg=0.6676445934618598)\n",
      "*****************************************************************************************\n",
      "Montenegro Pro-Russian Leaders Seek Bannon Help Against NATO\n",
      "Sentiment(classification='pos', p_pos=0.9827440877576208, p_neg=0.01725591224237817)\n",
      "*****************************************************************************************\n",
      "Factbox: Rough Guide to Manifesto of Macron, French Presidential Candidate\n",
      "Sentiment(classification='pos', p_pos=0.7985263289364734, p_neg=0.2014736710635252)\n",
      "*****************************************************************************************\n",
      "Greek Police Seize Synthetic Drugs Worth Millions, Arrest 4\n",
      "Sentiment(classification='neg', p_pos=0.3516075272550518, p_neg=0.6483924727449472)\n",
      "*****************************************************************************************\n",
      "Walls, Drones and Mines: Turkey Tightens Border as Syria Incursion Deepens\n",
      "Sentiment(classification='neg', p_pos=0.14940239043824724, p_neg=0.8505976095617541)\n",
      "*****************************************************************************************\n",
      "IRA Suspect on the Run Over 2012 Killing Arraigned in Dublin\n",
      "Sentiment(classification='neg', p_pos=0.029503979709092524, p_neg=0.9704960202909093)\n",
      "*****************************************************************************************\n",
      "Queen Elizabeth Marks St David's Day With Leek Gifts\n",
      "Sentiment(classification='pos', p_pos=0.9320006233804367, p_neg=0.06799937661956314)\n",
      "*****************************************************************************************\n",
      "Polish EU Lawmaker Says Women Intellectually Inferior to Men\n",
      "Sentiment(classification='pos', p_pos=0.658830320750098, p_neg=0.34116967924990177)\n",
      "*****************************************************************************************\n",
      "Berlin Truck Attack Prompts Accord Between Germany, Tunisia\n",
      "Sentiment(classification='pos', p_pos=0.9040748758027438, p_neg=0.09592512419725688)\n",
      "*****************************************************************************************\n",
      "EU to Weigh High-Level Talks With Israel\n",
      "Sentiment(classification='pos', p_pos=0.8166710834707135, p_neg=0.18332891652928704)\n",
      "*****************************************************************************************\n",
      "Belgium Frees Driver Detained for Carrying Gas Cylinders\n",
      "Sentiment(classification='pos', p_pos=0.9894601820415018, p_neg=0.010539817958499783)\n",
      "*****************************************************************************************\n",
      "Turkey, Germany Foreign Ministers to Meet to Discuss Ties: Sources\n",
      "Sentiment(classification='pos', p_pos=0.7753628527991424, p_neg=0.22463714720085978)\n",
      "*****************************************************************************************\n",
      "Separatist Leader Severs Trade Ties With Ukraine Over Rail Blockade\n",
      "Sentiment(classification='pos', p_pos=0.9984109663523218, p_neg=0.001589033647680632)\n",
      "*****************************************************************************************\n",
      "Fire Kills Two in Italy Migrant Farm Workers' 'Ghetto'\n",
      "Sentiment(classification='pos', p_pos=0.922429040114957, p_neg=0.07757095988504335)\n",
      "*****************************************************************************************\n",
      "French Aid Groups Defy Order to Stop Feeding Migrants\n",
      "Sentiment(classification='pos', p_pos=0.5068315132497063, p_neg=0.49316848675029173)\n",
      "*****************************************************************************************\n",
      "Norway: Ryanair Settles With Former Employee\n",
      "Sentiment(classification='pos', p_pos=0.7640429787301533, p_neg=0.23595702126984766)\n",
      "*****************************************************************************************\n",
      "Orban Ally Buys Stakes in Owner of Hungarian Media Group\n",
      "Sentiment(classification='pos', p_pos=0.899469256837663, p_neg=0.10053074316233772)\n",
      "*****************************************************************************************\n",
      "Finnish PM Warns Against Multi-Speed EU\n",
      "Sentiment(classification='pos', p_pos=0.8737623762376235, p_neg=0.12623762376237613)\n",
      "*****************************************************************************************\n",
      "United Nations Expert Slams Trump Over Stance on Torture\n",
      "Sentiment(classification='pos', p_pos=0.5699117514150919, p_neg=0.43008824858490663)\n",
      "*****************************************************************************************\n",
      "Baby Remains Found at Former Church-Run Home for Unmarried Mothers\n",
      "Sentiment(classification='pos', p_pos=0.8269936691715729, p_neg=0.17300633082842612)\n",
      "*****************************************************************************************\n",
      "Less Damage to Ancient Palmyra Than Feared, Syrian Antiquities Chief Says\n",
      "Sentiment(classification='pos', p_pos=0.6336607194098466, p_neg=0.36633928059015397)\n",
      "*****************************************************************************************\n",
      "Total postive counts:\n",
      "97\n",
      "Total negative counts:\n",
      "27\n"
     ]
    }
   ],
   "source": [
    "from textblob import TextBlob\n",
    "from textblob.sentiments import NaiveBayesAnalyzer\n",
    "\n",
    "pos_count = 0\n",
    "neg_count = 0\n",
    "for sentence in headlines:\n",
    "    blob = TextBlob(sentence, analyzer=NaiveBayesAnalyzer())\n",
    "    print(sentence)\n",
    "    print(blob.sentiment)\n",
    "    print('*****************************************************************************************')\n",
    "    if blob.sentiment.classification == 'pos':\n",
    "        pos_count+=1\n",
    "    if blob.sentiment.classification == 'neg':\n",
    "        neg_count+=1\n",
    "print('Total postive counts:')\n",
    "print(pos_count)\n",
    "print('Total negative counts:')\n",
    "print(neg_count)\n",
    "Total = pos_count + neg_count\n",
    "def percentage(part, whole):\n",
    "    return 100 * float(part)/float(whole)\n",
    "neg_percent = percentage(neg_count, Total)\n",
    "pos_percent = percentage(pos_count, Total)\n"
   ]
  },
  {
   "cell_type": "markdown",
   "metadata": {},
   "source": [
    "From all the articles on Europe total positive count is 97 and total negative coint of articles is 27"
   ]
  },
  {
   "cell_type": "markdown",
   "metadata": {},
   "source": [
    "# Analyzing Archive API data"
   ]
  },
  {
   "cell_type": "markdown",
   "metadata": {},
   "source": [
    "# Analysis - 3"
   ]
  },
  {
   "cell_type": "code",
   "execution_count": null,
   "metadata": {
    "collapsed": true
   },
   "outputs": [],
   "source": [
    "# fetching unique years for which we have data"
   ]
  },
  {
   "cell_type": "code",
   "execution_count": 9,
   "metadata": {
    "collapsed": false
   },
   "outputs": [
    {
     "name": "stdout",
     "output_type": "stream",
     "text": [
      "['2016-09', '2016-10', '2016-11', '2016-12', '2017-01', '2017-02']\n"
     ]
    }
   ],
   "source": [
    "from glob import glob                                        #importing glob library\n",
    "list_push_Year_month=[]\n",
    "import json\n",
    "                    \n",
    "for filename in glob('data/Archive/*.json'):                 #iterrating over all the json files in data folder\n",
    "    with open(filename) as r:                                #opening each files and giving alias as r\n",
    "        json_data = json.load(r)                             #loading the data of each file into json_data\n",
    "        json_response=json_data['response']                  #getting response from each page\n",
    "        json_docs=json_response['docs']                      #getting all articles from every page\n",
    "        for doc in json_docs:                                #iterating over articles\n",
    "            if doc['pub_date'][:7] not in list_push_Year_month:\n",
    "                list_push_Year_month.append(doc['pub_date'][:7])\n",
    "            \n",
    "print(list_push_Year_month)"
   ]
  },
  {
   "cell_type": "code",
   "execution_count": null,
   "metadata": {
    "collapsed": true
   },
   "outputs": [],
   "source": [
    "# fetch unique section names for all years and their count"
   ]
  },
  {
   "cell_type": "code",
   "execution_count": 11,
   "metadata": {
    "collapsed": false
   },
   "outputs": [
    {
     "name": "stdout",
     "output_type": "stream",
     "text": [
      "2016_09\n",
      "[('World', 12180), ('U.S.', 11860), ('Opinion', 11460), ('Fashion & Style', 10920), ('Arts', 9700)]\n",
      "2016_10\n",
      "{'U.S.': 13040, 'Fashion & Style': 7320, 'T Magazine': 2600, 'World': 11280, 'Sports': 9540, 'Times Insider': 880, 'Style': 600, 'Arts': 10160, 'NYT Now': 160, 'Health': 560, 'Opinion': 13140, 'Corrections': 620, 'Crosswords & Games': 940, 'N.Y. / Region': 6160, 'Today’s Paper': 620, 'Business Day': 8660, 'The Upshot': 1100, 'Theater': 2180, 'Technology': 2440, 'Science': 1800, 'Books': 3640, 'Movies': 2780, 'Food': 2340, 'Travel': 1680, 'Briefing': 1480, 'Real Estate': 2140, 'Sunday Review': 40, 'Job Market': 280, 'Magazine': 1480, 'Multimedia/Photos': 460, 'The Learning Network': 1980, 'Blogs': 600, 'Well': 1680, 'Podcasts': 240, 'Your Money': 560, 'Public Editor': 100, 'Automobiles': 220, 'Universal': 100, 'Obituaries': 80, 'Admin': 20, 'Education': 60, 'Watching': 120, 'Giving': 40}\n",
      "2016_11\n",
      "{'World': 10320, 'N.Y. / Region': 6120, 'Arts': 8920, 'Business Day': 7880, 'Well': 1260, 'Theater': 1780, 'Sports': 7380, 'Fashion & Style': 5280, 'U.S.': 12480, 'Technology': 2180, 'Briefing': 1760, 'Blogs': 580, 'The Upshot': 1960, 'Movies': 2780, 'Watching': 560, 'Books': 3680, 'Opinion': 12320, 'Food': 2200, 'Science': 1520, 'Education': 280, 'T Magazine': 2200, 'Real Estate': 2180, 'Style': 700, 'Times Insider': 800, 'The Learning Network': 1920, 'Podcasts': 320, 'Travel': 1300, 'NYT Now': 80, 'Magazine': 1700, 'Multimedia/Photos': 720, 'Universal': 120, 'Health': 700, 'Corrections': 580, 'Crosswords & Games': 780, 'Today’s Paper': 560, 'Your Money': 940, 'Giving': 180, 'Automobiles': 160, 'Public Editor': 200, 'Job Market': 160, 'Sunday Review': 80, 'Admin': 20, 'Obituaries': 20}\n",
      "2016_12\n",
      "{'Arts': 8620, 'Theater': 1760, 'N.Y. / Region': 6940, 'Books': 3400, 'Movies': 3100, 'Business Day': 7600, 'Automobiles': 240, 'Briefing': 1720, 'Universal': 160, 'T Magazine': 1440, 'Fashion & Style': 4180, 'World': 11840, 'Opinion': 11760, 'Sports': 7700, 'Times Insider': 880, 'Well': 1200, 'Food': 2340, 'U.S.': 9100, 'The Upshot': 740, 'Science': 1220, 'Technology': 2180, 'Podcasts': 240, 'Real Estate': 2320, 'The Learning Network': 1580, 'Travel': 1360, 'Magazine': 1840, 'Multimedia/Photos': 480, 'Blogs': 580, 'Health': 940, 'Style': 300, 'Corrections': 660, 'Crosswords & Games': 840, 'Today’s Paper': 560, 'Watching': 480, 'Your Money': 580, 'Public Editor': 180, 'Job Market': 100, 'NYT Now': 120, 'Admin': 20, 'Obituaries': 120, 'International Home': 20, 'Sunday Review': 20}\n",
      "2017_01\n",
      "{'Opinion': 11718, 'Crosswords & Games': 819, 'Technology': 1932, 'Arts': 8799, 'Business Day': 7896, 'U.S.': 15624, 'Books': 3087, 'Sports': 7938, 'N.Y. / Region': 6090, 'World': 10920, 'Movies': 3297, 'Food': 2310, 'Real Estate': 1827, 'Corrections': 693, 'Fashion & Style': 6216, 'Today’s Paper': 609, 'Theater': 1785, 'Science': 1596, 'Briefing': 1785, 'Health': 588, 'The Upshot': 819, 'Well': 1218, 'Travel': 1491, 'Blogs': 483, 'Watching': 420, 'Public Editor': 231, 'T Magazine': 1932, 'The Learning Network': 2079, 'Magazine': 1428, 'Multimedia/Photos': 231, 'Your Money': 483, 'Times Insider': 924, 'Automobiles': 231, 'Podcasts': 189, 'Style': 462, 'Job Market': 231, 'Universal': 84, 'NYT Now': 126, 'Obituaries': 63, 'Multimedia': 252, None: 168, 'Sunday Review': 105, 'International Home': 21, 'Education': 105, 'Homepage': 21}\n",
      "2017_02\n",
      "{'Multimedia': 400, 'Movies': 3160, 'Arts': 8960, 'Well': 1000, 'Business Day': 6540, 'Opinion': 9960, 'N.Y. / Region': 4940, 'Briefing': 1520, 'Books': 2900, 'U.S.': 10700, 'Sports': 6720, 'Public Editor': 200, 'Watching': 560, 'Times Insider': 680, 'Science': 1160, 'Fashion & Style': 7220, 'Theater': 1280, 'Technology': 1820, 'T Magazine': 2800, 'World': 9580, 'Food': 2040, 'The Upshot': 740, 'Real Estate': 1860, 'Job Market': 100, 'Automobiles': 180, None: 240, 'Podcasts': 440, 'Travel': 1300, 'Education': 240, 'Magazine': 1220, 'The Learning Network': 1780, 'Corrections': 580, 'Crosswords & Games': 820, 'Today’s Paper': 540, 'Obituaries': 100, 'Style': 900, 'Health': 720, 'Your Money': 720, 'Blogs': 420, 'Multimedia/Photos': 100, 'NYT Now': 180, 'Open': 20, 'Universal': 80, 'Sunday Review': 40, 'International Home': 20}\n"
     ]
    }
   ],
   "source": [
    "from glob import glob                                        #importing glob library\n",
    "list_sections_2016_09 = {};                                  #empty list to store different categories by section_name\n",
    "list_sections_2016_10 = {}; \n",
    "list_sections_2016_11 = {}; \n",
    "list_sections_2016_12 = {};\n",
    "list_sections_2017_01 = {};\n",
    "list_sections_2017_02 = {}; \n",
    "import json\n",
    "                                                \n",
    "for filename in glob('data/Archive/*.json'):                 #iterrating over all the json files in data folder\n",
    "    with open(filename) as r:                                #opening each files and giving alias as r\n",
    "        json_data = json.load(r)                             #loading the data of each file into json_data\n",
    "        json_response=json_data['response']                  #getting response from each page\n",
    "        json_docs=json_response['docs']                      #getting all articles from every page\n",
    "        for doc in json_docs:                                #iterating over articles\n",
    "            if doc['pub_date'][:7]=='2016-09':\n",
    "                if doc['section_name'] not in list_sections_2016_09:  \n",
    "                    list_sections_2016_09[doc['section_name']]=1\n",
    "                else:\n",
    "                     list_sections_2016_09[doc['section_name']]+=1\n",
    "            if doc['pub_date'][:7]=='2016-10':\n",
    "                if doc['section_name'] not in list_sections_2016_10:  \n",
    "                    list_sections_2016_10[doc['section_name']]=1\n",
    "                else:\n",
    "                     list_sections_2016_10[doc['section_name']]+=1\n",
    "            if doc['pub_date'][:7]=='2016-11':\n",
    "                if doc['section_name'] not in list_sections_2016_11:  \n",
    "                    list_sections_2016_11[doc['section_name']]=1\n",
    "                else:\n",
    "                     list_sections_2016_11[doc['section_name']]+=1\n",
    "            if doc['pub_date'][:7]=='2016-12':\n",
    "                if doc['section_name'] not in list_sections_2016_12:  \n",
    "                    list_sections_2016_12[doc['section_name']]=1\n",
    "                else:\n",
    "                     list_sections_2016_12[doc['section_name']]+=1\n",
    "            if doc['pub_date'][:7]=='2017-01':\n",
    "                if doc['section_name'] not in list_sections_2017_01:  \n",
    "                    list_sections_2017_01[doc['section_name']]=1\n",
    "                else:\n",
    "                     list_sections_2017_01[doc['section_name']]+=1\n",
    "            if doc['pub_date'][:7]=='2017-02':\n",
    "                if doc['section_name'] not in list_sections_2017_02:  \n",
    "                    list_sections_2017_02[doc['section_name']]=1\n",
    "                else:\n",
    "                     list_sections_2017_02[doc['section_name']]+=1\n",
    "                    \n",
    "print(\"2016_09\")\n",
    "print(Counter(list_sections_2016_09).most_common(5))\n",
    "print(\"2016_10\")\n",
    "print(list_sections_2016_10)\n",
    "print(\"2016_11\")\n",
    "print(list_sections_2016_11)\n",
    "print(\"2016_12\")\n",
    "print(list_sections_2016_12)\n",
    "print(\"2017_01\")\n",
    "print(list_sections_2017_01)\n",
    "print(\"2017_02\")\n",
    "print(list_sections_2017_02)"
   ]
  },
  {
   "cell_type": "code",
   "execution_count": 12,
   "metadata": {
    "collapsed": true
   },
   "outputs": [],
   "source": [
    "# fetching top 5 sections for 2016_09 and analyzing their trend over 6 months"
   ]
  },
  {
   "cell_type": "code",
   "execution_count": 19,
   "metadata": {
    "collapsed": false
   },
   "outputs": [
    {
     "name": "stdout",
     "output_type": "stream",
     "text": [
      "2016_09\n",
      "[('Arts', 9700), ('Fashion & Style', 10920), ('Opinion', 11460), ('U.S.', 11860), ('World', 12180)]\n",
      "2016_10\n",
      "[('Arts', 10160), ('Fashion & Style', 7320), ('Opinion', 13140), ('U.S.', 13040), ('World', 11280)]\n",
      "2016_11\n",
      "[('Arts', 8920), ('Fashion & Style', 5280), ('Opinion', 12320), ('U.S.', 12480), ('World', 10320)]\n",
      "2016_12\n",
      "[('Arts', 8620), ('Fashion & Style', 4180), ('Opinion', 11760), ('U.S.', 9100), ('World', 11840)]\n",
      "2017_01\n",
      "[('Arts', 8799), ('Fashion & Style', 6216), ('Opinion', 11718), ('U.S.', 15624), ('World', 10920)]\n",
      "2017_02\n",
      "[('Arts', 8960), ('Fashion & Style', 7220), ('Opinion', 9960), ('U.S.', 10700), ('World', 9580)]\n"
     ]
    }
   ],
   "source": [
    "from collections import Counter\n",
    "\n",
    "top5_2016_09={}\n",
    "top5_2016_10={}\n",
    "top5_2016_11={}\n",
    "top5_2016_12={}\n",
    "top5_2017_01={}\n",
    "top5_2017_02={}\n",
    "sections=[]\n",
    "print(\"2016_09\")\n",
    "for each_sec_09 in Counter(list_sections_2016_09).most_common(5):\n",
    "    top5_2016_09[each_sec_09[0]]=each_sec_09[1]\n",
    "print(sorted(top5_2016_09.items()))\n",
    "for each_sec in sorted(top5_2016_09.items()):\n",
    "    sections.append(each_sec[0])\n",
    "print(\"2016_10\")\n",
    "for x in list_sections_2016_10.items():\n",
    "    for y in Counter(list_sections_2016_09).most_common(5):\n",
    "        if x[0]==y[0]:\n",
    "            top5_2016_10[x[0]]=x[1]\n",
    "print(sorted(top5_2016_10.items()))\n",
    "print(\"2016_11\")\n",
    "for x in list_sections_2016_11.items():\n",
    "    for y in Counter(list_sections_2016_09).most_common(5):\n",
    "        if x[0]==y[0]:\n",
    "            top5_2016_11[x[0]]=x[1]\n",
    "print(sorted(top5_2016_11.items()))\n",
    "print(\"2016_12\")\n",
    "for x in list_sections_2016_12.items():\n",
    "    for y in Counter(list_sections_2016_09).most_common(5):\n",
    "        if x[0]==y[0]:\n",
    "            top5_2016_12[x[0]]=x[1]\n",
    "print(sorted(top5_2016_12.items()))\n",
    "print(\"2017_01\")\n",
    "for x in list_sections_2017_01.items():\n",
    "    for y in Counter(list_sections_2016_09).most_common(5):\n",
    "        if x[0]==y[0]:\n",
    "            top5_2017_01[x[0]]=x[1]\n",
    "print(sorted(top5_2017_01.items()))\n",
    "print(\"2017_02\")\n",
    "for x in list_sections_2017_02.items():\n",
    "    for y in Counter(list_sections_2016_09).most_common(5):\n",
    "        if x[0]==y[0]:\n",
    "            top5_2017_02[x[0]]=x[1]\n",
    "print(sorted(top5_2017_02.items()))\n"
   ]
  },
  {
   "cell_type": "code",
   "execution_count": null,
   "metadata": {
    "collapsed": true
   },
   "outputs": [],
   "source": [
    "# plotting a graph to analyze the trend"
   ]
  },
  {
   "cell_type": "code",
   "execution_count": 20,
   "metadata": {
    "collapsed": false
   },
   "outputs": [
    {
     "data": {
      "text/html": [
       "<iframe id=\"igraph\" scrolling=\"no\" style=\"border:none;\" seamless=\"seamless\" src=\"https://plot.ly/~Ruchi1991/22.embed\" height=\"525px\" width=\"100%\"></iframe>"
      ],
      "text/plain": [
       "<plotly.tools.PlotlyDisplay object>"
      ]
     },
     "execution_count": 20,
     "metadata": {},
     "output_type": "execute_result"
    }
   ],
   "source": [
    "arts_data=[top5_2016_09['Arts'],top5_2016_10['Arts'],top5_2016_11['Arts'],top5_2016_12['Arts'],top5_2017_01['Arts'],top5_2017_02['Arts']]\n",
    "fns_data=[top5_2016_09['Fashion & Style'],top5_2016_10['Fashion & Style'],top5_2016_11['Fashion & Style'],top5_2016_12['Fashion & Style'],top5_2017_01['Fashion & Style'],top5_2017_02['Fashion & Style']]\n",
    "opinion_data=[top5_2016_09['Opinion'],top5_2016_10['Opinion'],top5_2016_11['Opinion'],top5_2016_12['Opinion'],top5_2017_01['Opinion'],top5_2017_02['Opinion']]\n",
    "US_data=[top5_2016_09['U.S.'],top5_2016_10['U.S.'],top5_2016_11['U.S.'],top5_2016_12['U.S.'],top5_2017_01['U.S.'],top5_2017_02['U.S.']]\n",
    "world_data=[top5_2016_09['World'],top5_2016_10['World'],top5_2016_11['World'],top5_2016_12['World'],top5_2017_01['World'],top5_2017_02['World']]\n",
    "import plotly.plotly as py\n",
    "import plotly.graph_objs as go\n",
    "\n",
    "trace1 = go.Bar(\n",
    "    x=list_push_Year_month,\n",
    "    y=arts_data,\n",
    "    name='Arts'\n",
    ")\n",
    "trace2 = go.Bar(\n",
    "    x=list_push_Year_month,\n",
    "    y=fns_data,\n",
    "    name='Fashion & Style'\n",
    ")\n",
    "trace3 = go.Bar(\n",
    "    x=list_push_Year_month,\n",
    "    y=opinion_data,\n",
    "    name='Opinion'\n",
    ")\n",
    "trace4 = go.Bar(\n",
    "    x=list_push_Year_month,\n",
    "    y=US_data,\n",
    "    name='U.S.'\n",
    ")\n",
    "trace5 = go.Bar(\n",
    "    x=list_push_Year_month,\n",
    "    y=world_data,\n",
    "    name='World'\n",
    ")\n",
    "data = [trace1, trace2, trace3, trace4, trace5]\n",
    "layout = go.Layout(\n",
    "    barmode='group'\n",
    ")\n",
    "\n",
    "fig = go.Figure(data=data, layout=layout)\n",
    "py.iplot(fig, filename='grouped-bar')"
   ]
  },
  {
   "cell_type": "markdown",
   "metadata": {},
   "source": [
    "This graph shows the trend of top 5 sections of articles from Sep 2016 to feb 2017"
   ]
  }
 ],
 "metadata": {
  "kernelspec": {
   "display_name": "Python 3",
   "language": "python",
   "name": "python3"
  },
  "language_info": {
   "codemirror_mode": {
    "name": "ipython",
    "version": 3
   },
   "file_extension": ".py",
   "mimetype": "text/x-python",
   "name": "python",
   "nbconvert_exporter": "python",
   "pygments_lexer": "ipython3",
   "version": "3.6.0"
  }
 },
 "nbformat": 4,
 "nbformat_minor": 2
}
