{
 "cells": [
  {
   "cell_type": "markdown",
   "metadata": {},
   "source": [
    "# Analysis - 1"
   ]
  },
  {
   "cell_type": "markdown",
   "metadata": {},
   "source": [
    "ANDREW FASTOW, the CFO of Enron was one on the main culprits and we can analyze with whom he was in contact and to whom he has been sending emails and recieving them from."
   ]
  },
  {
   "cell_type": "code",
   "execution_count": 18,
   "metadata": {
    "collapsed": false
   },
   "outputs": [
    {
     "name": "stdout",
     "output_type": "stream",
     "text": [
      "The number of emails sent to Andrew Fastow is 159\n",
      "The number of emails Andrew Fastow sent is 3\n"
     ]
    }
   ],
   "source": [
    "from email.parser import Parser\n",
    "import os,csv\n",
    "\n",
    "rootdir='C:\\\\Users\\\\ruchi\\\\Downloads\\\\maildir'\n",
    "\n",
    "with open('andrew_recieved.csv', 'a',encoding='utf-8') as andrew_recieved: #creating 2 csv's for storing data\n",
    "    writer = csv.writer(andrew_recieved)\n",
    "    writer.writerow(['To','From','Content'])\n",
    "with open('andrew_sent.csv', 'a',encoding='utf-8') as andrew_sent:\n",
    "    writer = csv.writer(andrew_sent)\n",
    "    writer.writerow(['To','From','Content'])\n",
    "andrew_recieved_count=0\n",
    "andrew_sent_count=0\n",
    "for subdir,dirs,files in os.walk(rootdir):                               #iterarting over all the sub folders and emails in them\n",
    "    dir=os.path.basename(subdir)\n",
    "    if dir==\"inbox\" or dir==\"sent\":\n",
    "        for filename in files:\n",
    "            filename = os.path.join(subdir, filename)\n",
    "            with open(filename, 'r') as f:\n",
    "                email = Parser().parsestr(f.read())\n",
    "                \n",
    "                emails_to_andrew=str(email['To'])                         #collecting data if the email is sent to Andrew\n",
    "                if \"andrew.fastow@enron.com\" in emails_to_andrew:\n",
    "                    with open('andrew_recieved.csv', 'a',encoding='utf-8') as andrew_recieved:\n",
    "                        writer = csv.writer(andrew_recieved)\n",
    "                        words=email.get_payload()\n",
    "                        words=words.lower()\n",
    "                        writer.writerow([str(email['To']),str(email['From']),words])\n",
    "                        andrew_recieved_count+=1\n",
    "                    \n",
    "                emails_from_Andrew=str(email['From'])                     #collecting data if the email is recieved from Andrew\n",
    "                if \"andrew.fastow@enron.com\" in emails_from_Andrew:\n",
    "                    with open('andrew_sent.csv', 'a',encoding='utf-8') as andrew_sent:\n",
    "                        writer = csv.writer(andrew_sent)\n",
    "                        words=email.get_payload()\n",
    "                        words=words.lower()\n",
    "                        writer.writerow([str(email['To']),str(email['From']),words])\n",
    "                        andrew_sent_count+=1\n",
    "                    \n",
    "print(\"The number of emails sent to Andrew Fastow is \"+str(andrew_recieved_count))\n",
    "print(\"The number of emails Andrew Fastow sent is \"+str(andrew_sent_count))\n"
   ]
  },
  {
   "cell_type": "markdown",
   "metadata": {},
   "source": [
    "So the number of emails recieved by the CFO,Andrew Fastow is 159 and the number of emails sent by Andrew Fastow is 3.Now analyzing from which email id Andrew recieved the most number of emails and had sent most number of emails"
   ]
  },
  {
   "cell_type": "code",
   "execution_count": 20,
   "metadata": {
    "collapsed": false
   },
   "outputs": [
    {
     "name": "stdout",
     "output_type": "stream",
     "text": [
      "top email senders to Andrew Fastow \n",
      "------------------------------------------\n",
      "[('joannie.williamson@enron.com', 28), ('paula.rieker@enron.com', 12), ('mike.mcconnell@enron.com', 10), ('maureen.mcvicker@enron.com', 8), ('karen.myer@enron.com', 7), ('rosalee.fleming@enron.com', 5), ('gay.mayeux@enron.com', 5), ('rebecca.carter@enron.com', 4), ('l..wells@enron.com', 4), ('billy.dorsey@enron.com', 4), ('kathy.mayfield@enron.com', 4), ('steven.kean@enron.com', 4), ('billy.lemmons@enron.com', 3), ('j..kean@enron.com', 3), ('bobbie.power@enron.com', 3), ('lisa.costello@enron.com', 3), ('denne@enron.com', 3), ('enronsato@hotmail.com', 3), ('sally.beck@enron.com', 2), ('kenneth.lay@enron.com', 2), ('cassandra.schultz@enron.com', 2), ('karen.denne@enron.com', 2), ('kevin.hannon@enron.com', 2), ('b..sanders@enron.com', 2), ('vince.kaminski@enron.com', 2), ('dorsey@enron.com', 2), ('danz@enron.com', 2), ('ben.glisan@enron.com', 2), ('tim.despain@enron.com', 2), ('bryan.seyfried@enron.com', 2)]\n",
      "top recipients of Andrew Fastow \n",
      "------------------------------------------\n",
      "[('greg.whalley@enron.com', 2), ('jeff.skilling@enron.com', 1)]\n"
     ]
    }
   ],
   "source": [
    "from collections import Counter\n",
    "\n",
    "most_emails_andrew_got_from=[]\n",
    "most_emails_andrew_sent_to=[]\n",
    "with open('andrew_recieved.csv','r') as andrew_r:\n",
    "    rows = csv.reader(andrew_r)\n",
    "    for row in rows:\n",
    "        if row:\n",
    "            most_emails_andrew_got_from.append(row[1])        \n",
    "most_emails_got_from=most_emails_andrew_got_from[1:]\n",
    "\n",
    "with open('andrew_sent.csv','r') as andrew_s:\n",
    "    rows = csv.reader(andrew_s)\n",
    "    for row in rows:\n",
    "        if row:\n",
    "            most_emails_andrew_sent_to.append(row[0])\n",
    "most_emails_sent_to=most_emails_andrew_sent_to[1:]\n",
    "\n",
    "counts_got_from = Counter(most_emails_got_from)\n",
    "counts_sent_to = Counter(most_emails_sent_to)\n",
    "\n",
    "\n",
    "print(\"top email senders to Andrew Fastow \")\n",
    "print(\"------------------------------------------\")\n",
    "print(counts_got_from.most_common(30)) \n",
    "\n",
    "print(\"top recipients of Andrew Fastow \")\n",
    "print(\"------------------------------------------\")\n",
    "print(counts_sent_to.most_common(5))\n"
   ]
  },
  {
   "cell_type": "markdown",
   "metadata": {},
   "source": [
    "It can be analyzed that Andrew Fastow dint sent out many emails but he did sent out 3 emails and 2 of them were for greg.whalley@enron.com.Hence I decided to analyze it further to findout major keywords and talked about things in these 2 emails"
   ]
  },
  {
   "cell_type": "code",
   "execution_count": 25,
   "metadata": {
    "collapsed": false
   },
   "outputs": [
    {
     "name": "stdout",
     "output_type": "stream",
     "text": [
      "('petrobras', 26)\n",
      "('transaction', 16)\n",
      "('asep', 12)\n",
      "('--', 10)\n",
      "('meeting', 10)\n",
      "('november', 10)\n",
      "('approval', 8)\n",
      "('letter', 8)\n",
      "('vagner', 8)\n",
      "('victor', 8)\n",
      "('ceg', 6)\n",
      "('october', 4)\n",
      "('state', 4)\n",
      "('agenda', 4)\n",
      "('required', 4)\n",
      "('day', 4)\n",
      "('14', 4)\n",
      "('u', 4)\n",
      "('sends', 4)\n",
      "('governor', 4)\n",
      "('issue', 4)\n",
      "('directive', 4)\n",
      "('wait', 4)\n",
      "('close', 4)\n",
      "('recommendation', 4)\n",
      "('soon', 4)\n",
      "('want', 4)\n",
      "('target', 4)\n",
      "('monday', 4)\n",
      "('closing', 4)\n"
     ]
    }
   ],
   "source": [
    "from nltk.corpus import stopwords\n",
    "from collections import Counter\n",
    "import nltk\n",
    "import string\n",
    "\n",
    "content_email_sent_by_Andrew=''\n",
    "with open('andrew_sent.csv','r') as andrew_s:\n",
    "    rows = csv.reader(andrew_s)\n",
    "    for row in rows:\n",
    "        if row:\n",
    "            if row[0]==\"greg.whalley@enron.com\":\n",
    "                content_email_sent_by_Andrew+=row[2]\n",
    "                \n",
    "string_punctuation = string.punctuation\n",
    "ignoreChar=['\\r','\\n','',' ',\"'s\"]\n",
    "#nums=['0','1','2','3','4','5','6','7','8','9']\n",
    "emails_data = nltk.word_tokenize(content_email_sent_by_Andrew)\n",
    "words_only = [l.lower() for l in emails_data if l not in string_punctuation if l not in ignoreChar]\n",
    "filtered_emails_data=[word for word in words_only if word not in stopwords.words('english')]\n",
    "wnl = nltk.WordNetLemmatizer()\n",
    "counts=Counter([wnl.lemmatize(data) for data in filtered_emails_data])\n",
    "commn_words=[]\n",
    "freq=[]\n",
    "for a in counts.most_common(30):\n",
    "    commn_words.append(a[0])\n",
    "    freq.append(a[1])\n",
    "    print(a)"
   ]
  },
  {
   "cell_type": "code",
   "execution_count": null,
   "metadata": {
    "collapsed": true
   },
   "outputs": [],
   "source": [
    "# Plotting a graph to better understand the data"
   ]
  },
  {
   "cell_type": "code",
   "execution_count": 27,
   "metadata": {
    "collapsed": false
   },
   "outputs": [
    {
     "data": {
      "text/html": [
       "<iframe id=\"igraph\" scrolling=\"no\" style=\"border:none;\" seamless=\"seamless\" src=\"https://plot.ly/~Ruchi1991/18.embed\" height=\"600px\" width=\"800px\"></iframe>"
      ],
      "text/plain": [
       "<plotly.tools.PlotlyDisplay object>"
      ]
     },
     "execution_count": 27,
     "metadata": {},
     "output_type": "execute_result"
    }
   ],
   "source": [
    "import plotly.plotly as py\n",
    "import plotly.graph_objs as go\n",
    "\n",
    "trace0 = go.Scatter(\n",
    "    x=freq,\n",
    "    y=commn_words,\n",
    "    mode='markers',\n",
    "    name='word frequency graph',\n",
    "    marker=dict(\n",
    "        color='rgba(156, 165, 196, 0.95)',\n",
    "        line=dict(\n",
    "            color='rgba(156, 165, 196, 1.0)',\n",
    "            width=.5,\n",
    "        ),\n",
    "        symbol='circle',\n",
    "        size=10,\n",
    "    )\n",
    ")\n",
    "\n",
    "data = [trace0]\n",
    "layout = go.Layout(\n",
    "    title=\"frequency of top 30 taked about words from emails sent out by Andrew Fastow to Greg Whalley\",\n",
    "    xaxis=dict(\n",
    "        showgrid=False,\n",
    "        showline=True,\n",
    "        linecolor='rgb(102, 102, 102)',\n",
    "        titlefont=dict(\n",
    "            color='rgb(204, 204, 204)'\n",
    "        ),\n",
    "        tickfont=dict(\n",
    "            color='rgb(102, 102, 102)',\n",
    "        ),\n",
    "        autotick=False,\n",
    "        dtick=1,\n",
    "        ticks='outside',\n",
    "        tickcolor='rgb(102, 102, 102)',\n",
    "    ),\n",
    "    margin=dict(\n",
    "        l=150,\n",
    "        r=70,\n",
    "        b=50,\n",
    "        t=80\n",
    "    ),\n",
    "    legend=dict(\n",
    "        font=dict(\n",
    "            size=10,\n",
    "        ),\n",
    "        yanchor='middle',\n",
    "        xanchor='right',\n",
    "    ),\n",
    "    width=800,\n",
    "    height=600,\n",
    "    paper_bgcolor='rgb(254, 247, 234)',\n",
    "    plot_bgcolor='rgb(254, 247, 234)',\n",
    "    hovermode='closest',\n",
    ")\n",
    "fig = go.Figure(data=data, layout=layout)\n",
    "py.iplot(fig, filename='word-freq')"
   ]
  },
  {
   "cell_type": "markdown",
   "metadata": {},
   "source": [
    "It can be noticed that the Most talked about words in these emails are \"PETROBRAS\" \"meeting\" \"MONDAY\" \"November\" and According to the research it was found out that the Enron Corp. and Petrobras, Brazil's big, government-owned oil and gas business, have formed a partnership to build a 350 megawatt power plant at Seropedica in the state of Rio de Janeiro in november on Monday."
   ]
  },
  {
   "cell_type": "markdown",
   "metadata": {},
   "source": [
    "# Analysis - 2"
   ]
  },
  {
   "cell_type": "markdown",
   "metadata": {},
   "source": [
    "This span of this data is over the years and I am anlyzying in which month and year most number of emails has been sent and deleted"
   ]
  },
  {
   "cell_type": "code",
   "execution_count": 29,
   "metadata": {
    "collapsed": false
   },
   "outputs": [
    {
     "name": "stdout",
     "output_type": "stream",
     "text": [
      "SENT\n",
      "*****************************************************************************\n",
      "('Apr1999', 20)\n",
      "('Apr2000', 1726)\n",
      "('Apr2001', 4228)\n",
      "('Aug1999', 373)\n",
      "('Aug2000', 3351)\n",
      "('Aug2001', 141)\n",
      "('Dec1998', 49)\n",
      "('Dec1999', 746)\n",
      "('Dec2000', 4096)\n",
      "('Feb1999', 34)\n",
      "('Feb2000', 1235)\n",
      "('Feb2001', 4311)\n",
      "('Jan1999', 58)\n",
      "('Jan2000', 1284)\n",
      "('Jan2001', 4369)\n",
      "('Jul1999', 304)\n",
      "('Jul2000', 2572)\n",
      "('Jul2001', 569)\n",
      "('Jul2002', 21)\n",
      "('Jun1999', 250)\n",
      "('Jun2000', 2611)\n",
      "('Jun2001', 945)\n",
      "('Jun2002', 1)\n",
      "('Mar1999', 40)\n",
      "('Mar2000', 1571)\n",
      "('Mar2001', 4140)\n",
      "('May1999', 266)\n",
      "('May2000', 2119)\n",
      "('May2001', 2992)\n",
      "('Nov1998', 23)\n",
      "('Nov1999', 343)\n",
      "('Nov2000', 4431)\n",
      "('Nov2001', 7)\n",
      "('Oct1998', 4)\n",
      "('Oct1999', 411)\n",
      "('Oct2000', 4399)\n",
      "('Oct2001', 73)\n",
      "('Sep1999', 442)\n",
      "('Sep2000', 3561)\n",
      "('Sep2001', 52)\n",
      "DELETED\n",
      "*****************************************************************************\n",
      "('Apr1986', 1)\n",
      "('Apr2001', 135)\n",
      "('Apr2002', 270)\n",
      "('Aug0001', 3)\n",
      "('Aug2001', 920)\n",
      "('Dec0001', 24)\n",
      "('Dec2001', 2574)\n",
      "('Dec2005', 1)\n",
      "('Feb0002', 5)\n",
      "('Feb2000', 1)\n",
      "('Feb2001', 9)\n",
      "('Feb2002', 2535)\n",
      "('Feb2004', 28)\n",
      "('Jan0002', 13)\n",
      "('Jan2000', 1)\n",
      "('Jan2001', 9)\n",
      "('Jan2002', 11302)\n",
      "('Jul1999', 1)\n",
      "('Jul2001', 733)\n",
      "('Jun0001', 1)\n",
      "('Jun2001', 2157)\n",
      "('Jun2002', 207)\n",
      "('Mar0002', 4)\n",
      "('Mar2000', 1)\n",
      "('Mar2001', 15)\n",
      "('Mar2002', 1232)\n",
      "('May0001', 1)\n",
      "('May1986', 1)\n",
      "('May2001', 2332)\n",
      "('May2002', 296)\n",
      "('May2024', 1)\n",
      "('Nov0001', 23)\n",
      "('Nov2000', 2)\n",
      "('Nov2001', 10088)\n",
      "('Nov2012', 2)\n",
      "('Oct0001', 33)\n",
      "('Oct2000', 3)\n",
      "('Oct2001', 14991)\n",
      "('Sep0001', 3)\n",
      "('Sep2000', 1)\n",
      "('Sep2001', 1032)\n"
     ]
    }
   ],
   "source": [
    "from email.parser import Parser\n",
    "import os\n",
    "\n",
    "rootdir='C:\\\\Users\\\\ruchi\\\\Downloads\\\\maildir'\n",
    "\n",
    "with open('dates_feq_sent.csv', 'a',encoding='utf-8') as fr: #creating 2 csv's for storing data\n",
    "    writer = csv.writer(fr)\n",
    "    writer.writerow(['MonthYear','Month','Year','freq'])\n",
    "    \n",
    "with open('dates_feq_deleted.csv', 'a',encoding='utf-8') as fd: #creating 2 csv's for storing data\n",
    "    writer = csv.writer(fd)\n",
    "    writer.writerow(['MonthYear','Month','Year','freq'])\n",
    "    \n",
    "dates={}\n",
    "dates_deleted={}\n",
    "for subdir,dirs,files in os.walk(rootdir):\n",
    "    dir=os.path.basename(subdir)\n",
    "    if dir==\"sent\":\n",
    "        for filename in files:\n",
    "            filename = os.path.join(subdir, filename)\n",
    "            with open(filename, 'r') as f:\n",
    "                email = Parser().parsestr(f.read())\n",
    "                d=email['Date']\n",
    "                d=d[7:16].replace(\" \",\"\")\n",
    "                if d not in dates:\n",
    "                    dates[d]=1\n",
    "                else:\n",
    "                    dates[d]+=1\n",
    "                    \n",
    "    if dir==\"deleted_items\":\n",
    "        for filename in files:\n",
    "            filename = os.path.join(subdir, filename)\n",
    "            with open(filename, 'r') as deleted_f:\n",
    "                email = Parser().parsestr(deleted_f.read())\n",
    "                d=email['Date']\n",
    "                d=d[7:16].replace(\" \",\"\")\n",
    "                if d not in dates_deleted:\n",
    "                    dates_deleted[d]=1\n",
    "                else:\n",
    "                    dates_deleted[d]+=1\n",
    "\n",
    "print(\"SENT\")\n",
    "print(\"*****************************************************************************\")\n",
    "for date in sorted(dates.items()):\n",
    "    print(date)\n",
    "    with open('dates_feq_sent.csv', 'a',encoding='utf-8') as fr: #creating 2 csv's for storing data\n",
    "        writer = csv.writer(fr)\n",
    "        writer.writerow([date[0],date[0][:3],date[0][3:],date[1]])\n",
    "\n",
    "print(\"DELETED\")\n",
    "print(\"*****************************************************************************\")\n",
    "for d_date in sorted(dates_deleted.items()):\n",
    "    print(d_date)\n",
    "    with open('dates_feq_del.csv', 'a',encoding='utf-8') as fd: #creating 2 csv's for storing data\n",
    "        writer = csv.writer(fd)\n",
    "        writer.writerow([d_date[0],d_date[0][:3],d_date[0][3:],d_date[1]])"
   ]
  },
  {
   "cell_type": "code",
   "execution_count": null,
   "metadata": {
    "collapsed": true
   },
   "outputs": [],
   "source": [
    "# Plotting a graph to better understand the trend"
   ]
  },
  {
   "cell_type": "code",
   "execution_count": 31,
   "metadata": {
    "collapsed": false
   },
   "outputs": [
    {
     "data": {
      "text/html": [
       "<iframe id=\"igraph\" scrolling=\"no\" style=\"border:none;\" seamless=\"seamless\" src=\"https://plot.ly/~Ruchi1991/24.embed\" height=\"525px\" width=\"100%\"></iframe>"
      ],
      "text/plain": [
       "<plotly.tools.PlotlyDisplay object>"
      ]
     },
     "execution_count": 31,
     "metadata": {},
     "output_type": "execute_result"
    }
   ],
   "source": [
    "import plotly.plotly as py\n",
    "import plotly.graph_objs as go\n",
    "\n",
    "x_data_sent_year=[]\n",
    "x_data_sent_freq=[]\n",
    "\n",
    "for date in sorted(dates.items()):\n",
    "    x_data_sent_year.append(date[0])\n",
    "for date in sorted(dates.items()):\n",
    "    x_data_sent_freq.append(date[1])\n",
    "    \n",
    "# Create a trace\n",
    "trace0 = go.Scatter(\n",
    "    x = x_data_sent_year,\n",
    "    y = x_data_sent_freq,\n",
    "    name = 'feq of sent mails',\n",
    "    line = dict(\n",
    "        color = ('rgb(205, 12, 24)'),\n",
    "        width = 4)\n",
    ")\n",
    "\n",
    "data = [trace0]\n",
    "\n",
    "# Edit the layout\n",
    "layout = dict(title = 'Frequency of sent mails for all months and years',\n",
    "              xaxis = dict(title = 'Month Year'),\n",
    "              yaxis = dict(title = 'Frequency'),\n",
    "              )\n",
    "\n",
    "fig = dict(data=data, layout=layout)\n",
    "py.iplot(fig, filename='styled-line')"
   ]
  },
  {
   "cell_type": "code",
   "execution_count": 32,
   "metadata": {
    "collapsed": false
   },
   "outputs": [
    {
     "data": {
      "text/html": [
       "<iframe id=\"igraph\" scrolling=\"no\" style=\"border:none;\" seamless=\"seamless\" src=\"https://plot.ly/~Ruchi1991/24.embed\" height=\"525px\" width=\"100%\"></iframe>"
      ],
      "text/plain": [
       "<plotly.tools.PlotlyDisplay object>"
      ]
     },
     "execution_count": 32,
     "metadata": {},
     "output_type": "execute_result"
    }
   ],
   "source": [
    "import plotly.plotly as py\n",
    "import plotly.graph_objs as go\n",
    "\n",
    "x_data_del_year=[]\n",
    "x_data_del_freq=[]\n",
    "\n",
    "for date_d in sorted(dates_deleted.items()):\n",
    "    x_data_del_year.append(date_d[0])\n",
    "for date_d in sorted(dates_deleted.items()):\n",
    "    x_data_del_freq.append(date_d[1])\n",
    "    \n",
    "# Create a trace\n",
    "trace0 = go.Scatter(\n",
    "    x = x_data_del_year,\n",
    "    y = x_data_del_freq,\n",
    "    name = 'feq of deleted mails',\n",
    "    line = dict(\n",
    "        color = ('rgb(22, 96, 167)'),\n",
    "        width = 4)\n",
    ")\n",
    "\n",
    "data = [trace0]\n",
    "\n",
    "# Edit the layout\n",
    "layout = dict(title = 'Frequency of deleted mails for all months and years',\n",
    "              xaxis = dict(title = 'Month Year'),\n",
    "              yaxis = dict(title = 'Frequency'),\n",
    "              )\n",
    "\n",
    "fig = dict(data=data, layout=layout)\n",
    "py.iplot(fig, filename='styled-line')"
   ]
  },
  {
   "cell_type": "markdown",
   "metadata": {},
   "source": [
    "It can be seen that the maximum number of emails were deleted in OCT 2011 and from the records its visible that in October only, the first article appeared which revealed the details of Fastow's partnerships and shows the precarious nature of Enron's business and the SEC begins an informal probe of Enron.Hence, people at Enron carried out a massive operation of destroying tons of docuents including emails "
   ]
  },
  {
   "cell_type": "markdown",
   "metadata": {},
   "source": [
    "# Analysis - 3"
   ]
  },
  {
   "cell_type": "code",
   "execution_count": null,
   "metadata": {
    "collapsed": true
   },
   "outputs": [],
   "source": []
  }
 ],
 "metadata": {
  "kernelspec": {
   "display_name": "Python 3",
   "language": "python",
   "name": "python3"
  },
  "language_info": {
   "codemirror_mode": {
    "name": "ipython",
    "version": 3
   },
   "file_extension": ".py",
   "mimetype": "text/x-python",
   "name": "python",
   "nbconvert_exporter": "python",
   "pygments_lexer": "ipython3",
   "version": "3.6.0"
  }
 },
 "nbformat": 4,
 "nbformat_minor": 2
}
