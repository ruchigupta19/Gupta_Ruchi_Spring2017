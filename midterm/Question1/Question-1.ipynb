{
 "cells": [
  {
   "cell_type": "markdown",
   "metadata": {},
   "source": [
    "# Using Enron data-set, perform 3 analysis."
   ]
  },
  {
   "cell_type": "markdown",
   "metadata": {},
   "source": [
    "# Analysis - 1"
   ]
  },
  {
   "cell_type": "markdown",
   "metadata": {},
   "source": [
    "ANDREW FASTOW, the CFO of Enron was one on the main culprits and we can analyze with whom he was in contact and to whom he has been sending emails and recieving them from."
   ]
  },
  {
   "cell_type": "code",
   "execution_count": 18,
   "metadata": {
    "collapsed": false
   },
   "outputs": [
    {
     "name": "stdout",
     "output_type": "stream",
     "text": [
      "The number of emails sent to Andrew Fastow is 159\n",
      "The number of emails Andrew Fastow sent is 3\n"
     ]
    }
   ],
   "source": [
    "from email.parser import Parser\n",
    "import os,csv\n",
    "\n",
    "rootdir='C:\\\\Users\\\\ruchi\\\\Downloads\\\\maildir'\n",
    "\n",
    "with open('andrew_recieved.csv', 'a',encoding='utf-8') as andrew_recieved: #creating 2 csv's for storing data\n",
    "    writer = csv.writer(andrew_recieved)\n",
    "    writer.writerow(['To','From','Content'])\n",
    "with open('andrew_sent.csv', 'a',encoding='utf-8') as andrew_sent:\n",
    "    writer = csv.writer(andrew_sent)\n",
    "    writer.writerow(['To','From','Content'])\n",
    "andrew_recieved_count=0\n",
    "andrew_sent_count=0\n",
    "for subdir,dirs,files in os.walk(rootdir):                               #iterarting over all the sub folders and emails in them\n",
    "    dir=os.path.basename(subdir)\n",
    "    if dir==\"inbox\" or dir==\"sent\":\n",
    "        for filename in files:\n",
    "            filename = os.path.join(subdir, filename)\n",
    "            with open(filename, 'r') as f:\n",
    "                email = Parser().parsestr(f.read())\n",
    "                \n",
    "                emails_to_andrew=str(email['To'])                         #collecting data if the email is sent to Andrew\n",
    "                if \"andrew.fastow@enron.com\" in emails_to_andrew:\n",
    "                    with open('andrew_recieved.csv', 'a',encoding='utf-8') as andrew_recieved:\n",
    "                        writer = csv.writer(andrew_recieved)\n",
    "                        words=email.get_payload()\n",
    "                        words=words.lower()\n",
    "                        writer.writerow([str(email['To']),str(email['From']),words])\n",
    "                        andrew_recieved_count+=1\n",
    "                    \n",
    "                emails_from_Andrew=str(email['From'])                     #collecting data if the email is recieved from Andrew\n",
    "                if \"andrew.fastow@enron.com\" in emails_from_Andrew:\n",
    "                    with open('andrew_sent.csv', 'a',encoding='utf-8') as andrew_sent:\n",
    "                        writer = csv.writer(andrew_sent)\n",
    "                        words=email.get_payload()\n",
    "                        words=words.lower()\n",
    "                        writer.writerow([str(email['To']),str(email['From']),words])\n",
    "                        andrew_sent_count+=1\n",
    "                    \n",
    "print(\"The number of emails sent to Andrew Fastow is \"+str(andrew_recieved_count))\n",
    "print(\"The number of emails Andrew Fastow sent is \"+str(andrew_sent_count))\n"
   ]
  },
  {
   "cell_type": "markdown",
   "metadata": {},
   "source": [
    "So the number of emails recieved by the CFO,Andrew Fastow is 159 and the number of emails sent by Andrew Fastow is 3.Now analyzing from which email id Andrew recieved the most number of emails and had sent most number of emails"
   ]
  },
  {
   "cell_type": "code",
   "execution_count": 20,
   "metadata": {
    "collapsed": false
   },
   "outputs": [
    {
     "name": "stdout",
     "output_type": "stream",
     "text": [
      "top email senders to Andrew Fastow \n",
      "------------------------------------------\n",
      "[('joannie.williamson@enron.com', 28), ('paula.rieker@enron.com', 12), ('mike.mcconnell@enron.com', 10), ('maureen.mcvicker@enron.com', 8), ('karen.myer@enron.com', 7), ('rosalee.fleming@enron.com', 5), ('gay.mayeux@enron.com', 5), ('rebecca.carter@enron.com', 4), ('l..wells@enron.com', 4), ('billy.dorsey@enron.com', 4), ('kathy.mayfield@enron.com', 4), ('steven.kean@enron.com', 4), ('billy.lemmons@enron.com', 3), ('j..kean@enron.com', 3), ('bobbie.power@enron.com', 3), ('lisa.costello@enron.com', 3), ('denne@enron.com', 3), ('enronsato@hotmail.com', 3), ('sally.beck@enron.com', 2), ('kenneth.lay@enron.com', 2), ('cassandra.schultz@enron.com', 2), ('karen.denne@enron.com', 2), ('kevin.hannon@enron.com', 2), ('b..sanders@enron.com', 2), ('vince.kaminski@enron.com', 2), ('dorsey@enron.com', 2), ('danz@enron.com', 2), ('ben.glisan@enron.com', 2), ('tim.despain@enron.com', 2), ('bryan.seyfried@enron.com', 2)]\n",
      "top recipients of Andrew Fastow \n",
      "------------------------------------------\n",
      "[('greg.whalley@enron.com', 2), ('jeff.skilling@enron.com', 1)]\n"
     ]
    }
   ],
   "source": [
    "from collections import Counter\n",
    "\n",
    "most_emails_andrew_got_from=[]\n",
    "most_emails_andrew_sent_to=[]\n",
    "with open('andrew_recieved.csv','r') as andrew_r:                 #creating 2 csvs to store the details of senders & recievers\n",
    "    rows = csv.reader(andrew_r)\n",
    "    for row in rows:\n",
    "        if row:\n",
    "            most_emails_andrew_got_from.append(row[1])        \n",
    "most_emails_got_from=most_emails_andrew_got_from[1:]\n",
    "\n",
    "with open('andrew_sent.csv','r') as andrew_s:\n",
    "    rows = csv.reader(andrew_s)\n",
    "    for row in rows:\n",
    "        if row:\n",
    "            most_emails_andrew_sent_to.append(row[0])\n",
    "most_emails_sent_to=most_emails_andrew_sent_to[1:]\n",
    "\n",
    "counts_got_from = Counter(most_emails_got_from)                  #gettung frequency of emails\n",
    "counts_sent_to = Counter(most_emails_sent_to)\n",
    "\n",
    "\n",
    "print(\"top email senders to Andrew Fastow \")\n",
    "print(\"------------------------------------------\") \n",
    "print(counts_got_from.most_common(30))                           #printing emailids with max number of counts\n",
    "\n",
    "print(\"top recipients of Andrew Fastow \")\n",
    "print(\"------------------------------------------\")\n",
    "print(counts_sent_to.most_common(5))\n"
   ]
  },
  {
   "cell_type": "markdown",
   "metadata": {},
   "source": [
    "It can be analyzed that Andrew Fastow dint sent out many emails but he did sent out 3 emails and 2 of them were for greg.whalley@enron.com.Hence I decided to analyze it further to findout major keywords and talked about things in these 2 emails"
   ]
  },
  {
   "cell_type": "code",
   "execution_count": 25,
   "metadata": {
    "collapsed": false
   },
   "outputs": [
    {
     "name": "stdout",
     "output_type": "stream",
     "text": [
      "('petrobras', 26)\n",
      "('transaction', 16)\n",
      "('asep', 12)\n",
      "('--', 10)\n",
      "('meeting', 10)\n",
      "('november', 10)\n",
      "('approval', 8)\n",
      "('letter', 8)\n",
      "('vagner', 8)\n",
      "('victor', 8)\n",
      "('ceg', 6)\n",
      "('october', 4)\n",
      "('state', 4)\n",
      "('agenda', 4)\n",
      "('required', 4)\n",
      "('day', 4)\n",
      "('14', 4)\n",
      "('u', 4)\n",
      "('sends', 4)\n",
      "('governor', 4)\n",
      "('issue', 4)\n",
      "('directive', 4)\n",
      "('wait', 4)\n",
      "('close', 4)\n",
      "('recommendation', 4)\n",
      "('soon', 4)\n",
      "('want', 4)\n",
      "('target', 4)\n",
      "('monday', 4)\n",
      "('closing', 4)\n"
     ]
    }
   ],
   "source": [
    "from nltk.corpus import stopwords\n",
    "from collections import Counter\n",
    "import nltk\n",
    "import string\n",
    "\n",
    "content_email_sent_by_Andrew=''\n",
    "with open('andrew_sent.csv','r') as andrew_s:\n",
    "    rows = csv.reader(andrew_s)\n",
    "    for row in rows:\n",
    "        if row:\n",
    "            if row[0]==\"greg.whalley@enron.com\":\n",
    "                content_email_sent_by_Andrew+=row[2]         #collecting all content from the emails sent out by Andrew\n",
    "                \n",
    "string_punctuation = string.punctuation\n",
    "ignoreChar=['\\r','\\n','',' ',\"'s\"]\n",
    "#nums=['0','1','2','3','4','5','6','7','8','9']\n",
    "emails_data = nltk.word_tokenize(content_email_sent_by_Andrew)         #tokenizing content\n",
    "words_only = [l.lower() for l in emails_data if l not in string_punctuation if l not in ignoreChar] #removing unwanted words\n",
    "filtered_emails_data=[word for word in words_only if word not in stopwords.words('english')] #removing stopwords\n",
    "wnl = nltk.WordNetLemmatizer()                                         #lemmatizing words\n",
    "counts=Counter([wnl.lemmatize(data) for data in filtered_emails_data]) #recording the count of words\n",
    "commn_words=[] \n",
    "freq=[]\n",
    "for a in counts.most_common(30):                                   #printing words\n",
    "    commn_words.append(a[0])\n",
    "    freq.append(a[1])\n",
    "    print(a)"
   ]
  },
  {
   "cell_type": "code",
   "execution_count": null,
   "metadata": {
    "collapsed": true
   },
   "outputs": [],
   "source": [
    "# Plotting a graph to better understand the data"
   ]
  },
  {
   "cell_type": "code",
   "execution_count": 27,
   "metadata": {
    "collapsed": false
   },
   "outputs": [
    {
     "data": {
      "text/html": [
       "<iframe id=\"igraph\" scrolling=\"no\" style=\"border:none;\" seamless=\"seamless\" src=\"https://plot.ly/~Ruchi1991/18.embed\" height=\"600px\" width=\"800px\"></iframe>"
      ],
      "text/plain": [
       "<plotly.tools.PlotlyDisplay object>"
      ]
     },
     "execution_count": 27,
     "metadata": {},
     "output_type": "execute_result"
    }
   ],
   "source": [
    "import plotly.plotly as py\n",
    "import plotly.graph_objs as go\n",
    "\n",
    "trace0 = go.Scatter(\n",
    "    x=freq,\n",
    "    y=commn_words,\n",
    "    mode='markers',\n",
    "    name='word frequency graph',\n",
    "    marker=dict(\n",
    "        color='rgba(156, 165, 196, 0.95)',\n",
    "        line=dict(\n",
    "            color='rgba(156, 165, 196, 1.0)',\n",
    "            width=.5,\n",
    "        ),\n",
    "        symbol='circle',\n",
    "        size=10,\n",
    "    )\n",
    ")\n",
    "\n",
    "data = [trace0]\n",
    "layout = go.Layout(\n",
    "    title=\"frequency of top 30 taked about words from emails sent out by Andrew Fastow to Greg Whalley\",\n",
    "    xaxis=dict(\n",
    "        showgrid=False,\n",
    "        showline=True,\n",
    "        linecolor='rgb(102, 102, 102)',\n",
    "        titlefont=dict(\n",
    "            color='rgb(204, 204, 204)'\n",
    "        ),\n",
    "        tickfont=dict(\n",
    "            color='rgb(102, 102, 102)',\n",
    "        ),\n",
    "        autotick=False,\n",
    "        dtick=1,\n",
    "        ticks='outside',\n",
    "        tickcolor='rgb(102, 102, 102)',\n",
    "    ),\n",
    "    margin=dict(\n",
    "        l=150,\n",
    "        r=70,\n",
    "        b=50,\n",
    "        t=80\n",
    "    ),\n",
    "    legend=dict(\n",
    "        font=dict(\n",
    "            size=10,\n",
    "        ),\n",
    "        yanchor='middle',\n",
    "        xanchor='right',\n",
    "    ),\n",
    "    width=800,\n",
    "    height=600,\n",
    "    paper_bgcolor='rgb(254, 247, 234)',\n",
    "    plot_bgcolor='rgb(254, 247, 234)',\n",
    "    hovermode='closest',\n",
    ")\n",
    "fig = go.Figure(data=data, layout=layout)\n",
    "py.iplot(fig, filename='word-freequency_graph')"
   ]
  },
  {
   "cell_type": "markdown",
   "metadata": {},
   "source": [
    "It can be noticed that the Most talked about words in these emails are \"PETROBRAS\" \"meeting\" \"MONDAY\" \"November\" and According to the research it was found out that the Enron Corp. and Petrobras, Brazil's big, government-owned oil and gas business, have formed a partnership in the month of November on Monday."
   ]
  },
  {
   "cell_type": "markdown",
   "metadata": {},
   "source": [
    "# Analysis - 2"
   ]
  },
  {
   "cell_type": "markdown",
   "metadata": {},
   "source": [
    "This span of this data is over the years and I am analzying in which month and year most number of emails has been sent and deleted"
   ]
  },
  {
   "cell_type": "code",
   "execution_count": 12,
   "metadata": {
    "collapsed": false
   },
   "outputs": [
    {
     "name": "stdout",
     "output_type": "stream",
     "text": [
      "SENT\n",
      "*****************************************************************************\n",
      "('Apr1999', 20)\n",
      "('Apr2000', 1726)\n",
      "('Apr2001', 4228)\n",
      "('Aug1999', 373)\n",
      "('Aug2000', 3351)\n",
      "('Aug2001', 141)\n",
      "('Dec1998', 49)\n",
      "('Dec1999', 746)\n",
      "('Dec2000', 4096)\n",
      "('Feb1999', 34)\n",
      "('Feb2000', 1235)\n",
      "('Feb2001', 4311)\n",
      "('Jan1999', 58)\n",
      "('Jan2000', 1284)\n",
      "('Jan2001', 4369)\n",
      "('Jul1999', 304)\n",
      "('Jul2000', 2572)\n",
      "('Jul2001', 569)\n",
      "('Jul2002', 21)\n",
      "('Jun1999', 250)\n",
      "('Jun2000', 2611)\n",
      "('Jun2001', 945)\n",
      "('Jun2002', 1)\n",
      "('Mar1999', 40)\n",
      "('Mar2000', 1571)\n",
      "('Mar2001', 4140)\n",
      "('May1999', 266)\n",
      "('May2000', 2119)\n",
      "('May2001', 2992)\n",
      "('Nov1998', 23)\n",
      "('Nov1999', 343)\n",
      "('Nov2000', 4431)\n",
      "('Nov2001', 7)\n",
      "('Oct1998', 4)\n",
      "('Oct1999', 411)\n",
      "('Oct2000', 4399)\n",
      "('Oct2001', 73)\n",
      "('Sep1999', 442)\n",
      "('Sep2000', 3561)\n",
      "('Sep2001', 52)\n",
      "DELETED\n",
      "*****************************************************************************\n",
      "('Apr1986', 1)\n",
      "('Apr2001', 135)\n",
      "('Apr2002', 270)\n",
      "('Aug0001', 3)\n",
      "('Aug2001', 920)\n",
      "('Dec0001', 24)\n",
      "('Dec2001', 2574)\n",
      "('Dec2005', 1)\n",
      "('Feb0002', 5)\n",
      "('Feb2000', 1)\n",
      "('Feb2001', 9)\n",
      "('Feb2002', 2535)\n",
      "('Feb2004', 28)\n",
      "('Jan0002', 13)\n",
      "('Jan2000', 1)\n",
      "('Jan2001', 9)\n",
      "('Jan2002', 11302)\n",
      "('Jul1999', 1)\n",
      "('Jul2001', 733)\n",
      "('Jun0001', 1)\n",
      "('Jun2001', 2157)\n",
      "('Jun2002', 207)\n",
      "('Mar0002', 4)\n",
      "('Mar2000', 1)\n",
      "('Mar2001', 15)\n",
      "('Mar2002', 1232)\n",
      "('May0001', 1)\n",
      "('May1986', 1)\n",
      "('May2001', 2332)\n",
      "('May2002', 296)\n",
      "('May2024', 1)\n",
      "('Nov0001', 23)\n",
      "('Nov2000', 2)\n",
      "('Nov2001', 10088)\n",
      "('Nov2012', 2)\n",
      "('Oct0001', 33)\n",
      "('Oct2000', 3)\n",
      "('Oct2001', 14991)\n",
      "('Sep0001', 3)\n",
      "('Sep2000', 1)\n",
      "('Sep2001', 1032)\n"
     ]
    }
   ],
   "source": [
    "from email.parser import Parser\n",
    "import os\n",
    "import csv\n",
    "\n",
    "rootdir='C:\\\\Users\\\\ruchi\\\\Downloads\\\\maildir'\n",
    "\n",
    "with open('dates_feq_sent.csv', 'a',encoding='utf-8') as fr: #creating 2 csv's for storing data\n",
    "    writer = csv.writer(fr)\n",
    "    writer.writerow(['MonthYear','Month','Year','freq'])\n",
    "    \n",
    "with open('dates_feq_del.csv', 'a',encoding='utf-8') as fd: #creating 2 csv's for storing data\n",
    "    writer = csv.writer(fd)\n",
    "    writer.writerow(['MonthYear','Month','Year','freq'])\n",
    "    \n",
    "dates={}\n",
    "dates_deleted={}\n",
    "for subdir,dirs,files in os.walk(rootdir):                   #iterating over all the subfolders and folders and files\n",
    "    dir=os.path.basename(subdir)\n",
    "    if dir==\"sent\":\n",
    "        for filename in files:\n",
    "            filename = os.path.join(subdir, filename)\n",
    "            with open(filename, 'r') as f:\n",
    "                email = Parser().parsestr(f.read())\n",
    "                d=email['Date']                             #extracting the date\n",
    "                d=d[7:16].replace(\" \",\"\")\n",
    "                if d not in dates:\n",
    "                    dates[d]=1\n",
    "                else:                                       #stroing the dates and its count in a dictionary\n",
    "                    dates[d]+=1\n",
    "                    \n",
    "    if dir==\"deleted_items\":\n",
    "        for filename in files:\n",
    "            filename = os.path.join(subdir, filename)      #iterating over all the subfolders and folders and file\n",
    "            with open(filename, 'r') as deleted_f:\n",
    "                email = Parser().parsestr(deleted_f.read())\n",
    "                d=email['Date']                            #extracting the date\n",
    "                d=d[7:16].replace(\" \",\"\")\n",
    "                if d not in dates_deleted:\n",
    "                    dates_deleted[d]=1                     #stroing the dates and its count in a dictionary\n",
    "                else:\n",
    "                    dates_deleted[d]+=1\n",
    "\n",
    "print(\"SENT\")\n",
    "print(\"*****************************************************************************\")\n",
    "for date in sorted(dates.items()):                         #printing out the data and storing it in a csv\n",
    "    print(date)\n",
    "    with open('dates_feq_sent.csv', 'a',encoding='utf-8') as fr: #creating 2 csv's for storing data\n",
    "        writer = csv.writer(fr)\n",
    "        writer.writerow([date[0],date[0][:3],date[0][3:],date[1]])\n",
    "\n",
    "print(\"DELETED\")\n",
    "print(\"*****************************************************************************\")\n",
    "for d_date in sorted(dates_deleted.items()):              #printing out the data and storing it in a csv\n",
    "    print(d_date)\n",
    "    with open('dates_feq_del.csv', 'a',encoding='utf-8') as fd: #creating 2 csv's for storing data\n",
    "        writer = csv.writer(fd)\n",
    "        writer.writerow([d_date[0],d_date[0][:3],d_date[0][3:],d_date[1]])"
   ]
  },
  {
   "cell_type": "code",
   "execution_count": null,
   "metadata": {
    "collapsed": true
   },
   "outputs": [],
   "source": [
    "# Plotting a graph to better understand the trend"
   ]
  },
  {
   "cell_type": "code",
   "execution_count": 13,
   "metadata": {
    "collapsed": false
   },
   "outputs": [
    {
     "data": {
      "text/html": [
       "<iframe id=\"igraph\" scrolling=\"no\" style=\"border:none;\" seamless=\"seamless\" src=\"https://plot.ly/~Ruchi1991/26.embed\" height=\"525px\" width=\"100%\"></iframe>"
      ],
      "text/plain": [
       "<plotly.tools.PlotlyDisplay object>"
      ]
     },
     "execution_count": 13,
     "metadata": {},
     "output_type": "execute_result"
    }
   ],
   "source": [
    "import plotly.plotly as py\n",
    "import plotly.graph_objs as go\n",
    "\n",
    "x_data_sent_year=[]\n",
    "x_data_sent_freq=[]\n",
    "\n",
    "for date in sorted(dates.items()):\n",
    "    x_data_sent_year.append(date[0])\n",
    "for date in sorted(dates.items()):\n",
    "    x_data_sent_freq.append(date[1])\n",
    "    \n",
    "# Create a trace\n",
    "trace0 = go.Scatter(\n",
    "    x = x_data_sent_year,\n",
    "    y = x_data_sent_freq,\n",
    "    name = 'feq of sent mails',\n",
    "    line = dict(\n",
    "        color = ('rgb(205, 12, 24)'),\n",
    "        width = 4)\n",
    ")\n",
    "\n",
    "data = [trace0]\n",
    "\n",
    "# Edit the layout\n",
    "layout = dict(title = 'Frequency of sent mails for all months and years',\n",
    "              xaxis = dict(title = 'Month Year'),\n",
    "              yaxis = dict(title = 'Frequency'),\n",
    "              )\n",
    "\n",
    "fig = dict(data=data, layout=layout)\n",
    "py.iplot(fig, filename='Frequency_sent_emails')"
   ]
  },
  {
   "cell_type": "code",
   "execution_count": 14,
   "metadata": {
    "collapsed": false
   },
   "outputs": [
    {
     "data": {
      "text/html": [
       "<iframe id=\"igraph\" scrolling=\"no\" style=\"border:none;\" seamless=\"seamless\" src=\"https://plot.ly/~Ruchi1991/28.embed\" height=\"525px\" width=\"100%\"></iframe>"
      ],
      "text/plain": [
       "<plotly.tools.PlotlyDisplay object>"
      ]
     },
     "execution_count": 14,
     "metadata": {},
     "output_type": "execute_result"
    }
   ],
   "source": [
    "import plotly.plotly as py\n",
    "import plotly.graph_objs as go\n",
    "\n",
    "x_data_del_year=[]\n",
    "x_data_del_freq=[]\n",
    "\n",
    "for date_d in sorted(dates_deleted.items()):\n",
    "    x_data_del_year.append(date_d[0])\n",
    "for date_d in sorted(dates_deleted.items()):\n",
    "    x_data_del_freq.append(date_d[1])\n",
    "    \n",
    "# Create a trace\n",
    "trace0 = go.Scatter(\n",
    "    x = x_data_del_year,\n",
    "    y = x_data_del_freq,\n",
    "    name = 'feq of deleted mails',\n",
    "    line = dict(\n",
    "        color = ('rgb(22, 96, 167)'),\n",
    "        width = 4)\n",
    ")\n",
    "\n",
    "data = [trace0]\n",
    "\n",
    "# Edit the layout\n",
    "layout = dict(title = 'Frequency of deleted mails for all months and years',\n",
    "              xaxis = dict(title = 'Month Year'),\n",
    "              yaxis = dict(title = 'Frequency'),\n",
    "              )\n",
    "\n",
    "fig = dict(data=data, layout=layout)\n",
    "py.iplot(fig, filename='Frequency_deleted_emails')"
   ]
  },
  {
   "cell_type": "markdown",
   "metadata": {},
   "source": [
    "It can be seen that the maximum number of emails were deleted in OCT 2011 and from the records its visible that in October only, the first article appeared which revealed the details of Fastow's partnerships and shows the precarious nature of Enron's business and the SEC begins an informal probe of Enron.Hence, people at Enron carried out a massive operation of destroying tons of docuents including emails "
   ]
  },
  {
   "cell_type": "markdown",
   "metadata": {},
   "source": [
    "# Analysis - 3"
   ]
  },
  {
   "cell_type": "markdown",
   "metadata": {},
   "source": [
    "Kenneth Lay, CEO of Enron was also one of the major culprit involved in the Enron Scandal.I have analyzed emails sent and recieved by Kenneth Lay to further analyze the same."
   ]
  },
  {
   "cell_type": "code",
   "execution_count": 17,
   "metadata": {
    "collapsed": false
   },
   "outputs": [
    {
     "name": "stdout",
     "output_type": "stream",
     "text": [
      "The number of emails sent to Kenneth lay is 1204\n",
      "The number of emails Kenneth lay sent is 7\n"
     ]
    }
   ],
   "source": [
    "from email.parser import Parser\n",
    "import os,csv\n",
    "\n",
    "rootdir='C:\\\\Users\\\\ruchi\\\\Downloads\\\\maildir'\n",
    "\n",
    "with open('kenneth_recieved.csv', 'a',encoding='utf-8') as kenneth_recieved: #creating 2 csv's for storing data\n",
    "    writer = csv.writer(kenneth_recieved)\n",
    "    writer.writerow(['To','From','Content'])\n",
    "with open('kenneth_sent.csv', 'a',encoding='utf-8') as kenneth_sent:\n",
    "    writer = csv.writer(kenneth_sent)\n",
    "    writer.writerow(['To','From','Content'])\n",
    "kenneth_recieved_count=0\n",
    "kenneth_sent_count=0\n",
    "for subdir,dirs,files in os.walk(rootdir):                               #iterarting over all the sub folders and emails in them\n",
    "    dir=os.path.basename(subdir)\n",
    "    if dir==\"inbox\" or dir==\"sent\":\n",
    "        for filename in files:\n",
    "            filename = os.path.join(subdir, filename)\n",
    "            with open(filename, 'r') as f:\n",
    "                email = Parser().parsestr(f.read())\n",
    "                \n",
    "                emails_to_kenneth=str(email['To'])                         #collecting data if the email is sent to Kenneth Lay\n",
    "                if \"kenneth.lay@enron.com\" in emails_to_kenneth:\n",
    "                    with open('kenneth_recieved.csv', 'a',encoding='utf-8') as kenneth_recieved:\n",
    "                        writer = csv.writer(kenneth_recieved)\n",
    "                        words=email.get_payload()\n",
    "                        words=words.lower()\n",
    "                        writer.writerow([str(email['To']),str(email['From']),words])\n",
    "                        kenneth_recieved_count+=1\n",
    "                    \n",
    "                emails_from_kenneth=str(email['From'])                     #collecting data if the email is recieved from Kenneth lay\n",
    "                if \"kenneth.lay@enron.com\" in emails_from_kenneth:\n",
    "                    with open('kenneth_sent.csv', 'a',encoding='utf-8') as kenneth_sent:\n",
    "                        writer = csv.writer(kenneth_sent)\n",
    "                        words=email.get_payload()\n",
    "                        words=words.lower()\n",
    "                        writer.writerow([str(email['To']),str(email['From']),words])\n",
    "                        kenneth_sent_count+=1\n",
    "                    \n",
    "print(\"The number of emails sent to Kenneth lay is \"+str(kenneth_recieved_count))\n",
    "print(\"The number of emails Kenneth lay sent is \"+str(kenneth_sent_count))"
   ]
  },
  {
   "cell_type": "code",
   "execution_count": 36,
   "metadata": {
    "collapsed": false
   },
   "outputs": [
    {
     "name": "stdout",
     "output_type": "stream",
     "text": [
      "top email senders to Kenneth lay \n",
      "------------------------------------------\n",
      "[('kenneth.thibodeaux@enron.com', 96), ('joannie.williamson@enron.com', 46), ('karen.denne@enron.com', 32), ('rosalee.fleming@enron.com', 27), ('paula.rieker@enron.com', 20), ('steven.kean@enron.com', 20), ('svarga@kudlow.com', 20), ('shona.wilson@enron.com', 18), ('j..kean@enron.com', 15), ('simone.la@enron.com', 13), ('john.allison@enron.com', 13), ('enron_update@concureworkplace.com', 13), ('terrie.james@enron.com', 13), ('fraisy.george@enron.com', 12), ('mike.mcconnell@enron.com', 11), ('lynda.l.phinney@williams.com', 11), ('mailings@cnn.com', 11), ('mschopper@houston.org', 10), ('beau@layfam.com', 10), ('maureen.mcvicker@enron.com', 8), ('mark.koenig@enron.com', 8), ('pr <.palmer@enron.com>', 8), ('cindy.olson@enron.com', 8), ('liz.taylor@enron.com', 7), ('nshaw@usenergyservices.com', 7), ('david.delainey@enron.com', 6), ('jeff.donahue@enron.com', 6), ('greg.piper@enron.com', 6), ('la.rose@enron.com', 6), ('jharwood@mindspring.com', 5)]\n",
      "top recipients of Kenneth lay \n",
      "------------------------------------------\n",
      "[(\"erica.adams@enron.com, john.addison@enron.com, matthew.almy@enron.com, \\n\\thector.alviar@enron.com, chuck.ames@enron.com, \\n\\tmatt.anderson@enron.com, james.bakondy@enron.com, \\n\\thicham.benjelloun@enron.com, shelia.benke@enron.com, \\n\\tchristina.benkert@enron.com, peter.bennett@enron.com, \\n\\taaron.berutti@enron.com, laura.bosek@enron.com, \\n\\tedward.brady@enron.com, erika.breen@enron.com, \\n\\tmara.bronstein@enron.com, samantha.bryce@enron.com, \\n\\tbali.bukenya@enron.com, bart.burk@enron.com, \\n\\tcatalina.cardenas@enron.com, tobin.carlson@enron.com, \\n\\tmonika.causholli@enron.com, brandon.cavazos@enron.com, \\n\\tsheila.chang@enron.com, bonnie.chang@enron.com, \\n\\tgabriel.chavez@enron.com, will.chen@enron.com, \\n\\tchristopher.chenoweth@enron.com, shilpa.chunchu@enron.com, \\n\\tmatthew.commons@enron.com, karla.compean@enron.com, \\n\\tzachary.costello@enron.com, jody.crook@enron.com, \\n\\tlindsay.culotta@enron.com, christopher.czuppon@enron.com, \\n\\tmilagros.daetz@enron.com, belinda.dela@enron.com, \\n\\tryan.deane@enron.com, scott.dicke@enron.com, \\n\\tandrew.dickson@enron.com, regan.dolezal@enron.com, \\n\\tivan.donaldson@enron.com, sarah.driscoll@enron.com, \\n\\tgeiv.dubash@enron.com, marcus.edmonds@enron.com, \\n\\tsam.enochian@enron.com, fredrik.eriksson@enron.com, \\n\\tbrian.falik@enron.com, julie.ferrara@enron.com, \\n\\tneithard.foley@enron.com, deborah.freire@enron.com, \\n\\tnathan.gabig@enron.com, sachin.gandhi@enron.com, \\n\\telberg.gelin@enron.com, lisa.gillette@enron.com, \\n\\tgabriel.gonzalez@enron.com, bryan.gottfredson@enron.com, \\n\\tmichelle.gross@enron.com, victor.guggenheim@enron.com, \\n\\tbrad.guilmino@enron.com, amie.ha@enron.com, fariha.haque@enron.com, \\n\\tclaire.harvey@enron.com, damon.harvey@enron.com, \\n\\tomar.hasan@enron.com, maria.hernandez@enron.com, \\n\\tmorela.hernandez@enron.com, alex.hernandez@enron.com, \\n\\tkaren.herrmann@enron.com, veronica.hill@enron.com, \\n\\tryan.hinze@enron.com, steve.hirsh@enron.com, jonathan.hoff@enron.com, \\n\\tstephanie.hopkins@enron.com, paul.horng@enron.com, \\n\\tsavithri.hospeti@enron.com, jason.huang@enron.com, \\n\\tbryan.hull@enron.com, matthew.huray@enron.com, \\n\\tcrystal.hyde@enron.com, zachary.inman@enron.com, \\n\\teric.irani@enron.com, avinash.jain@enron.com, chris.jantz@enron.com, \\n\\tkristen.jarvis@enron.com, shereka.jefferson@enron.com, \\n\\tdaniel.jenkins@enron.com, a..johnson@enron.com, brad.jones@enron.com, \\n\\tdavid.junus@enron.com, gary.justice@enron.com, \\n\\tdanilo.juvane@enron.com, heath.kendall@enron.com, \\n\\tdayem.khandker@enron.com, sona.khanova@enron.com, kim.mina@enron.com, \\n\\tmelanie.king@enron.com, colleen.koenig@enron.com, \\n\\tbrian.kolle@enron.com, michael.kolman@enron.com, \\n\\tethel.koskas@enron.com, nat.kreamer@enron.com, \\n\\tsladana-anna.kulic@enron.com, simone.la@enron.com, \\n\\tfarouk.lalji@enron.com, chad.landry@enron.com, forest.lane@enron.com, \\n\\tjohn.lang@enron.com, carrie.larkworthy@enron.com, \\n\\tmatt.linford@enron.com, jeremy.lo@enron.com, thomas.lowell@enron.com, \\n\\tchris.mallory@enron.com, jabari.martin@enron.com, \\n\\taaron.martinsen@enron.com, david.marye@enron.com, \\n\\tjoseph.matamoros@enron.com, jennifer.mcclain@enron.com, \\n\\trachel.mcphaul@enron.com, jennifer.mcquade@enron.com, \\n\\trishi.modi@enron.com, gabriel.monroy@enron.com, \\n\\tjeremy.morris@enron.com, louis.mrachek@enron.com, \\n\\tmitra.mujica@enron.com, ravi.mujumdar@enron.com, \\n\\thouston <.murphy@enron.com>, kevin.murray@enron.com, \\n\\tclifford.nash@enron.com, kourtney.nelson@enron.com, \\n\\ttimmy.ng@enron.com, a.nichols@enron.com, olivia.nigh@enron.com, \\n\\tfedor.oboukhov@enron.com, jeffrey.oh@enron.com, \\n\\tmatthew.olney@enron.com, michael.olsen@enron.com, \\n\\tjustin.o'malley@enron.com, ryan.o'rourke@enron.com, \\n\\tfelipe.ospina@enron.com, chetan.paipanandiker@enron.com, \\n\\tsamuel.pak@enron.com, alli.parent@enron.com, mona.parikh@enron.com, \\n\\tadnan.patel@enron.com, sanjay.patel@enron.com, \\n\\tsheetal.patel@enron.com, neeran.pathak@enron.com, \\n\\tmatthew.paynter@enron.com, albane.perinne@enron.com, \\n\\tbinh.pham@enron.com, tara.piazze@enron.com, \\n\\tjonathon.pielop@enron.com, terrance.pinckney@enron.com, \\n\\tjoseph.piotrowski@enron.com, james.puntumapanitch@enron.com, \\n\\tkristin.quinn@enron.com, susan.rance@enron.com, \\n\\tsabina.rank@enron.com, michele.raque@enron.com, \\n\\tshiraz.rehman@enron.com, lindsay.renaud@enron.com, \\n\\tcharles.robinson@enron.com, robin.rodrigue@enron.com, \\n\\tgisselle.rohmer@enron.com, robert.rosa@enron.com, \\n\\tjonathan.roumel@enron.com, angela.saenz@enron.com, \\n\\tbrent.samuel@enron.com, marcie.sandford@enron.com, \\n\\teddie.sanguanruang@enron.com, sebastien.saubier@enron.com, \\n\\tleonidas.savvas@enron.com, lauren.schlesinger@enron.com, \\n\\tamanda.schultz@enron.com, ethan.schultz@enron.com, \\n\\tm..scott@enron.com, stephanie.segura@enron.com, \\n\\trahul.seksaria@enron.com, maximilian.sell@enron.com, \\n\\tanthony.sexton@enron.com, jacob.shupe@enron.com, \\n\\tshirley.sidler@enron.com, michael.simmons@enron.com, \\n\\tmartin.sonesson@enron.com, gulay.soykok@enron.com, \\n\\tvictoria.spencer@enron.com, kendell.sprott@enron.com, \\n\\tsean.steele@enron.com, brian.steinbrueck@enron.com, \\n\\tn..stewart@enron.com, ryan.synnott@enron.com, e.taylor@enron.com, \\n\\tryan.taylor@enron.com, maria.tefel@enron.com, \\n\\tkendra.terhune@enron.com, ami.thakkar@enron.com, \\n\\tryan.thibodeaux@enron.com, george.thomas@enron.com, \\n\\tben.thomason@enron.com, jason.thompkins@enron.com, \\n\\tjustyn.thompson@enron.com, thomas.underwood@enron.com, \\n\\tmateo.vegalara@enron.com, luis.velez@enron.com, \\n\\tmelissa.videtto@enron.com, nikolas.wexler@enron.com, \\n\\tjames.whitehead@enron.com, ryan.williams@enron.com, \\n\\tcory.willis@enron.com, erin.willis@enron.com, derek.wilson@enron.com, \\n\\ttravis.winfrey@enron.com, james.wininger@enron.com, \\n\\tiz.wong@enron.com, ashley.worthing@enron.com, allan.wu@enron.com, \\n\\tchristy.wussow@enron.com, nadeem.abdullah@enron.com, \\n\\tvikram.abhyankar@enron.com, david.adams@enron.com, \\n\\tanubhav.aggarwal@enron.com, naveed.ahmed@enron.com, \\n\\tchris.ahn@enron.com, emel.akan@enron.com, c..anderson@enron.com, \\n\\tguillermo.arana@enron.com, jaime.araoz@enron.com, \\n\\tmaria.arefieva@enron.com, dawn.armfield@enron.com, \\n\\tjennifer.bagwell@enron.com, n.baker@enron.com, \\n\\tandres.balmaceda@enron.com, scott.baukney@enron.com, \\n\\tmoises.benchluch@enron.com, terrell.benke@enron.com, \\n\\tteseo.bergoglio@enron.com, eitan.bernstein@enron.com, \\n\\tluis.bravo@enron.com, ursula.brenner@enron.com, \\n\\tharry.bucalo@enron.com, gray.calvert@enron.com, \\n\\tjuan.canavati.@enron.com, andy.chen@enron.com, \\n\\tshravan.chopra@enron.com, jim.cole@enron.com, \\n\\tdustin.collins@enron.com, clarissa.cooper@enron.com, \\n\\tbeth.cowan@enron.com, eduardo.crovato@enron.com, \\n\\tsamir.datta@enron.com, lloyd.dickerson@enron.com, \\n\\tphilip.durst@enron.com, israel.estrada@enron.com, \\n\\tmarlon.farlough@enron.com, eric.feitler@enron.com, \\n\\tloftus.fitzwater@enron.com, david.frost@enron.com, \\n\\tedmund.gaither@enron.com, shruti.gandhi-gupta@enron.com, \\n\\tshalesh.ganjoo@enron.com, santiago.garcia@enron.com, \\n\\tl..gay@enron.com, eduardo.gil@enron.com, steve.gim@enron.com, \\n\\tgustavo.giron@enron.com, andrea.gonzalez@enron.com, \\n\\tsarah.goodpastor@enron.com, joe.gordon@enron.com, \\n\\tjohn.gordon@enron.com, scott.griffin@enron.com, \\n\\tjaime.gualy@enron.com, david.guillaume@enron.com, \\n\\twilliam.gurrola@enron.com, roshena.ham@enron.com, \\n\\tjay.hawthorn@enron.com, sanjay.hemani@enron.com, \\n\\tjon.henderlong@enron.com, cybele.henriquez@enron.com, \\n\\tlenny.hochschild@enron.com, john.howton@enron.com, \\n\\tgeorge.huan@enron.com, christiaan.huizer@enron.com, \\n\\tmatthew.jachimiak@enron.com, steve.jacobellis@enron.com, \\n\\tjason.jennaro@enron.com, felipe.jens@enron.com, ken.jett@enron.com, \\n\\tgillian.johnson@enron.com, e..kelly@enron.com, \\n\\trajat.khater@enron.com, samar.khleif@enron.com, ali.khoja@enron.com, \\n\\tjohn.kiani-aslani@enron.com, john.king@enron.com, \\n\\tdavid.kirkpatrick@enron.com, sanjay.konur@enron.com, \\n\\tahmet.kose@enron.com, jebong.lee@enron.com, kyu-bong.lee@enron.com, \\n\\tenrique.lenci@enron.com, barry.lewis@enron.com, \\n\\ttim.lindvall@enron.com, gary.linhart@enron.com, \\n\\tkelli.little@enron.com, todd.litton@enron.com, ying.liu@enron.com, \\n\\tchris.loehr@enron.com, david.loosley@enron.com, boon.lua@enron.com, \\n\\tbrandon.luna@enron.com, steven.luong@enron.com, \\n\\tjoselyn.malamud@enron.com, aamir.maniar@enron.com, \\n\\tmassimo.marolo@enron.com, mauricio.marquez@enron.com, \\n\\tbraden.mcelroy@enron.com, kelley.mcintyre@enron.com, \\n\\tjohn.mcmullan@enron.com, mauricio.mora@enron.com, \\n\\tsarah.mulholland@enron.com, murli.nagwani@enron.com, \\n\\tabhijeet.naik@enron.com, lynn.nazareth@enron.com, \\n\\tmichael.nguyen@enron.com, edosa.obayagbona@enron.com, \\n\\tolalekan.oladeji@enron.com, steve.pan@enron.com, \\n\\tcarlos.paysse@enron.com, juan.pazos@enron.com, chad.pennix@enron.com, \\n\\telizabeth.peters@enron.com, ihor.petrashko@enron.com, \\n\\tmaxim.philippov@enron.com, stephen.plauche@enron.com, \\n\\tadam.pollock@enron.com, phil.polsky@enron.com, \\n\\tmarc.poulson@enron.com, dutch.quigley@enron.com, \\n\\tsergio.rascon@enron.com, punit.rawal@enron.com, \\n\\tchristopher.recker@enron.com, jay.reitmeyer@enron.com, \\n\\tpauline.reyes@enron.com, eric.rhodes@enron.com, \\n\\tcooper.richey@enron.com, elena.robciuc@enron.com, \\n\\tbenjamin.rogers@enron.com, reagan.rorschach@enron.com, \\n\\tderrick.ross@enron.com, justin.rostant@enron.com, \\n\\tdanielle.saadia@enron.com, richard.sagrani@enron.com, \\n\\tmonique.salazar@enron.com, zachary.sampson@enron.com, \\n\\tjuan.samudio@enron.com, monique.sanchez@enron.com, \\n\\tmark.schlueter@enron.com, eric.scott@enron.com, \\n\\tdouglas.seaworth@enron.com, michael.seely@enron.com, \\n\\tvikram.singh@enron.com, inderpal.singh@enron.com, \\n\\tshauywn.smith@enron.com, l.smith@enron.com, j.stephan@enron.com, \\n\\tchris.stokley@enron.com, jennifer.thome@enron.com, \\n\\tyuan.tian@enron.com, marina.titova@enron.com, eboni.troupe@enron.com, \\n\\tchu.wang@enron.com, charles.weldon@enron.com, rob.wheeler@enron.com, \\n\\tcarlos.wheelock@enron.com, charles.wickman@enron.com, \\n\\tnathan.will@enron.com, bryan.williams@enron.com, \\n\\ttony.wolfe@enron.com, michael.wong@enron.com, brian.wood@enron.com, \\n\\tcalvin.xu@enron.com, richard.yeboah@enron.com, \\n\\tmichael.yosowitz@enron.com, jian.zhang@enron.com, \\n\\tmichelle.zhang@enron.com, dulat.zhurgenbay@enron.com, \\n\\tgrant.zimmerman@enron.com, lex.carroll@enron.com, \\n\\ttyrell.harrison@enron.com, matthew.lenhart@enron.com, \\n\\tgreg.martin@enron.com, catherine.pernot@enron.com, \\n\\tibrahim.qureishi@enron.com, bilal.bajwa@enron.com, \\n\\trussell.ballato@enron.com, mog.heu@enron.com, juan.padron@enron.com, \\n\\tbiliana.pehlivanova@enron.com, denver.plachy@enron.com, \\n\\telizabeth.shim@enron.com, jason.wolfe@enron.com, \\n\\tdarren.espey@enron.com, robert.fuller@enron.com, \\n\\tseung-taek.oh@enron.com, willis.philip@enron.com, \\n\\tvladi.pimenov@enron.com, paul.schiavone@enron.com, \\n\\tbryce.schneider@enron.com, matt.smith@enron.com, \\n\\tjoseph.wagner@enron.com, marc.wharton@enron.com, \\n\\tvirawan.yawapongsiri@enron.com, facundo.caminos@enron.com, \\n\\tfei.yan@enron.com, jana.pair@enron.com, jose.martinez@enron.com, \\n\\tmark.morrow@enron.com, michelle.merritt@enron.com, \\n\\tbenjamin.huxen@enron.com, chad.gardner@enron.com, \\n\\tching.lun@enron.com, christina.barthel@enron.com, \\n\\tdarren.ramsey@enron.com, emily.ferguson@enron.com, \\n\\tjacquelyn.matthews@enron.com, jayce.roundtree@enron.com, \\n\\tkhristina.griffin@enron.com, kimberly.ketchum@enron.com, \\n\\tkristen.macadams@enron.com, lin.yin@enron.com, helen.ding@enron.com, \\n\\tmelanie.gaar@enron.com, sonia.balboa@enron.com, \\n\\tjohn.hudson@enron.com, doug.maziur@enron.com, \\n\\tassociates.ect@enron.com, l..wells@enron.com, \\n\\tconstance.charles@enron.com, teresa.bosien@enron.com, \\n\\tivonne.brown@enron.com, rebecca.torres@enron.com, \\n\\tgwendolyn.gray@enron.com, jessie.patterson@enron.com, \\n\\tkaren.davis@enron.com, shelly.friesenhahn@enron.com, \\n\\tjana.giovannini@enron.com, alicia.jenkins@enron.com, \\n\\tlisa.jones@enron.com, andrea.richards@enron.com, c..bland@enron.com, \\n\\te..levingston@enron.com, traci.warner@enron.com, \\n\\tdolores.muzzy@enron.com, paul.lebeau@enron.com, \\n\\tbeth.miertschin@enron.com, chenee'.franklin@enron.com, \\n\\tvalarie.barnes@enron.com, lexi.elliott@enron.com, \\n\\tkimberly.shoaf@enron.com, john.walt@enron.com, donna.jones@enron.com, \\n\\tcathy.lira@enron.com, d..davis@enron.com, \\n\\tjacqueline.coleman@enron.com, patricia.payton@enron.com, \\n\\tshawna.johnson@enron.com, corina.taylor@enron.com, \\n\\tanita.martin@enron.com, alyse.herasimchuk@enron.com, \\n\\tbilly.lemmons@enron.com, l..wells@enron.com, k..allen@enron.com, \\n\\tina.rangel@enron.com, eric.shaw@enron.com, kathy.tibbs@enron.com, \\n\\trobina.barker-bennett@enron.com, jo.kelsey@enron.com, \\n\\tkevin.garland@enron.com, rebekah.rushing@enron.com, \\n\\ts..shively@enron.com, stuart.staley@enron.com, \\n\\tcandace.parker@enron.com, joseph.deffner@enron.com, \\n\\tmegan.angelos@enron.com, rick.buy@enron.com, k..heathman@enron.com, \\n\\tjames.derrick@enron.com, j.harris@enron.com, ben.glisan@enron.com, \\n\\tinez.dauterive@enron.com, j..kean@enron.com, \\n\\tmaureen.mcvicker@enron.com, mark.koenig@enron.com, \\n\\tchristina.grow@enron.com, kenneth.lay@enron.com, \\n\\trosalee.fleming@enron.com, l..wells@enron.com, mark.metts@enron.com, \\n\\tdolores.fisher@enron.com, cindy.olson@enron.com, \\n\\tkathy.mcmahon@enron.com, vanessa.bob@enron.com, lou.pai@enron.com, \\n\\tkaren.owens@enron.com, jeffrey.sherrick@enron.com, \\n\\tvivianna.bolen@enron.com, linda.hawkins@enron.com, \\n\\tandrew.fastow@enron.com, bridget.maronge@enron.com, \\n\\trichard.causey@enron.com, sharron.westbrook@enron.com, \\n\\tl..wells@enron.com, peggy.mccurley@enron.com, \\n\\traymond.bowen@enron.com, marsha.schiller@enron.com, \\n\\twade.cline@enron.com, l..paxton@enron.com, mrudula.gadade@enron.com, \\n\\tmark.frevert@enron.com, nicki.daw@enron.com, a..hughes@enron.com, \\n\\tconnie.blackwood@enron.com, tammie.schoppe@enron.com, \\n\\tjohn.lavorato@enron.com, kimberly.hillis@enron.com, \\n\\tmike.mcconnell@enron.com, cathy.phillips@enron.com, \\n\\trebecca.mcdonald@enron.com, loretta.brelsford@enron.com, \\n\\tjeffrey.mcmahon@enron.com, sue.ford@enron.com, \\n\\ttina.spiller@enron.com, a..shankman@enron.com, \\n\\tjennifer.burns@enron.com, john.sherriff@enron.com, \\n\\tlauren.urquhart@enron.com, greg.whalley@enron.com, \\n\\tm..taylor@enron.com, jeremy.blachman@enron.com, \\n\\tsharon.dick@enron.com, kay.chapman@enron.com, \\n\\tjanet.dietrich@enron.com, dan.leff@enron.com, \\n\\tesmeralda.hinojosa@enron.com, mark.muller@enron.com, \\n\\tbinky.davidson@enron.com, matthew.scrimshaw@enron.com, \\n\\tkerry.ferrari@enron.com, marty.sunde@enron.com, \\n\\tcarol.moffett@enron.com, david.cox@enron.com, jim.fallon@enron.com, \\n\\trod.hayslett@enron.com, kathy.campos@enron.com, \\n\\tstanley.horton@enron.com, cindy.stark@enron.com, \\n\\tdanny.mccarty@enron.com, julie.armstrong@enron.com, \\n\\tdavid.delainey@enron.com, louise.kitchen@enron.com, \\n\\tgreg.piper@enron.com, kevin.hannon@enron.com, ann.brown@enron.com, \\n\\tjennifer.adams@enron.com, m..elliott@enron.com, leah.rijo@enron.com, \\n\\tlucy.marshall@enron.com, ken.rice@enron.com, \\n\\tdorothy.dalton@enron.com, l..wells@enron.com, k..allen@enron.com, \\n\\tdoug.arnell@enron.com, bernie.arnold@enron.com, c..aucoin@enron.com, \\n\\td..baughman@enron.com, tim.belden@enron.com, don.black@enron.com, \\n\\tbrad.richter@enron.com, craig.breslau@enron.com, w..brown@enron.com, \\n\\tf..calger@enron.com, daniel.castagnola@enron.com, \\n\\tamanda.colpean@enron.com, dana.davis@enron.com, \\n\\tjoseph.deffner@enron.com, anthony.duenner@enron.com, \\n\\tdavid.duran@enron.com, joe.edwards@enron.com, \\n\\tmeredith.eggleston@enron.com, jeff.forbis@enron.com, \\n\\tdavid.forster@enron.com, jennifer.fraser@enron.com, \\n\\te..garcia@enron.com, chris.gaskill@enron.com, \\n\\tdoug.gilbert-smith@enron.com, kim.godfrey@enron.com, \\n\\tjeff.golden@enron.com, david.gorte@enron.com, c..gossett@enron.com, \\n\\tmike.grigsby@enron.com, rogers.herndon@enron.com, \\n\\tgeorganne.hodges@enron.com, sean.holmes@enron.com, \\n\\ta..howard@enron.com, robert.hurt@enron.com, troy.henry@enron.com, \\n\\tben.jacoby@enron.com, steve.jernigan@enron.com, \\n\\tscott.josey@enron.com, fred.kelly@enron.com, jeff.kinneman@enron.com, \\n\\tlouise.kitchen@enron.com, fred.lagrasta@enron.com, \\n\\trichard.leibert@enron.com, c..lewis@enron.com, c..lewis@enron.com, \\n\\tcheryl.lipshutz@enron.com, laura.luce@enron.com, \\n\\tmartin.thomas@enron.com, nezi.marvin@enron.com, \\n\\tkevin.mcgowan@enron.com, ed.mcmichael@enron.com, \\n\\tjennifer.medcalf@enron.com, michael.mann@enron.com, \\n\\tl..miller@enron.com, rob.milnthorp@enron.com, jean.mrha@enron.com, \\n\\tricardo.mucci@enron.com, scott.neal@enron.com, l..nowlan@enron.com, \\n\\tedward.ondarza@enron.com, barbara.paige@enron.com, \\n\\telsa.piekielniak@enron.com, m..presto@enron.com, a..price@enron.com, \\n\\tpaul.racicot@enron.com, joe.richards@enron.com, \\n\\tbrad.richter@enron.com, martin.sacchi@enron.com, \\n\\tjames.saunders@enron.com, stewart.seeligson@enron.com, \\n\\tvasant.shanbhogue@enron.com, garet.shaw@enron.com, \\n\\ted.smida@enron.com, e..sommers@enron.com, brian.spector@enron.com, \\n\\td..steffes@enron.com, j..sturm@enron.com, robert.superty@enron.com, \\n\\temma.thomson@enron.com, carl.tricoli@enron.com, \\n\\tbarry.tycholiz@enron.com, w..vickers@enron.com, \\n\\tricky.waddell@enron.com, leslie.ward@enron.com, terry.west@enron.com, \\n\\tw..white@enron.com, brett.wiggs@enron.com, lloyd.will@enron.com, \\n\\tjames.wood@enron.com, richard.zdunkewicz@enron.com, \\n\\tandy.zipper@enron.com, janet.dietrich@enron.com, \\n\\ttony.mataya@enron.com, pr <.palmer@enron.com>, \\n\\trodney.malcolm@enron.com, joe.richards@enron.com, \\n\\tcarol.howes@enron.com, l..wells@enron.com, david.oxley@enron.com, \\n\\tkalen.pieper@enron.com, kim.melodick@enron.com, \\n\\tmarla.barnard@enron.com, paul.trieschman@enron.com, \\n\\tkim.cadena@enron.com, judy.gray@enron.com, gilda.parker@enron.com, \\n\\tdawn.doucet@enron.com, exec.jones@enron.com, ryan.seleznov@enron.com, \\n\\tjeanie.slone@enron.com, shanna.funkhouser@enron.com, \\n\\tgary.smith@enron.com, sheila.walton@enron.com, ann.hill@enron.com, \\n\\tjanie.bonnard@enron.com, l..wells@enron.com, \\n\\tjennifer.fraser@enron.com, kam.keiser@enron.com, \\n\\tmisty.barrett@enron.com, tracy.ngo@enron.com, ed.mcmichael@enron.com, \\n\\talhamd.alkhayat@enron.com, rene.bisono@enron.com, \\n\\tart.bieser@enron.com, barry.tycholiz@enron.com, \\n\\tbasil.karampelas@enron.com, beaven.fernandes@enron.com, \\n\\tben.smith@enron.com, ben.jacoby@enron.com, c..aucoin@enron.com, \\n\\tbrad.kirchhofer@enron.com, brad.romine@enron.com, \\n\\tbrandon.wax@enron.com, brian.spector@enron.com, \\n\\tbrian.butler@enron.com, bruce.harris@enron.com, \\n\\tcarl.tricoli@enron.com, carlos.alatorre@enron.com, \\n\\tcharles.ward@enron.com, charles.delacey@enron.com, \\n\\tcharles.varnell@enron.com, beau.harrison@enron.com, \\n\\tchris.hilgert@enron.com, chris.gaskill@enron.com, \\n\\tchristopher.riley@enron.com, chris.wissemann@enron.com, \\n\\tchris.harman@enron.com, claudio.ribeiro@enron.com, \\n\\tcorry.bentley@enron.com, craig.breslau@enron.com, \\n\\tcraig.chaney@enron.com, craig.sutter@enron.com, \\n\\tbrad.coleman@enron.com, dale.surbey@enron.com, dan.fancler@enron.com, \\n\\tdavid.marks@enron.com, david.gorte@enron.com, david.draper@enron.com, \\n\\tdavid.baumbach@enron.com, david.hoog@enron.com, \\n\\tdave.kistler@enron.com, david.glassford@enron.com, \\n\\trandall.hicks@enron.com, dennis.benevides@enron.com, \\n\\tdon.baughman@enron.com, doug.arnell@enron.com, \\n\\tdoug.gilbert-smith@enron.com, doug.jones@enron.com, \\n\\td..baughman@enron.com, kayne.coulter@enron.com, \\n\\teric.holzer@enron.com, erik.simpson@enron.com, \\n\\terrol.mclaughlin@enron.com, evan.betzer@enron.com, \\n\\tevans.swann@enron.com, j..sturm@enron.com, w..vickers@enron.com, \\n\\tfred.lagrasta@enron.com, fred.enochs@enron.com, \\n\\tfred.cohagan@enron.com, garrick.hill@enron.com, \\n\\tgary.hickerson@enron.com, gary.peng@enron.com, gavin.russo@enron.com, \\n\\tgayle.muench@enron.com, geoffrey.allen@enron.com, f..smith@enron.com, \\n\\tgeorge.mccormick@enron.com, gerald.gobbi@enron.com, \\n\\tgreg.hermans@enron.com, greg.wolfe@enron.com, greg.woulfe@enron.com, \\n\\tguy.dayvault@enron.com, harry.arora@enron.com, \\n\\tharry.walters@enron.com, jeff.ader@enron.com, \\n\\thumberto.cubillos-uejbe@enron.com, s..shively@enron.com, \\n\\ta..hughes@enron.com, brandon.neff@enron.com, james.bryja@enron.com, \\n\\tc..lewis@enron.com, d..steffes@enron.com, jim.fuja@enron.com, \\n\\tjames.wood@enron.com, jay.epstein@enron.com, jay.ferry@enron.com, \\n\\tjeff.forbis@enron.com, c..gossett@enron.com, jeff.donahue@enron.com, \\n\\tjeff.kinneman@enron.com, jeff.golden@enron.com, \\n\\tjeff.richter@enron.com, jesus.melendrez@enron.com, \\n\\tjim.meyn@enron.com, jimmie.williams@enron.com, joe.edwards@enron.com, \\n\\tjohn.arnold@enron.com, john.burrows@enron.com, \\n\\tjohn.postlethwaite@enron.com, john.massey@enron.com, \\n\\tjohn.grass@enron.com, l..nowlan@enron.com, john.wack@enron.com, \\n\\tjohn.millar@enron.com, john.zufferli@enron.com, \\n\\tjonalan.page@enron.com, john.ragsdale@enron.com, \\n\\tjonathan.risch@enron.com, jose.perez-bello@enron.com, \\n\\tjuan.hernandez@enron.com, ken.gustafson@enron.com, \\n\\tkenneth.wang@enron.com, kenneth.lee@enron.com, a..howard@enron.com, \\n\\tkevin.mcgowan@enron.com, kevin.keeney@enron.com, \\n\\tkevin.zheng@enron.com, kim.detiveaux@enron.com, \\n\\tkyle.roblee@enron.com, larry.derrett@enron.com, \\n\\tlee.jackson@enron.com, lloyd.will@enron.com, \\n\\tlowell.bezanis@enron.com, marc.hensel@enron.com, \\n\\tmarc.andraca@enron.com, marc.de@enron.com, marcus.dotson@enron.com, \\n\\tmark.ruane@enron.com, mark.fillinger@enron.com, mark.meier@enron.com, \\n\\tmark.russ@enron.com, mark.metts@enron.com, mark.tawney@enron.com, \\n\\tmark.whitt@enron.com, martin.gleason@enron.com, martin.lin@enron.com, \\n\\tmartin.sacchi@enron.com, matthew.arnold@enron.com, \\n\\tmatt.harris@enron.com, michael.payne@enron.com, \\n\\tmike.grigsby@enron.com, j.beyer@enron.com, mike.curry@enron.com, \\n\\tmike.swerzbin@enron.com, michael.brown@enron.com, \\n\\tmichael.mann@enron.com, michael.ratner@enron.com, \\n\\tshawn.cumberland@enron.com, w..bradley@enron.com, \\n\\tmichael.mcdonald@enron.com, mitch.robinson@enron.com, \\n\\tp..o'neil@enron.com, narsimha.misra@enron.com, \\n\\tnelson.neale@enron.com, paul.pizzolato@enron.com, \\n\\tpaul.bieniawski@enron.com, paulo.issler@enron.com, \\n\\tper.sekse@enron.com, phil.layton@enron.com, k..allen@enron.com, \\n\\tm..love@enron.com, rafael.rangel@enron.com, raj.thapar@enron.com, \\n\\trhenn.cherry@enron.com, richard.lydecker@enron.com, \\n\\trichard.broussard@enron.com, richard.zdunkewicz@enron.com, \\n\\trobert.hurt@enron.com, bob.crane@enron.com, robert.saltiel@enron.com, \\n\\trobert.scheuer@enron.com, roger.estrada@enron.com, \\n\\trogers.herndon@enron.com, ron.bertasi@enron.com, ryan.tull@enron.com, \\n\\tsandeep.kohli@enron.com, scott.josey@enron.com, \\n\\tscott.affelt@enron.com, scott.earnest@enron.com, \\n\\tscott.neal@enron.com, scott.mills@enron.com, steve.iyer@enron.com, \\n\\tsteve.swain@enron.com, steve.jernigan@enron.com, \\n\\tstephen.klein@enron.com, steven.vu@enron.com, \\n\\tstewart.seeligson@enron.com, w..donovan@enron.com, \\n\\ta..martin@enron.com, d..gros@enron.com, tim.despain@enron.com, \\n\\ttim.heizenrader@enron.com, j..detmering@enron.com, \\n\\ttim.belden@enron.com, todd.warwick@enron.com, tony.mataya@enron.com, \\n\\ttorrey.moorer@enron.com, bill.heidecker@enron.com, \\n\\tbill.rust@enron.com, bill.berkeland@enron.com, david.duran@enron.com, \\n\\tmitchell.anderson@enron.com, william.white@enron.com, \\n\\tpatrick.lewis@enron.com, w..brown@enron.com, bill.windle@enron.com, \\n\\tneil.hong@enron.com, heather.purcell@enron.com, \\n\\theather.kroll@enron.com, t..zivley@enron.com, laura.luce@enron.com, \\n\\tlisa.kinsey@enron.com, maureen.raymond@enron.com, \\n\\td..cisneros@enron.com, rachel.massey@enron.com, rita.wynne@enron.com, \\n\\tw..white@enron.com, susan.musch@enron.com, suzanne.farrow@enron.com, \\n\\talice.weekley@enron.com, amanda.colpean@enron.com, v..reed@enron.com, \\n\\tangela.schwarz@enron.com, anne.bike@enron.com, \\n\\tbarbara.paige@enron.com, bridget.fraser@enron.com, \\n\\tbeth.jenkins@enron.com, carol.carter@enron.com, \\n\\tconnie.estrems@enron.com, deborah.merril@enron.com, \\n\\tdonna.greif@enron.com, jeanette.reese@enron.com, a..gomez@enron.com, \\n\\tkim.godfrey@enron.com, leesa.white@enron.com, leslie.ward@enron.com, \\n\\tlisa.bills@enron.com, lisa.yoho@enron.com, lisa.koerselman@enron.com, \\n\\tluitgard.fischer@enron.com, martha.stevens@enron.com, \\n\\tjo.johnson@enron.com, mary.sullivan@enron.com, mary.sontag@enron.com, \\n\\tpatti.sullivan@enron.com, paula.rieker@enron.com, \\n\\tphyllis.anzalone@enron.com, rika.imai@enron.com, \\n\\tsally.beck@enron.com, s..pollan@enron.com, teresa.mandola@enron.com, \\n\\ttosha.henderson@enron.com, tracey.irvin@enron.com\", 1), ('k..allen@enron.com, sally.beck@enron.com, tim.belden@enron.com, \\n\\tjeremy.blachman@enron.com, raymond.bowen@enron.com, \\n\\tlondon.brown@enron.com, bob.butts@enron.com, rick.buy@enron.com, \\n\\tf..calger@enron.com, rebecca.carter@enron.com, \\n\\trichard.causey@enron.com, wade.cline@enron.com, \\n\\twes.colwell@enron.com, bill.cordes@enron.com, david.cox@enron.com, \\n\\tshawn.cumberland@enron.com, joseph.deffner@enron.com, \\n\\tdavid.delainey@enron.com, james.derrick@enron.com, \\n\\tj..detmering@enron.com, janet.dietrich@enron.com, \\n\\trich.dimichele@enron.com, keith.dodson@enron.com, \\n\\tjeff.donahue@enron.com, david.duran@enron.com, \\n\\tfernley.dyson@enron.com, connie.estrems@enron.com, \\n\\tjim.fallon@enron.com, andrew.fastow@enron.com, \\n\\tmark.frevert@enron.com, john.gillis@enron.com, ben.glisan@enron.com, \\n\\tjoe.gold@enron.com, e..haedicke@enron.com, kevin.hannon@enron.com, \\n\\trobert.hayes@enron.com, rod.hayslett@enron.com, \\n\\trobert.hermann@enron.com, gary.hickerson@enron.com, \\n\\tstanley.horton@enron.com, a..hughes@enron.com, \\n\\tmichael.hutchinson@enron.com, charlene.jackson@enron.com, \\n\\tj.kaminski@enron.com, j..kean@enron.com, joe.kishkill@enron.com, \\n\\tlouise.kitchen@enron.com, mark.koenig@enron.com, \\n\\tjohn.lavorato@enron.com, kenneth.lay@enron.com, dan.leff@enron.com, \\n\\trichard.lewis@enron.com, a..lindholm@enron.com, phil.lowry@enron.com, \\n\\tdanny.mccarty@enron.com, george.mcclellan@enron.com, \\n\\tmike.mcconnell@enron.com, rebecca.mcdonald@enron.com, \\n\\tjeffrey.mcmahon@enron.com, mark.metts@enron.com, \\n\\trob.milnthorp@enron.com, kristina.mordaunt@enron.com, \\n\\tmark.muller@enron.com, julia.murray@enron.com, cindy.olson@enron.com, \\n\\tgreg.piper@enron.com, james.prentice@enron.com, \\n\\tbrian.redmond@enron.com, ken.rice@enron.com, paula.rieker@enron.com, \\n\\tmatthew.scrimshaw@enron.com, a..shankman@enron.com, \\n\\trichard.shapiro@enron.com, vicki.sharp@enron.com, \\n\\trex.shelby@enron.com, jeffrey.sherrick@enron.com, \\n\\tjohn.sherriff@enron.com, colleen.sullivan@enron.com, \\n\\tmarty.sunde@enron.com, mitch.taylor@enron.com, \\n\\telizabeth.tilney@enron.com, adam.umanoff@enron.com, \\n\\trob.walls@enron.com, george.wasaff@enron.com, greg.whalley@enron.com', 1), ('e..haedicke@enron.com', 1), ('j..kean@enron.com, john.brindle@enron.com', 1), ('sarah.davis@enron.com', 1), ('tim.despain@enron.com', 1), ('mark.koenig@enron.com, j..kean@enron.com, pr <.palmer@enron.com>, \\n\\tjames.derrick@enron.com, elizabeth.tilney@enron.com, \\n\\tgreg.whalley@enron.com, jeffrey.mcmahon@enron.com, \\n\\traymond.bowen@enron.com', 1)]\n"
     ]
    }
   ],
   "source": [
    "from collections import Counter\n",
    "\n",
    "import sys\n",
    "import csv\n",
    "maxInt = sys.maxsize\n",
    "decrement = True\n",
    "\n",
    "while decrement:\n",
    "    # decrease the maxInt value by factor 10 \n",
    "    # as long as the OverflowError occurs.\n",
    "\n",
    "    decrement = False\n",
    "    try:\n",
    "        csv.field_size_limit(maxInt)\n",
    "    except OverflowError:\n",
    "        maxInt = int(maxInt/10)\n",
    "        decrement = True\n",
    "\n",
    "most_emails_kenneth_got_from=[]\n",
    "most_emails_kenneth_sent_to=[]\n",
    "with open('kenneth_recieved.csv','r') as kenneth_r:                 #reading 2 csvs to store the details of senders & recievers\n",
    "    rows = csv.reader(kenneth_r)\n",
    "    for row in rows:\n",
    "        if row:\n",
    "            most_emails_kenneth_got_from.append(row[1])        \n",
    "most_emails_got_from=most_emails_kenneth_got_from[1:]\n",
    "\n",
    "with open('kenneth_sent.csv','r') as kenneth_s:\n",
    "    rows = csv.reader(kenneth_s)\n",
    "    for row in rows:\n",
    "        if row:\n",
    "            most_emails_kenneth_sent_to.append(row[0])\n",
    "most_emails_sent_to=most_emails_kenneth_sent_to[1:]\n",
    "\n",
    "counts_got_from1 = Counter(most_emails_got_from)                  #gettung frequency of emails\n",
    "counts_sent_to1 = Counter(most_emails_sent_to)\n",
    "\n",
    "\n",
    "print(\"top email senders to Kenneth lay \")\n",
    "print(\"------------------------------------------\") \n",
    "print(counts_got_from1.most_common(30))                           #printing emailids with max number of counts\n",
    "\n",
    "print(\"top recipients of Kenneth lay \")\n",
    "print(\"------------------------------------------\")\n",
    "print(counts_sent_to1.most_common(30))"
   ]
  },
  {
   "cell_type": "code",
   "execution_count": 40,
   "metadata": {
    "collapsed": false
   },
   "outputs": [
    {
     "name": "stdout",
     "output_type": "stream",
     "text": [
      "('program', 13)\n",
      "('associate/analyst', 8)\n",
      "('enron', 8)\n",
      "('one', 4)\n",
      "('company', 4)\n",
      "('--', 4)\n",
      "('purpose', 3)\n",
      "(\"''\", 3)\n",
      "('committee', 3)\n",
      "('afl-cio', 3)\n",
      "('ken', 2)\n",
      "('lay', 2)\n",
      "('department', 2)\n",
      "('subject', 2)\n",
      "('2001', 2)\n",
      "('created', 2)\n",
      "('important', 2)\n",
      "('continue', 2)\n",
      "('remains', 2)\n",
      "('new', 2)\n",
      "('talent', 2)\n",
      "('direction', 2)\n",
      "('many', 2)\n",
      "('business', 2)\n",
      "('graduate', 2)\n",
      "('leader', 2)\n",
      "('also', 2)\n",
      "('message', 2)\n",
      "('every', 2)\n",
      "('earlier', 2)\n"
     ]
    }
   ],
   "source": [
    "from nltk.corpus import stopwords\n",
    "from collections import Counter\n",
    "import nltk\n",
    "import string\n",
    "\n",
    "content_email_sent_by_kenneth=''\n",
    "with open('kenneth_sent.csv','r') as kenneth_s:\n",
    "    rows = csv.reader(kenneth_s)\n",
    "    for row in rows:\n",
    "        if row:\n",
    "            if \"greg.whalley@enron.com\" in row[0]:\n",
    "                content_email_sent_by_kenneth+=row[2]         #collecting all content from the emails sent out by Kenneth\n",
    "                \n",
    "string_punctuation = string.punctuation\n",
    "ignoreChar=['\\r','\\n','',' ',\"'s\"]\n",
    "#nums=['0','1','2','3','4','5','6','7','8','9']\n",
    "emails_data = nltk.word_tokenize(content_email_sent_by_kenneth)         #tokenizing content\n",
    "words_only = [l.lower() for l in emails_data if l not in string_punctuation if l not in ignoreChar] #removing unwanted words\n",
    "filtered_emails_data=[word for word in words_only if word not in stopwords.words('english')] #removing stopwords\n",
    "wnl = nltk.WordNetLemmatizer()                                         #lemmatizing words\n",
    "counts=Counter([wnl.lemmatize(data) for data in filtered_emails_data]) #recording the count of words\n",
    "commn_words=[] \n",
    "freq=[]\n",
    "for a in counts.most_common(30):                                   #printing words\n",
    "    commn_words.append(a[0])\n",
    "    freq.append(a[1])\n",
    "    print(a)"
   ]
  },
  {
   "cell_type": "code",
   "execution_count": 41,
   "metadata": {
    "collapsed": false
   },
   "outputs": [
    {
     "data": {
      "text/html": [
       "<iframe id=\"igraph\" scrolling=\"no\" style=\"border:none;\" seamless=\"seamless\" src=\"https://plot.ly/~Ruchi1991/30.embed\" height=\"600px\" width=\"800px\"></iframe>"
      ],
      "text/plain": [
       "<plotly.tools.PlotlyDisplay object>"
      ]
     },
     "execution_count": 41,
     "metadata": {},
     "output_type": "execute_result"
    }
   ],
   "source": [
    "import plotly.plotly as py\n",
    "import plotly.graph_objs as go\n",
    "\n",
    "trace0 = go.Scatter(\n",
    "    x=freq,\n",
    "    y=commn_words,\n",
    "    mode='markers',\n",
    "    name='word frequency graph',\n",
    "    marker=dict(\n",
    "        color='rgba(156, 165, 196, 0.95)',\n",
    "        line=dict(\n",
    "            color='rgba(156, 165, 196, 1.0)',\n",
    "            width=.5,\n",
    "        ),\n",
    "        symbol='circle',\n",
    "        size=10,\n",
    "    )\n",
    ")\n",
    "\n",
    "data = [trace0]\n",
    "layout = go.Layout(\n",
    "    title=\"frequency of top 30 taked about words from emails sent out by Kenneth lay to Greg Whalley\",\n",
    "    xaxis=dict(\n",
    "        showgrid=False,\n",
    "        showline=True,\n",
    "        linecolor='rgb(102, 102, 102)',\n",
    "        titlefont=dict(\n",
    "            color='rgb(204, 204, 204)'\n",
    "        ),\n",
    "        tickfont=dict(\n",
    "            color='rgb(102, 102, 102)',\n",
    "        ),\n",
    "        autotick=False,\n",
    "        dtick=1,\n",
    "        ticks='outside',\n",
    "        tickcolor='rgb(102, 102, 102)',\n",
    "    ),\n",
    "    margin=dict(\n",
    "        l=150,\n",
    "        r=70,\n",
    "        b=50,\n",
    "        t=80\n",
    "    ),\n",
    "    legend=dict(\n",
    "        font=dict(\n",
    "            size=10,\n",
    "        ),\n",
    "        yanchor='middle',\n",
    "        xanchor='right',\n",
    "    ),\n",
    "    width=800,\n",
    "    height=600,\n",
    "    paper_bgcolor='rgb(254, 247, 234)',\n",
    "    plot_bgcolor='rgb(254, 247, 234)',\n",
    "    hovermode='closest',\n",
    ")\n",
    "fig = go.Figure(data=data, layout=layout)\n",
    "py.iplot(fig, filename='word-freequency_Kenneth_graph')"
   ]
  },
  {
   "cell_type": "code",
   "execution_count": null,
   "metadata": {
    "collapsed": true
   },
   "outputs": [],
   "source": []
  }
 ],
 "metadata": {
  "kernelspec": {
   "display_name": "Python 3",
   "language": "python",
   "name": "python3"
  },
  "language_info": {
   "codemirror_mode": {
    "name": "ipython",
    "version": 3
   },
   "file_extension": ".py",
   "mimetype": "text/x-python",
   "name": "python",
   "nbconvert_exporter": "python",
   "pygments_lexer": "ipython3",
   "version": "3.6.0"
  }
 },
 "nbformat": 4,
 "nbformat_minor": 2
}
