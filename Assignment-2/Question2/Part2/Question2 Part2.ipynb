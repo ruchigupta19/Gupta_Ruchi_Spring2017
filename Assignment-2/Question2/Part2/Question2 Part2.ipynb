{
 "cells": [
  {
   "cell_type": "markdown",
   "metadata": {},
   "source": [
    "# Question 2\n",
    "## Part 2\n",
    "\n",
    "## -> Read only the json files which contain the key called \"restaurants\"\n",
    "## -> For each JSON file, read the timings of the restaurants\n",
    "## -> Extract this data and write it to an excel sheet"
   ]
  },
  {
   "cell_type": "code",
   "execution_count": 35,
   "metadata": {
    "collapsed": false
   },
   "outputs": [
    {
     "name": "stdout",
     "output_type": "stream",
     "text": [
      "Total number of files with key restaurants are 5651\n"
     ]
    }
   ],
   "source": [
    "import json                                                  #importing json library\n",
    "import csv                                                   #importing csv library\n",
    "from glob import glob                                        #importing glob library\n",
    "\n",
    "with open('output_csv.csv', 'a') as outcsv:      #creating an output csv file and adding fieldnames to it\n",
    "    writer = csv.writer(outcsv)\n",
    "    writer.writerow([\"Name of Restaurant\",\"City\",\"Country Code\",\"Day Of Week\",\"Start Time Hour\",\"Start Time Minute\",\"End Time Hour\",\"End Time Minute\"])\n",
    "\n",
    "count=0                                                      #maintaining a counter to count files with key \"restaurants\"\n",
    "\n",
    "for filename in glob('data/*.json'):                         #iterrating over all the json files in data folder\n",
    "    with open(filename) as r:                                #opening each files and giving alias as r\n",
    "        json_data = json.load(r)                             #loading the data of each file into json_data\n",
    "        open_exists = json_data.get('hours',\"none\");         #check if hours key exists else return none\n",
    "        \n",
    "        if json_data['term']==\"restaurants\" and open_exists!=\"none\":\n",
    "            count+=1                                         #recording the count if key is restaurants & hours key exists\n",
    "            hours_open=json_data['hours'][0]['open']         #fetching hours data for every restaurant\n",
    "            \n",
    "            for i in range(len(hours_open)):                 #looping over everyday's data for a restaurant\n",
    "                with open('output_csv.csv', 'a',encoding='utf-8') as outcsv:\n",
    "                    writer = csv.writer(outcsv)\n",
    "                    writer.writerow([json_data['id'].replace(\"-\",\" \"),json_data['location']['city'],json_data['location']['country'],hours_open[i]['day'],hours_open[i]['start'][:2],hours_open[i]['start'][2:],hours_open[i]['end'][:2],hours_open[i]['end'][2:]])\n",
    "\n",
    "print(\"Total number of files with key restaurants are \"+str(count)) \n",
    "                                                    #recording the total number of restaurants' for which data has been written\n"
   ]
  },
  {
   "cell_type": "code",
   "execution_count": null,
   "metadata": {
    "collapsed": true
   },
   "outputs": [],
   "source": []
  },
  {
   "cell_type": "code",
   "execution_count": 14,
   "metadata": {
    "collapsed": false
   },
   "outputs": [],
   "source": [
    "\n",
    "\n"
   ]
  }
 ],
 "metadata": {
  "kernelspec": {
   "display_name": "Python 3",
   "language": "python",
   "name": "python3"
  },
  "language_info": {
   "codemirror_mode": {
    "name": "ipython",
    "version": 3
   },
   "file_extension": ".py",
   "mimetype": "text/x-python",
   "name": "python",
   "nbconvert_exporter": "python",
   "pygments_lexer": "ipython3",
   "version": "3.6.0"
  }
 },
 "nbformat": 4,
 "nbformat_minor": 2
}
