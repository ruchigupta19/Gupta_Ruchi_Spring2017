{
 "cells": [
  {
   "cell_type": "markdown",
   "metadata": {},
   "source": [
    "# Question 1\n",
    "\n",
    "## Learn and understand Zipf's law.Pick any file or files in NLTK package.Prove if Zipf's law works for Natural Language or not.\n",
    "## Requirements: (Must Do) 1) Use ’glob’ to open and read file. If read multiple files use LOOP achieve. 2) Create at least one function and lambda function. 3) Save your data as an CSV file contains (Word, Rank, Frequency) with TITLE and Sort it by RANK. 4)Open your CSV file, generate a log-log figure according to the data you saved. 5) Write a conclusion at the end of your code base on figure."
   ]
  },
  {
   "cell_type": "code",
   "execution_count": null,
   "metadata": {
    "collapsed": true
   },
   "outputs": [],
   "source": [
    "# Reading a file austen-emma.txt and getting frequency of each word after removing punctuation"
   ]
  },
  {
   "cell_type": "code",
   "execution_count": 131,
   "metadata": {
    "collapsed": false
   },
   "outputs": [
    {
     "data": {
      "text/plain": [
       "[('to', 5183),\n",
       " ('the', 4844),\n",
       " ('and', 4672),\n",
       " ('of', 4279),\n",
       " ('I', 3178),\n",
       " ('a', 3004),\n",
       " ('was', 2385),\n",
       " ('her', 2381),\n",
       " ('it', 2128),\n",
       " ('in', 2118),\n",
       " ('not', 2101),\n",
       " ('be', 1970),\n",
       " ('she', 1778),\n",
       " ('that', 1730),\n",
       " ('you', 1677),\n",
       " ('had', 1606),\n",
       " ('as', 1387),\n",
       " ('--', 1382),\n",
       " ('he', 1365),\n",
       " ('for', 1321)]"
      ]
     },
     "execution_count": 131,
     "metadata": {},
     "output_type": "execute_result"
    }
   ],
   "source": [
    "import glob                                                         #import glob\n",
    "from nltk.corpus import gutenberg                                   #import gutenberg\n",
    "from collections import Counter                                     #import counter\n",
    "import string                                                       #import String\n",
    "\n",
    "d={}                                                                #create Empty Dictionary\n",
    "string_punctuation = string.punctuation                             #list of punctuation\n",
    "files = glob.glob(\"C:\\\\Users\\\\ruchi\\\\nltk_data\\\\corpora\\\\gutenberg\\\\austen-emma.txt\")\n",
    "words = gutenberg.words(files)                                      #getting all the words from the file austen-emma.txt\n",
    "words_cleaned=(word for word in words if word not in string_punctuation)  #data cleaning\n",
    "frequency_Of_Words=Counter(words_cleaned)                           #getting the frequency of each word\n",
    "d=frequency_Of_Words.most_common(len(frequency_Of_Words))           #getting all the words sorted by their frequencies\n",
    "\n",
    "frequency_Of_Words.most_common(20)                                  #just printing first 20 elements of the dictionary"
   ]
  },
  {
   "cell_type": "code",
   "execution_count": null,
   "metadata": {
    "collapsed": true
   },
   "outputs": [],
   "source": [
    "#Writing all the data to a csv"
   ]
  },
  {
   "cell_type": "code",
   "execution_count": 127,
   "metadata": {
    "collapsed": false
   },
   "outputs": [
    {
     "data": {
      "text/html": [
       "<div>\n",
       "<table border=\"1\" class=\"dataframe\">\n",
       "  <thead>\n",
       "    <tr style=\"text-align: right;\">\n",
       "      <th></th>\n",
       "      <th>Word</th>\n",
       "      <th>Rank</th>\n",
       "      <th>Frequency</th>\n",
       "    </tr>\n",
       "  </thead>\n",
       "  <tbody>\n",
       "    <tr>\n",
       "      <th>0</th>\n",
       "      <td>to</td>\n",
       "      <td>1</td>\n",
       "      <td>5183</td>\n",
       "    </tr>\n",
       "    <tr>\n",
       "      <th>1</th>\n",
       "      <td>the</td>\n",
       "      <td>2</td>\n",
       "      <td>4844</td>\n",
       "    </tr>\n",
       "    <tr>\n",
       "      <th>2</th>\n",
       "      <td>and</td>\n",
       "      <td>3</td>\n",
       "      <td>4672</td>\n",
       "    </tr>\n",
       "    <tr>\n",
       "      <th>3</th>\n",
       "      <td>of</td>\n",
       "      <td>4</td>\n",
       "      <td>4279</td>\n",
       "    </tr>\n",
       "    <tr>\n",
       "      <th>4</th>\n",
       "      <td>I</td>\n",
       "      <td>5</td>\n",
       "      <td>3178</td>\n",
       "    </tr>\n",
       "  </tbody>\n",
       "</table>\n",
       "</div>"
      ],
      "text/plain": [
       "  Word  Rank  Frequency\n",
       "0   to     1       5183\n",
       "1  the     2       4844\n",
       "2  and     3       4672\n",
       "3   of     4       4279\n",
       "4    I     5       3178"
      ]
     },
     "execution_count": 127,
     "metadata": {},
     "output_type": "execute_result"
    }
   ],
   "source": [
    "import csv                                                                         \n",
    "import pandas as pd\n",
    "\n",
    "i=1\n",
    "with open('zipfs_law.csv','a') as myfile:                                        #opening csv\n",
    "    writer = csv.writer(myfile, quoting=csv.QUOTE_MINIMAL, lineterminator='\\n')  \n",
    "    writer.writerow([\"Word\",\"Rank\",\"Frequency\"])                                 #giving titles to columns\n",
    "    \n",
    "with open('zipfs_law.csv','a') as myfile:\n",
    "    writer = csv.writer(myfile,quoting=csv.QUOTE_MINIMAL, lineterminator='\\n')\n",
    "    for x in d:\n",
    "        writer.writerow([x[0],i,x[1]])                                           #writing all the data to the csv\n",
    "        i+=1\n",
    "\n",
    "df=pd.read_csv('zipfs_law.csv')\n",
    "df.head()"
   ]
  },
  {
   "cell_type": "code",
   "execution_count": null,
   "metadata": {
    "collapsed": true
   },
   "outputs": [],
   "source": [
    "# plotting a log-log graph to prove Zipf's Law"
   ]
  },
  {
   "cell_type": "code",
   "execution_count": 129,
   "metadata": {
    "collapsed": false
   },
   "outputs": [
    {
     "data": {
      "image/png": "[encoded data removed]",
      "text/plain": [
       "<matplotlib.figure.Figure at 0x18c6c978978>"
      ]
     },
     "metadata": {},
     "output_type": "display_data"
    }
   ],
   "source": [
    "import matplotlib.pyplot as plt                                                  #importing matlpotlib\n",
    "import csv            \n",
    "from math import log\n",
    "\n",
    "def convertList(list_String):                                                    #function to convert list of values to log values \n",
    "    listin=list_String[1:]\n",
    "    listin=[int(i) for i in listin]\n",
    "    loglist=[log(xi,10) for xi in listin]\n",
    "    return loglist\n",
    "\n",
    "x=[]\n",
    "y=[]\n",
    "\n",
    "with open('zipfs_law.csv','r') as csvfile:\n",
    "    rows = csv.reader(csvfile)\n",
    "    for row in rows:\n",
    "        x.append(row[1])                                                          #appending data to x's list\n",
    "        y.append(row[2])                                                          #appending data to x's list\n",
    "\n",
    "finalx = convertList(x)                                                           #creating a list of log values   \n",
    "finaly = convertList(y)                                     \n",
    "\n",
    "plt.plot(finalx,finaly, label='log-log plot')                                     #plotting an x,y plot of log values of x & y\n",
    "plt.xlabel('Rank')\n",
    "plt.ylabel('Frequency')\n",
    "plt.title(\"Zipf's Law log-log Plot(Rank Vs Frequency)\")\n",
    "plt.legend()\n",
    "plt.show()"
   ]
  },
  {
   "cell_type": "code",
   "execution_count": null,
   "metadata": {
    "collapsed": false
   },
   "outputs": [],
   "source": []
  }
 ],
 "metadata": {
  "kernelspec": {
   "display_name": "Python 3",
   "language": "python",
   "name": "python3"
  },
  "language_info": {
   "codemirror_mode": {
    "name": "ipython",
    "version": 3
   },
   "file_extension": ".py",
   "mimetype": "text/x-python",
   "name": "python",
   "nbconvert_exporter": "python",
   "pygments_lexer": "ipython3",
   "version": "3.6.0"
  }
 },
 "nbformat": 4,
 "nbformat_minor": 2
}
