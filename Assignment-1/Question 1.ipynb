{
 "cells": [
  {
   "cell_type": "markdown",
   "metadata": {},
   "source": [
    "# Question 1"
   ]
  },
  {
   "cell_type": "markdown",
   "metadata": {},
   "source": [
    "# 1.1 Under package Gutenberg, see what files are in it.\n"
   ]
  },
  {
   "cell_type": "code",
   "execution_count": 11,
   "metadata": {
    "collapsed": false
   },
   "outputs": [
    {
     "data": {
      "text/plain": [
       "['austen-emma.txt',\n",
       " 'austen-persuasion.txt',\n",
       " 'austen-sense.txt',\n",
       " 'bible-kjv.txt',\n",
       " 'blake-poems.txt',\n",
       " 'bryant-stories.txt',\n",
       " 'burgess-busterbrown.txt',\n",
       " 'carroll-alice.txt',\n",
       " 'chesterton-ball.txt',\n",
       " 'chesterton-brown.txt',\n",
       " 'chesterton-thursday.txt',\n",
       " 'edgeworth-parents.txt',\n",
       " 'melville-moby_dick.txt',\n",
       " 'milton-paradise.txt',\n",
       " 'shakespeare-caesar.txt',\n",
       " 'shakespeare-hamlet.txt',\n",
       " 'shakespeare-macbeth.txt',\n",
       " 'whitman-leaves.txt']"
      ]
     },
     "execution_count": 11,
     "metadata": {},
     "output_type": "execute_result"
    }
   ],
   "source": [
    "from nltk.corpus import gutenberg                 #importing nltk\n",
    "gutenberg.fileids()                               #the file identifiers in this corpus"
   ]
  },
  {
   "cell_type": "markdown",
   "metadata": {},
   "source": [
    "# 1.2 Find out how many words and how many unique words in file 'austen-persuasion.txt'.\n"
   ]
  },
  {
   "cell_type": "code",
   "execution_count": 12,
   "metadata": {
    "collapsed": false
   },
   "outputs": [
    {
     "name": "stdout",
     "output_type": "stream",
     "text": [
      "The total number of words in austen-persuasion.txt are 98171\n",
      "The unique number of words in austen-persuasion.txt are 6132\n"
     ]
    }
   ],
   "source": [
    "persuasion_total = len(nltk.corpus.gutenberg.words('austen-persuasion.txt'))               #it gives words in a list & its count\n",
    "print (\"The total number of words in austen-persuasion.txt are \" + str(persuasion_total))  #print total no. of words\n",
    "persuasion_unique = len(set(nltk.corpus.gutenberg.words('austen-persuasion.txt')))         #it gives unique words in a list & its count\n",
    "print (\"The unique number of words in austen-persuasion.txt are \" + str(persuasion_unique))#print no. of unique words"
   ]
  },
  {
   "cell_type": "markdown",
   "metadata": {},
   "source": [
    "# 1.3 Calculate the frequency for each words and show the top 10 most frequent words and their frequency."
   ]
  },
  {
   "cell_type": "code",
   "execution_count": 18,
   "metadata": {
    "collapsed": false
   },
   "outputs": [
    {
     "data": {
      "text/plain": [
       "[(',', 6750),\n",
       " ('the', 3120),\n",
       " ('to', 2775),\n",
       " ('.', 2741),\n",
       " ('and', 2739),\n",
       " ('of', 2564),\n",
       " ('a', 1529),\n",
       " ('in', 1346),\n",
       " ('was', 1330),\n",
       " (';', 1290)]"
      ]
     },
     "execution_count": 18,
     "metadata": {},
     "output_type": "execute_result"
    }
   ],
   "source": [
    "from collections import Counter\n",
    "words_total = nltk.corpus.gutenberg.words('austen-persuasion.txt')\n",
    "for x in words_total:\n",
    "    x.lower()\n",
    "count_of_words = Counter(words_total)\n",
    "count_of_words.most_common(10)\n"
   ]
  }
 ],
 "metadata": {
  "kernelspec": {
   "display_name": "Python 3",
   "language": "python",
   "name": "python3"
  },
  "language_info": {
   "codemirror_mode": {
    "name": "ipython",
    "version": 3
   },
   "file_extension": ".py",
   "mimetype": "text/x-python",
   "name": "python",
   "nbconvert_exporter": "python",
   "pygments_lexer": "ipython3",
   "version": "3.6.0"
  }
 },
 "nbformat": 4,
 "nbformat_minor": 2
}
