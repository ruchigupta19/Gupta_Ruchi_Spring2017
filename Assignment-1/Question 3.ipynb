{
 "cells": [
  {
   "cell_type": "markdown",
   "metadata": {},
   "source": [
    "# Question 3"
   ]
  },
  {
   "cell_type": "markdown",
   "metadata": {},
   "source": [
    "# 3.1 Under package Webtext, see what files are in it.\n"
   ]
  },
  {
   "cell_type": "code",
   "execution_count": 1,
   "metadata": {
    "collapsed": false
   },
   "outputs": [
    {
     "data": {
      "text/plain": [
       "['firefox.txt',\n",
       " 'grail.txt',\n",
       " 'overheard.txt',\n",
       " 'pirates.txt',\n",
       " 'singles.txt',\n",
       " 'wine.txt']"
      ]
     },
     "execution_count": 1,
     "metadata": {},
     "output_type": "execute_result"
    }
   ],
   "source": [
    "from nltk.corpus import webtext\n",
    "webtext.fileids()                       #will print all the file identifiers"
   ]
  },
  {
   "cell_type": "markdown",
   "metadata": {},
   "source": [
    "# 3.2 Get content in file 'pirates.txt'.\n"
   ]
  },
  {
   "cell_type": "code",
   "execution_count": 3,
   "metadata": {
    "collapsed": false
   },
   "outputs": [
    {
     "name": "stdout",
     "output_type": "stream",
     "text": [
      "******************************************************************************************************************************\n",
      "Raw text is \n",
      "PIRATES OF THE CARRIBEAN: DEAD MAN'S CHE\n",
      "******************************************************************************************************************************\n",
      "words are \n",
      "['PIRATES', 'OF', 'THE', 'CARRIBEAN', ':', 'DEAD', 'MAN', \"'\", 'S', 'CHEST']\n"
     ]
    }
   ],
   "source": [
    "pirates_raw = webtext.raw('pirates.txt')\n",
    "pirates_words = webtext.words('pirates.txt')\n",
    "pirates_sents = webtext.sents('pirates.txt')\n",
    "print(\"******\"*21)\n",
    "print(\"Raw text is \")\n",
    "print(pirates_raw[:40])\n",
    "print(\"******\"*21)\n",
    "print(\"words are \")\n",
    "print(pirates_words[:10])\n"
   ]
  },
  {
   "cell_type": "markdown",
   "metadata": {},
   "source": [
    "# 3.3 According to the number of lines for Jack Sparrow and Will Turner, find out who is the real leading man in this movie.\n"
   ]
  },
  {
   "cell_type": "code",
   "execution_count": 11,
   "metadata": {
    "collapsed": false
   },
   "outputs": [
    {
     "name": "stdout",
     "output_type": "stream",
     "text": [
      "TOTAL NUMBER OF LINES JACK SPARROW APPEARED 193\n",
      "TOTAL NUMBER OF lines Will TURNER APPEARED 133\n",
      "JACK SPARROW IS THE REAL LEADING MAN\n"
     ]
    }
   ],
   "source": [
    "pirates_sents = webtext.sents('pirates.txt')\n",
    "jack_present=len([word for word in webtext.words('pirates.txt') if word.startswith('SPARROW')]) #count total no. of Jack appearance\n",
    "print(\"TOTAL NUMBER OF LINES JACK SPARROW APPEARED\",jack_present)\n",
    "will_present=len([word for word in webtext.words('pirates.txt') if word.startswith('TURNER')])  #count total no. of Will appearance\n",
    "print(\"TOTAL NUMBER OF lines Will TURNER APPEARED\",will_present)\n",
    "if(will_present<jack_present):\n",
    "    print(\"JACK SPARROW IS THE REAL LEADING MAN\")\n",
    "else:\n",
    "    print(\"Will TURNER IS THE REAL LEADING MAN\")"
   ]
  }
 ],
 "metadata": {
  "kernelspec": {
   "display_name": "Python 3",
   "language": "python",
   "name": "python3"
  },
  "language_info": {
   "codemirror_mode": {
    "name": "ipython",
    "version": 3
   },
   "file_extension": ".py",
   "mimetype": "text/x-python",
   "name": "python",
   "nbconvert_exporter": "python",
   "pygments_lexer": "ipython3",
   "version": "3.6.0"
  }
 },
 "nbformat": 4,
 "nbformat_minor": 2
}
