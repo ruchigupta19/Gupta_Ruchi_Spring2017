{
 "cells": [
  {
   "cell_type": "markdown",
   "metadata": {},
   "source": [
    "# Question 6"
   ]
  },
  {
   "cell_type": "markdown",
   "metadata": {},
   "source": [
    "# 6.1 Under Inaugural Address package, For every president, find out how many unique words they used in speech. \n",
    "\n"
   ]
  },
  {
   "cell_type": "code",
   "execution_count": 46,
   "metadata": {
    "collapsed": false
   },
   "outputs": [
    {
     "name": "stdout",
     "output_type": "stream",
     "text": [
      "1789-Washington.txt\n",
      "1793-Washington.txt\n",
      "1797-Adams.txt\n",
      "1801-Jefferson.txt\n",
      "1805-Jefferson.txt\n",
      "1809-Madison.txt\n",
      "1813-Madison.txt\n",
      "1817-Monroe.txt\n",
      "1821-Monroe.txt\n",
      "1825-Adams.txt\n",
      "1829-Jackson.txt\n",
      "1833-Jackson.txt\n",
      "1837-VanBuren.txt\n",
      "1841-Harrison.txt\n",
      "1845-Polk.txt\n",
      "1849-Taylor.txt\n",
      "1853-Pierce.txt\n",
      "1857-Buchanan.txt\n",
      "1861-Lincoln.txt\n",
      "1865-Lincoln.txt\n",
      "1869-Grant.txt\n",
      "1873-Grant.txt\n",
      "1877-Hayes.txt\n",
      "1881-Garfield.txt\n",
      "1885-Cleveland.txt\n",
      "1889-Harrison.txt\n",
      "1893-Cleveland.txt\n",
      "1897-McKinley.txt\n",
      "1901-McKinley.txt\n",
      "1905-Roosevelt.txt\n",
      "1909-Taft.txt\n",
      "1913-Wilson.txt\n",
      "1917-Wilson.txt\n",
      "1921-Harding.txt\n",
      "1925-Coolidge.txt\n",
      "1929-Hoover.txt\n",
      "1933-Roosevelt.txt\n",
      "1937-Roosevelt.txt\n",
      "1941-Roosevelt.txt\n",
      "1945-Roosevelt.txt\n",
      "1949-Truman.txt\n",
      "1953-Eisenhower.txt\n",
      "1957-Eisenhower.txt\n",
      "1961-Kennedy.txt\n",
      "1965-Johnson.txt\n",
      "1969-Nixon.txt\n",
      "1973-Nixon.txt\n",
      "1977-Carter.txt\n",
      "1981-Reagan.txt\n",
      "1985-Reagan.txt\n",
      "1989-Bush.txt\n",
      "1993-Clinton.txt\n",
      "1997-Clinton.txt\n",
      "2001-Bush.txt\n",
      "2005-Bush.txt\n",
      "2009-Obama.txt\n"
     ]
    }
   ],
   "source": [
    "from nltk.corpus import inaugural     #import inaugural\n",
    "fileids_inaugural=inaugural.fileids()\n",
    "for fileid_inaugural in fileids_inaugural:\n",
    "    print(fileid_inaugural)              #printing all file ids"
   ]
  },
  {
   "cell_type": "code",
   "execution_count": 47,
   "metadata": {
    "collapsed": false
   },
   "outputs": [
    {
     "name": "stdout",
     "output_type": "stream",
     "text": [
      "Pierce\n",
      "Hayes\n",
      "McKinley\n",
      "Clinton\n",
      "Monroe\n",
      "Washington\n",
      "Coolidge\n",
      "Eisenhower\n",
      "Polk\n",
      "Taft\n",
      "Lincoln\n",
      "Nixon\n",
      "Madison\n",
      "Garfield\n",
      "Adams\n",
      "VanBuren\n",
      "Jackson\n",
      "Carter\n",
      "Hoover\n",
      "Harding\n",
      "Reagan\n",
      "Buchanan\n",
      "Jefferson\n",
      "Taylor\n",
      "Obama\n",
      "Grant\n",
      "Kennedy\n",
      "Wilson\n",
      "Johnson\n",
      "Harrison\n",
      "Bush\n",
      "Truman\n",
      "Roosevelt\n",
      "Cleveland\n"
     ]
    }
   ],
   "source": [
    "def remove_extra(a):\n",
    "    return a[5:-4]                                #function to remove years and .txt\n",
    "\n",
    "after_removing_extras=[remove_extra(b) for b in fileids_inaugural]\n",
    "unique_Presidents=(set(after_removing_extras))\n",
    "for unique_President in unique_Presidents:\n",
    "    print(unique_President)                       #prints unique presidents\n"
   ]
  },
  {
   "cell_type": "code",
   "execution_count": 40,
   "metadata": {
    "collapsed": false
   },
   "outputs": [
    {
     "name": "stdout",
     "output_type": "stream",
     "text": [
      "{'1789-Washington.txt': 628, '1793-Washington.txt': 96, '1797-Adams.txt': 828, '1801-Jefferson.txt': 717, '1805-Jefferson.txt': 806, '1809-Madison.txt': 537, '1813-Madison.txt': 542, '1817-Monroe.txt': 1041, '1821-Monroe.txt': 1265, '1825-Adams.txt': 1007, '1829-Jackson.txt': 517, '1833-Jackson.txt': 502, '1837-VanBuren.txt': 1318, '1841-Harrison.txt': 1893, '1845-Polk.txt': 1333, '1849-Taylor.txt': 499, '1853-Pierce.txt': 1168, '1857-Buchanan.txt': 948, '1861-Lincoln.txt': 1078, '1865-Lincoln.txt': 363, '1869-Grant.txt': 489, '1873-Grant.txt': 553, '1877-Hayes.txt': 832, '1881-Garfield.txt': 1022, '1885-Cleveland.txt': 676, '1889-Harrison.txt': 1358, '1893-Cleveland.txt': 820, '1897-McKinley.txt': 1239, '1901-McKinley.txt': 860, '1905-Roosevelt.txt': 405, '1909-Taft.txt': 1439, '1913-Wilson.txt': 661, '1917-Wilson.txt': 549, '1921-Harding.txt': 1170, '1925-Coolidge.txt': 1221, '1929-Hoover.txt': 1087, '1933-Roosevelt.txt': 746, '1937-Roosevelt.txt': 732, '1941-Roosevelt.txt': 527, '1945-Roosevelt.txt': 280, '1949-Truman.txt': 781, '1953-Eisenhower.txt': 899, '1957-Eisenhower.txt': 622, '1961-Kennedy.txt': 570, '1965-Johnson.txt': 571, '1969-Nixon.txt': 743, '1973-Nixon.txt': 545, '1977-Carter.txt': 529, '1981-Reagan.txt': 907, '1985-Reagan.txt': 924, '1989-Bush.txt': 793, '1993-Clinton.txt': 643, '1997-Clinton.txt': 774, '2001-Bush.txt': 622, '2005-Bush.txt': 783, '2009-Obama.txt': 938}\n"
     ]
    }
   ],
   "source": [
    "d= {}                                      # creating an empty dictionary\n",
    "for x in inaugural.fileids():\n",
    "    d[x]=len(set(inaugural.words(x)))\n",
    "print(d)                                   # printing all the speeches with their unique words"
   ]
  },
  {
   "cell_type": "code",
   "execution_count": 48,
   "metadata": {
    "collapsed": false
   },
   "outputs": [
    {
     "name": "stdout",
     "output_type": "stream",
     "text": [
      "{'Pierce': 1168, 'Hayes': 832, 'McKinley': 2099, 'Clinton': 1417, 'Monroe': 2306, 'Washington': 724, 'Coolidge': 1221, 'Eisenhower': 1521, 'Polk': 1333, 'Taft': 1439, 'Lincoln': 1441, 'Nixon': 1288, 'Madison': 1079, 'Garfield': 1022, 'Adams': 1835, 'VanBuren': 1318, 'Jackson': 1019, 'Carter': 529, 'Hoover': 1087, 'Harding': 1170, 'Reagan': 1831, 'Buchanan': 948, 'Jefferson': 1523, 'Taylor': 499, 'Obama': 938, 'Grant': 1042, 'Kennedy': 570, 'Wilson': 1210, 'Johnson': 571, 'Harrison': 3251, 'Bush': 2198, 'Truman': 781, 'Roosevelt': 2690, 'Cleveland': 1496}\n"
     ]
    }
   ],
   "source": [
    "d= {}\n",
    "newd ={}                                            #created a new Dictionary \n",
    "for x in inaugural.fileids():\n",
    "    d[x]=len(set(inaugural.words(x)))\n",
    "for a in unique_Presidents:\n",
    "    count=0;\n",
    "    for a_key in d.keys():\n",
    "        if a in a_key:\n",
    "            count=count+len(set(inaugural.words(a_key)))\n",
    "        newd[a]=count\n",
    "print(newd)                                         # printing unique presidents and their unique number of words in speeches"
   ]
  }
 ],
 "metadata": {
  "kernelspec": {
   "display_name": "Python 3",
   "language": "python",
   "name": "python3"
  },
  "language_info": {
   "codemirror_mode": {
    "name": "ipython",
    "version": 3
   },
   "file_extension": ".py",
   "mimetype": "text/x-python",
   "name": "python",
   "nbconvert_exporter": "python",
   "pygments_lexer": "ipython3",
   "version": "3.6.0"
  }
 },
 "nbformat": 4,
 "nbformat_minor": 2
}
