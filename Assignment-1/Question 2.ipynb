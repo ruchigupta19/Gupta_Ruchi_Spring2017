{
 "cells": [
  {
   "cell_type": "markdown",
   "metadata": {},
   "source": [
    "# Question 2"
   ]
  },
  {
   "cell_type": "markdown",
   "metadata": {},
   "source": [
    "# 2.1 Under package Gutenberg get content from file 'melville-moby_dick.txt.' (HINT: Words? Raw?)\n"
   ]
  },
  {
   "cell_type": "code",
   "execution_count": 17,
   "metadata": {
    "collapsed": false
   },
   "outputs": [
    {
     "name": "stdout",
     "output_type": "stream",
     "text": [
      "******************************************************************************************************************************\n",
      "Raw text is \n",
      "[Moby Dick by Herman Melville 1851]\r\n",
      "\r\n",
      "\r\n",
      "******************************************************************************************************************************\n",
      "words are \n",
      "['[', 'Moby', 'Dick', 'by', 'Herman', 'Melville', '1851', ']', 'ETYMOLOGY', '.']\n"
     ]
    }
   ],
   "source": [
    "from nltk.corpus import gutenberg\n",
    "gutenberg.fileids()\n",
    "melville_raw = gutenberg.raw('melville-moby_dick.txt')\n",
    "melville_words = gutenberg.words('melville-moby_dick.txt')\n",
    "melville_sents = gutenberg.sents('melville-moby_dick.txt')\n",
    "print(\"******\"*21)\n",
    "print(\"Raw text is \")\n",
    "print(melville_raw[:40])\n",
    "print(\"******\"*21)\n",
    "print(\"words are \")\n",
    "print(melville_words[:10])"
   ]
  },
  {
   "cell_type": "markdown",
   "metadata": {},
   "source": [
    "# 2.2 Find out frequency of 26 characters. (Turn uppercase into lowercase and count as one character)\n"
   ]
  },
  {
   "cell_type": "code",
   "execution_count": 24,
   "metadata": {
    "collapsed": false
   },
   "outputs": [
    {
     "data": {
      "text/plain": [
       "[('a', 77916),\n",
       " ('b', 16877),\n",
       " ('c', 22507),\n",
       " ('d', 38219),\n",
       " ('e', 117092),\n",
       " ('f', 20833),\n",
       " ('g', 20820),\n",
       " ('h', 62896),\n",
       " ('i', 65434),\n",
       " ('j', 1082),\n",
       " ('k', 8059),\n",
       " ('l', 42793),\n",
       " ('m', 23277),\n",
       " ('n', 65617),\n",
       " ('o', 69326),\n",
       " ('p', 17255),\n",
       " ('q', 1556),\n",
       " ('r', 52134),\n",
       " ('s', 64231),\n",
       " ('t', 87996),\n",
       " ('u', 26697),\n",
       " ('v', 8598),\n",
       " ('w', 22222),\n",
       " ('x', 1030),\n",
       " ('y', 16872),\n",
       " ('z', 632)]"
      ]
     },
     "execution_count": 24,
     "metadata": {},
     "output_type": "execute_result"
    }
   ],
   "source": [
    "import string\n",
    "from collections import Counter\n",
    "from nltk.corpus import gutenberg\n",
    "gutenberg.fileids()\n",
    "melville_raw = gutenberg.raw('melville-moby_dick.txt')\n",
    "string_punctuation = string.punctuation\n",
    "ignoreChar=['\\r','\\n','',' ']\n",
    "nums=['0','1','2','3','4','5','6','7','8','9']\n",
    "characters_only = [i for i in melville_raw.lower() if i not in string_punctuation if i not in ignoreChar if i not in nums] # remove extra characters\n",
    "count_of_characters = Counter(characters_only)\n",
    "sorted(count_of_characters.items())"
   ]
  },
  {
   "cell_type": "markdown",
   "metadata": {},
   "source": [
    "# 2.3 List all 26 characters in order base on their frequency. (From most frequent to least frequent)"
   ]
  },
  {
   "cell_type": "code",
   "execution_count": 23,
   "metadata": {
    "collapsed": false
   },
   "outputs": [
    {
     "data": {
      "text/plain": [
       "[('e', 117092),\n",
       " ('t', 87996),\n",
       " ('a', 77916),\n",
       " ('o', 69326),\n",
       " ('n', 65617),\n",
       " ('i', 65434),\n",
       " ('s', 64231),\n",
       " ('h', 62896),\n",
       " ('r', 52134),\n",
       " ('l', 42793),\n",
       " ('d', 38219),\n",
       " ('u', 26697),\n",
       " ('m', 23277),\n",
       " ('c', 22507),\n",
       " ('w', 22222),\n",
       " ('f', 20833),\n",
       " ('g', 20820),\n",
       " ('p', 17255),\n",
       " ('b', 16877),\n",
       " ('y', 16872),\n",
       " ('v', 8598),\n",
       " ('k', 8059),\n",
       " ('q', 1556),\n",
       " ('j', 1082),\n",
       " ('x', 1030),\n",
       " ('z', 632)]"
      ]
     },
     "execution_count": 23,
     "metadata": {},
     "output_type": "execute_result"
    }
   ],
   "source": [
    "import string\n",
    "from collections import Counter\n",
    "from nltk.corpus import gutenberg\n",
    "gutenberg.fileids()\n",
    "melville_raw = gutenberg.raw('melville-moby_dick.txt')\n",
    "string_punctuation = string.punctuation\n",
    "ignoreChar=['\\r','\\n','',' ']\n",
    "nums=['0','1','2','3','4','5','6','7','8','9']\n",
    "characters_only = [i for i in melville_raw.lower() if i not in string_punctuation if i not in ignoreChar if i not in nums] # remove extra characters\n",
    "count_of_characters = Counter(characters_only)\n",
    "count_of_characters.most_common(26) #lists out all the characters sorted by their occurence"
   ]
  }
 ],
 "metadata": {
  "kernelspec": {
   "display_name": "Python 3",
   "language": "python",
   "name": "python3"
  },
  "language_info": {
   "codemirror_mode": {
    "name": "ipython",
    "version": 3
   },
   "file_extension": ".py",
   "mimetype": "text/x-python",
   "name": "python",
   "nbconvert_exporter": "python",
   "pygments_lexer": "ipython3",
   "version": "3.6.0"
  }
 },
 "nbformat": 4,
 "nbformat_minor": 2
}
