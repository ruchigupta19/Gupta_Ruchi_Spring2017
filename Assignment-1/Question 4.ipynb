{
 "cells": [
  {
   "cell_type": "markdown",
   "metadata": {},
   "source": [
    "# Question 4"
   ]
  },
  {
   "cell_type": "markdown",
   "metadata": {},
   "source": [
    "# 4.1 Under package nps_chat, see what files are in it.\n"
   ]
  },
  {
   "cell_type": "code",
   "execution_count": 4,
   "metadata": {
    "collapsed": false
   },
   "outputs": [
    {
     "data": {
      "text/plain": [
       "['10-19-20s_706posts.xml',\n",
       " '10-19-30s_705posts.xml',\n",
       " '10-19-40s_686posts.xml',\n",
       " '10-19-adults_706posts.xml',\n",
       " '10-24-40s_706posts.xml',\n",
       " '10-26-teens_706posts.xml',\n",
       " '11-06-adults_706posts.xml',\n",
       " '11-08-20s_705posts.xml',\n",
       " '11-08-40s_706posts.xml',\n",
       " '11-08-adults_705posts.xml',\n",
       " '11-08-teens_706posts.xml',\n",
       " '11-09-20s_706posts.xml',\n",
       " '11-09-40s_706posts.xml',\n",
       " '11-09-adults_706posts.xml',\n",
       " '11-09-teens_706posts.xml']"
      ]
     },
     "execution_count": 4,
     "metadata": {},
     "output_type": "execute_result"
    }
   ],
   "source": [
    "import nltk\n",
    "from nltk.corpus import nps_chat\n",
    "nltk.corpus.nps_chat.fileids()"
   ]
  },
  {
   "cell_type": "markdown",
   "metadata": {},
   "source": [
    "# 4.2 Find 'user121' and see how many posts he posted in all.\n"
   ]
  },
  {
   "cell_type": "code",
   "execution_count": 5,
   "metadata": {
    "collapsed": false
   },
   "outputs": [
    {
     "name": "stdout",
     "output_type": "stream",
     "text": [
      "number of posts by User121 is \n",
      "132\n"
     ]
    }
   ],
   "source": [
    "chatroom = nps_chat.xml_posts()\n",
    "count = 0\n",
    "chatroom_length = len(nps_chat.xml_posts())\n",
    "for i in range(chatroom_length):\n",
    "    check = chatroom[i].get('user')\n",
    "    if \"User121\" in check:\n",
    "        count = count + 1\n",
    "    else:\n",
    "        continue\n",
    "print(\"number of posts by User121 is \")\n",
    "print(count)"
   ]
  },
  {
   "cell_type": "markdown",
   "metadata": {},
   "source": [
    "# 4.3 Find out how many unique user in each age range group. (20s, 30s,...)(Hint: files' name)\n"
   ]
  },
  {
   "cell_type": "code",
   "execution_count": 6,
   "metadata": {
    "collapsed": false
   },
   "outputs": [
    {
     "name": "stdout",
     "output_type": "stream",
     "text": [
      "20s = \n",
      "162\n",
      "30s = \n",
      "44\n",
      "40s = \n",
      "80\n",
      "adults = \n",
      "138\n",
      "teens = \n",
      "206\n"
     ]
    }
   ],
   "source": [
    "chatroom = nps_chat.xml_posts()\n",
    "output = []\n",
    "output_20s = []\n",
    "output_30s = []\n",
    "output_40s = []\n",
    "output_adults = []\n",
    "output_teens = []\n",
    "chatroom_length = len(nps_chat.xml_posts())\n",
    "for i in range(chatroom_length):\n",
    "    check = chatroom[i].get('user')\n",
    "    output.append(check)\n",
    "output = list(set(output))\n",
    "output_length = len(output)\n",
    "for i in range(output_length):\n",
    "    check = output[i]\n",
    "    if \"20s\" in check:\n",
    "        check = check.split('User')\n",
    "        output_20s.append(check[1])\n",
    "    elif \"30s\" in check:\n",
    "        check = check.split('User')\n",
    "        output_30s.append(check[1])\n",
    "    elif \"40s\" in check:\n",
    "        check = check.split('User')\n",
    "        output_40s.append(check[1])\n",
    "    elif \"adults\" in check:\n",
    "        check = check.split('User')\n",
    "        output_adults.append(check[1])\n",
    "    elif \"teens\" in check:\n",
    "        check = check.split('User')\n",
    "        output_teens.append(check[1])\n",
    "output_20s = list(set(output_20s))\n",
    "output_30s = list(set(output_30s))\n",
    "output_40s = list(set(output_40s))\n",
    "output_adults = list(set(output_adults))\n",
    "output_teens = list(set(output_teens))\n",
    "print(\"20s = \") \n",
    "print(len(output_20s))\n",
    "print(\"30s = \")\n",
    "print(len(output_30s))\n",
    "print(\"40s = \")\n",
    "print(len(output_40s))\n",
    "print(\"adults = \")\n",
    "print(len(output_adults))\n",
    "print(\"teens = \")\n",
    "print(len(output_teens))"
   ]
  },
  {
   "cell_type": "code",
   "execution_count": null,
   "metadata": {
    "collapsed": true
   },
   "outputs": [],
   "source": []
  }
 ],
 "metadata": {
  "kernelspec": {
   "display_name": "Python 3",
   "language": "python",
   "name": "python3"
  },
  "language_info": {
   "codemirror_mode": {
    "name": "ipython",
    "version": 3
   },
   "file_extension": ".py",
   "mimetype": "text/x-python",
   "name": "python",
   "nbconvert_exporter": "python",
   "pygments_lexer": "ipython3",
   "version": "3.6.0"
  }
 },
 "nbformat": 4,
 "nbformat_minor": 2
}
